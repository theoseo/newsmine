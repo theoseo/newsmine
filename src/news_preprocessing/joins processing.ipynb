{
 "cells": [
  {
   "cell_type": "code",
   "execution_count": 1,
   "metadata": {
    "collapsed": true
   },
   "outputs": [],
   "source": [
    "import glob\n",
    "\n",
    "files = glob.glob('./data/2017/*/joins/*.json')"
   ]
  },
  {
   "cell_type": "code",
   "execution_count": 2,
   "metadata": {
    "collapsed": true
   },
   "outputs": [],
   "source": [
    "import json\n",
    "def read_json_file(path_to_file):\n",
    "    with open(path_to_file) as p:\n",
    "        rows=[json.loads(line) for line in p]\n",
    "    return rows"
   ]
  },
  {
   "cell_type": "code",
   "execution_count": 3,
   "metadata": {
    "collapsed": true
   },
   "outputs": [],
   "source": [
    "import pandas as pd\n",
    "\n",
    "data=[]\n",
    "for path in files:\n",
    "    data.extend(read_json_file(path))\n",
    "\n",
    "df = pd.DataFrame(data)"
   ]
  },
  {
   "cell_type": "code",
   "execution_count": 4,
   "metadata": {
    "collapsed": true
   },
   "outputs": [],
   "source": [
    "df.drop(['comments','image','naver_section','naver_url','org_url','time','vod'], axis = 1, inplace = True)"
   ]
  },
  {
   "cell_type": "code",
   "execution_count": 5,
   "metadata": {
    "collapsed": true
   },
   "outputs": [],
   "source": [
    "import pandas as pd\n",
    "\n",
    "with open('./data/joins_2016.pkl', 'rb') as f1:\n",
    "    df2016 = pd.read_pickle(f1)"
   ]
  },
  {
   "cell_type": "code",
   "execution_count": 6,
   "metadata": {
    "collapsed": true
   },
   "outputs": [],
   "source": [
    "df2016.rename(columns={'content': 'article'}, inplace=True)"
   ]
  },
  {
   "cell_type": "code",
   "execution_count": 7,
   "metadata": {
    "collapsed": true
   },
   "outputs": [],
   "source": [
    "df2016.drop(['oid','aid','media','naver_count','org_count','org_url','total_count','ml_section'], axis = 1, inplace = True)"
   ]
  },
  {
   "cell_type": "code",
   "execution_count": 8,
   "metadata": {
    "collapsed": true
   },
   "outputs": [],
   "source": [
    "df=df[['date', 'title', 'article', 'section']]"
   ]
  },
  {
   "cell_type": "code",
   "execution_count": 9,
   "metadata": {
    "collapsed": true
   },
   "outputs": [],
   "source": [
    "df=df.append(df2016)\n",
    "df=df.reset_index(drop=True)\n"
   ]
  },
  {
   "cell_type": "code",
   "execution_count": 112,
   "metadata": {},
   "outputs": [
    {
     "data": {
      "text/plain": [
       "'     자유한국당 소속인 김기현(58) 울산시장은 17일 “보수 재건의 불쏘시개가 되기 위해 이번 대통령 선거엔 출마하지 않았다”고 밝혔다. 김 시장은 대선 출마설이 돌았지만 전날 마감된 자유한국당 경선 후보 등록에 응하지 않았다.     김기현 울산시장 [중앙포토]     김 시장은 이날 중앙일보와의 통화에서 “보수 진영에서 대통령 자리가 어울리지 않는 분들이 무더기로 출마하는 것을 보고 회의감이 든다”며 “보수 재건을 위한 노력이 희화화될 것 같아 대선 출마의 뜻을 접었다”고 밝혔다. 그는 이어 “보수의 가치는 대의를 존중하고 자기 이익보다 공동체 이익을 우선하고 필요할 땐 자기희생도 망설이지 않아야 하는데 이번 대통령 탄핵 사태는 자기 이익을 중시하는 정치인이 많아서 생긴 일”이라고 비판했다.   김 시장은 최근 분당한 자유한국당과 바른정당에 대해 “자유한국당은 정통 보수의 맥을 이어온 당이고 바른정당은 한 사람 한 사람이 일당 백을 하는 맨파워를 가졌다”며 “향후 보수가 단합해 중도까지 아우르는 모습으로 쇄신해야 한다”고 강조했다. 그러면서 “그 노력의 가교, 보수 재건의 불쏘시개가 되겠다. 보수는 단결해야 할 때 단합을 하는 강점이 있다”고 덧붙였다.   당내 유력 주자로 부상한 홍준표 경남지사에 대해선 “홍 지사가 당 대표일 때 당 대변인으로 호흡을 맞추기도 하고 호형호제하는 사이”라며 “홍 지사는 위기 상황 속에서 강점을 보이는 사람이다. 지금 우리나라는 경제적으로나 외교적으로나 강한 리더십이 필요한 상황인데 그 강점이 빛날 것”이라고 말했다.   김 시장은 판사 출신으로 17대, 18대, 19대 국회의원을 지냈고 자유한국당(당시 새누리당) 원내수석부대표, 정책위의장 등을 역임했다.   백민경 기자 baek.minkyung@joongang.co.kr  백민경 기자 baek.minkyung@joongang.co.kr    ▶SNS에서 만나는 중앙일보 [페이스북] [트위터] [네이버포스트]  ⓒ중앙일보(http://joongang.co.kr) and JTBC Content Hub Co., Ltd. 무단 전재 및 재배포 금지  '"
      ]
     },
     "execution_count": 112,
     "metadata": {},
     "output_type": "execute_result"
    }
   ],
   "source": [
    "article=df['article'][900].replace('▶','\\n▶').replace('\\t', '').replace('\\n', ' ')#.split('\\n')\n",
    "article"
   ]
  },
  {
   "cell_type": "code",
   "execution_count": 113,
   "metadata": {},
   "outputs": [
    {
     "data": {
      "text/plain": [
       "'     자유한국당 소속인 김기현(58) 울산시장은 17일 “보수 재건의 불쏘시개가 되기 위해 이번 대통령 선거엔 출마하지 않았다”고 밝혔다. 김 시장은 대선 출마설이 돌았지만 전날 마감된 자유한국당 경선 후보 등록에 응하지 않았다.     김기현 울산시장      김 시장은 이날 중앙일보와의 통화에서 “보수 진영에서 대통령 자리가 어울리지 않는 분들이 무더기로 출마하는 것을 보고 회의감이 든다”며 “보수 재건을 위한 노력이 희화화될 것 같아 대선 출마의 뜻을 접었다”고 밝혔다. 그는 이어 “보수의 가치는 대의를 존중하고 자기 이익보다 공동체 이익을 우선하고 필요할 땐 자기희생도 망설이지 않아야 하는데 이번 대통령 탄핵 사태는 자기 이익을 중시하는 정치인이 많아서 생긴 일”이라고 비판했다.   김 시장은 최근 분당한 자유한국당과 바른정당에 대해 “자유한국당은 정통 보수의 맥을 이어온 당이고 바른정당은 한 사람 한 사람이 일당 백을 하는 맨파워를 가졌다”며 “향후 보수가 단합해 중도까지 아우르는 모습으로 쇄신해야 한다”고 강조했다. 그러면서 “그 노력의 가교, 보수 재건의 불쏘시개가 되겠다. 보수는 단결해야 할 때 단합을 하는 강점이 있다”고 덧붙였다.   당내 유력 주자로 부상한 홍준표 경남지사에 대해선 “홍 지사가 당 대표일 때 당 대변인으로 호흡을 맞추기도 하고 호형호제하는 사이”라며 “홍 지사는 위기 상황 속에서 강점을 보이는 사람이다. 지금 우리나라는 경제적으로나 외교적으로나 강한 리더십이 필요한 상황인데 그 강점이 빛날 것”이라고 말했다.   김 시장은 판사 출신으로 17대, 18대, 19대 국회의원을 지냈고 자유한국당(당시 새누리당) 원내수석부대표, 정책위의장 등을 역임했다.'"
      ]
     },
     "execution_count": 113,
     "metadata": {},
     "output_type": "execute_result"
    }
   ],
   "source": [
    "import re\n",
    "article = re.sub(r'\\/\\/[a-zA-Z가-힣 \\n]+|{}|_flash_removeCallback\\(\\)', '', article)\n",
    "article = re.sub(r'\\[중앙[a-zA-Z가-힣 ]+\\]', '', article)\n",
    "article = re.sub(r'\\[사진 [a-zA-Z가-힣]+\\]', '', article)\n",
    "article = re.sub(r'사진=[a-zA-Z가-힣 ]+(캡처|제공)', '', article)\n",
    "article = re.sub(r'[0-9가-힣=()· ]+[a-z0-9.]+@joongang.co.kr(.*) ', '', article)\n",
    "article = re.sub(r'▶SNS에서 만나는 중앙일보(.*)', '', article)\n",
    "article = re.sub(r'\\[ⓒ 조인스랜드 (.*)\\]', '', article)\n",
    "\n",
    "article"
   ]
  },
  {
   "cell_type": "code",
   "execution_count": 123,
   "metadata": {},
   "outputs": [],
   "source": [
    "import re\n",
    "def remove_joins_extras(article):   \n",
    "    article = article.replace('▶','\\n▶').replace('\\t', '').replace('\\n', ' ')#.split('\\n')\n",
    "    article = re.sub(r'\\/\\/[a-zA-Z가-힣 \\n]+|{}|_flash_removeCallback\\(\\)', '', article)\n",
    "    article = re.sub(r'\\[중앙[a-zA-Z가-힣 ]+\\]', '', article)\n",
    "    article = re.sub(r'\\[사진 [a-zA-Z가-힣.,\\' ]+\\]', '', article)\n",
    "    article = re.sub(r'사진=[a-zA-Z가-힣 ]+(캡처|제공)', '', article)\n",
    "    article = re.sub(r'[0-9가-힣=()· ]+[a-z0-9.]+@joongang.co.kr(.*) ', '', article)\n",
    "    article = re.sub(r'▶SNS에서 만나는 중앙일보(.*)', '', article)\n",
    "    article = re.sub(r'\\[ⓒ 조인스랜드 (.*)\\]', '', article)\n",
    "\n",
    "\n",
    "    article = article.replace('\\n', ' ')\n",
    "    return article"
   ]
  },
  {
   "cell_type": "code",
   "execution_count": 124,
   "metadata": {},
   "outputs": [
    {
     "name": "stdout",
     "output_type": "stream",
     "text": [
      "       야놀자.    스마트폰으로 모텔, 호텔 등 숙박업소를 예약할 수 있도록 돕는 서비스 '야놀자'에 성매매 묵인 의혹이 일고 있다. 이에 야놀자는 보도자료를 내고 \"불법행위는 없었다\"라며 부인하고 있다.   20일 CBS는 야놀자의 프랜차이즈 가맹 숙박업체 '호텔야자'의 일부 지점이 인근 유흥업소와 연계해 성매매 장소로 사용되고 있다고 보도했다. 유흥업소를 찾은 손님이 술값을 내는 과정에서 성매매 대금을 함께 지불하면 유흥업소 직원들이 인근 '호텔야자'로 이들을 안내했다는 것이다. 성매매에 쓰이는 숙박비 대금이 기록된 것으로 추정되는 영수증도 함께 공개된 상태다.   또 이 매체는 야놀자가 일부 가맹 숙박업소의 이러한 영업행위를 알고도 묵인했다고 전하기도 했다.   스마트폰으로 서비스되는 야놀자 특성상 고객이 방에 들고 나는 것을 실시간으로 알 수 있는데, 이 정보가 고스란히 본사(야놀자) 측으로도 전송돼 불법 행위가 있다는 것을 몰랐을 리 없다는 주장도 나왔다. 현장 점검 등을 비롯한 야놀자의 가맹점 품질 관리 제도도 야놀자 측이 이러한 불법 성매매 영업 행위를 알고 있었을 것이라는 정황의 증거로 제시됐다.   하지만 야놀자 측은 이에 반박하고 있다. 보도 이후 같은 날 오후 야놀자 측은 보도자료를 내고 \"현재까지 보도와 관련한 일부 가맹점의 불법 행위가 없다\"라며 \"추후 과정에서 불법행위가 확인될 경우 가맹계약 해지는 물론 민형사상 법적 책임을 물을 것\"이라고 밝혔다.   야놀자 측은 보도자료에서 \"당사는 가맹 계약 시 불법 행위에 대한 강력한 제재안을 두고 실행 중\"이라며 \"이는 가맹 상담 시 명확히 하고 있으며, 계약서 상에도 명시돼 있다\"라고 밝혔다.   또 야놀자 측은 \"당사가 성매매 사실을 방조했다고 주장하는 내용은 모두 허위\"라며 \"개인정보보호법에 의거 가맹점 및 제휴점의 고객 정보 보호가 의무이므로, 당사는 가맹점의 CCTV 및 일지 확인이 불가능하다\"라고 밝히기도 했다.\n"
     ]
    }
   ],
   "source": [
    "print(remove_joins_extras(df['article'][27]))"
   ]
  },
  {
   "cell_type": "code",
   "execution_count": 125,
   "metadata": {},
   "outputs": [
    {
     "data": {
      "text/plain": [
       "0              Q. 신문을 보니 대선 주자들의 공약 중에 ‘전속고발권 ’폐지가 있더군요....\n",
       "1              일본 효고현 히메지시의 한 사립 어린이집에서 2세 유아에게 제공한 급식. ...\n",
       "2                김정남 암살 용의자 인도네시아 여성 시티 아이샤     김정남 암살 조...\n",
       "3                박근혜 전 대통령이 12일 서울 삼성동 자택으로 진입하는 모습.    ...\n",
       "4              한국인들이 중국에 대해 느끼는 호감도가 일본에 대해 느끼는 호감도보다 더 ...\n",
       "5                   화장하는 10대들이 늘어나면서 이를 규제하려는 학교의 제재를 두고...\n",
       "6               바른정당 대선 경선에 나선 유승민ㆍ남경필 후보가 20일 두 번째 TV 토...\n",
       "7              황교안 대통령 권한대행 국무총리가 지난 18일 화재로 소실된 인천 소래포구...\n",
       "8               대구ㆍ경북의 민심마저 보수정당을 외면했다.   중앙일보 조사연구팀의 조사...\n",
       "9              노무현 정부에서 민정수석을 지낸 전해철 더불어민주당 최고위원이 20일 자유...\n",
       "10             국민의당 안철수 후보가 ‘연대론’으로 박주선ㆍ손학규 후보에게 포위당했다. ...\n",
       "11               신동빈 롯데그룹 회장.    신동빈 롯데그룹 회장이 조금 전인 20일 ...\n",
       "12              바른정당 대선 경선에 나선 남경필 후보는 20일 “문재인 더불어민주당 후...\n",
       "13             문재인 전 대표의 ‘전두환 표창장’ 발언 논란이 커지자 문 전 대표 캠프(...\n",
       "14             문재인 전 더불어민주당 대표는 20일 이른바 ‘전두환 표창’ 논란에 대해 ...\n",
       "15               일본 도쿄 분쿄구에 자리한 니혼여자대학 캠퍼스. [니혼여자대학 홈페이지...\n",
       "16               자유한국당 최경환 의원       자유한국당 최경환 의원이 20일 자신...\n",
       "17             미ㆍ중 6자회담 수석대표가 20일 베이징에서 만나 북핵 문제를 논의했다고 ...\n",
       "18              20일 오후 4시20분께 박근혜 전 대통령의 서울 강남구 삼성동 자택 앞...\n",
       "19              자유한국당 대선 경선에 출마한 안상수 전 인천시장은 20일 오전 기자회견...\n",
       "20               6일 오후 경기 판교 스타트업 캠퍼스 사무실 벽면에 붙어 있는 스타트업...\n",
       "21              “박근혜 게이트가 터진 것은 어떻게 보면 한국 사회의 축복이다.”  이헌...\n",
       "22              겨울올림픽 개최도시 간 실리적 교류협력을 추진해 온 최문순 강원도지사의 ...\n",
       "23               경북 영주시 부석사 하늘에 나타난 환일현상.     경북 영주시 부석사...\n",
       "24               뉴욕데일리뉴스(Daily News)   미국 남성이 경찰이 되려고 면접...\n",
       "25             권오준 포스코 회장이 지난해 2월 박근혜 당시 대통령으로부터 여자 배드민턴...\n",
       "26               자신과 성매매를 한 중국인 여성의 목을 졸라 살해한 한국 남성이 경찰에...\n",
       "27               야놀자.    스마트폰으로 모텔, 호텔 등 숙박업소를 예약할 수 있도록...\n",
       "28               장진영 국민의당 대변인    스마트폰 제조사들이 라디오 기능을 일부러 ...\n",
       "29               서울 강동송파 예비군 훈련장.    군사평론가 출신 김종대 정의당 의원...\n",
       "                                ...                        \n",
       "152869            더불어민주당 대선 주자인 안희정 충남지사가 31일 새누리당을 탈당해 ...\n",
       "152870            2014년 이후 첫 발생한 포유류 조류인플루엔자(AI) 감염 의심이 ...\n",
       "152871               ▶이정훈씨 별세, 이동균(SK하이닉스 책임연구원)·창균(롯데마트...\n",
       "152872            2017년은 정유(丁酉)년이다. 닭은 여명을 알리는 짐승이다. 201...\n",
       "152873            관상학 전문가인 백재권 경북대 평생교육원 강사가 31일 새해를 맞이해...\n",
       "152874            박영수 특별검사팀이 31일 비선실세 최순실의 딸 정유라의 과제를 대신...\n",
       "152875             더불어민주당 손혜원(초선ㆍ서울 마포갑)의원이 민주당 홍보위원직을 사...\n",
       "152876             루게릭병으로 움직이는 것은 물론 말을 하는 것조차 어려워진 한 남성...\n",
       "152877             박근혜 대통령 탄핵에 반대하는 보수단체들이 오늘(31일) 진행중인 ...\n",
       "152878            매주 토요일 촛불집회 현장에서 페이스북 라이브를 통해 생생한 목소리를...\n",
       "152879            “최순실 국정 농단 사태의 원인에는 부정한 권위에 획일적으로 순종하도...\n",
       "152880            손혜원 더불어민주당 의원이 오늘(31일) 페이스북을 통해 당 홍보위원...\n",
       "152881            오늘(31일) 오후 7시부터 2016년 마지막 촛불집회인 '송박영신'...\n",
       "152882             일본 정부가 내년 2월 10일 안팎으로 한중일 정상회의를 일본 도쿄...\n",
       "152883            캐나다에서 물고기가 떼로 죽어 해변으로 밀려와 충격을 안겨주고 있다....\n",
       "152884             최순실씨의 딸 정유라의 과제를 대신 제출한 혐의로 긴급체포된 류철균...\n",
       "152885            31일 대구시 중구 동성로 대중교통전용지구에서 촛불집회가 열렸다. 박...\n",
       "152886             최순실 국정농단 의혹 사건을 수사 중인 박영수 특별검사팀이 새해 첫...\n",
       "152887            31일 대전시 서구 둔산동에서서 시민들이 박근혜 구속과 황교안 퇴진을...\n",
       "152888             경기도 포천시의 한 가정집에서 죽은 채 발견된 고양이 두 마리가 H...\n",
       "152889            올해 마지막 날, 서울 도심서 진행중인 박근혜 대통령 퇴진촉구 촛불집...\n",
       "152890             미국 국방부가 현지시간 30일 수니파 무장단체 IS의 지도자 아부 ...\n",
       "152891            31일 오후 대구 중구 대중교통전용지구에서 열린 제9차 대구시국대회에...\n",
       "152892             황교안 대통령권한대행(국무총리)이 임명한 1호 차관인 송수근 문화체...\n",
       "152893            박근혜 대통령의 퇴진을 촉구하는 촛불집회에 참가한 누적 인원이 1천만...\n",
       "152894             박근혜 대통령의 퇴진을 촉구하는 촛불집회에 참가한 누적인원이 1천만...\n",
       "152895             다른 나라 이야기로만 여겨왔던 달 탐사 한미 공동으로 본격화할 전망...\n",
       "152896            31일 오후 전북 전주시 전동 풍남문광장에서 열린 ,제8차 전북도민 ...\n",
       "152897              누구나 한 번쯤 사봤지만 끝까지 다 쓴 사람은 찾기 힘들다는 그것...\n",
       "152898            by 이재형  IMG_1180__  \"교재 쓰는 일이 직업이 될 줄 ...\n",
       "Name: article, Length: 152899, dtype: object"
      ]
     },
     "execution_count": 125,
     "metadata": {},
     "output_type": "execute_result"
    }
   ],
   "source": [
    "df['article']=df['article'].apply(lambda x: remove_joins_extras(x))\n",
    "df['article']"
   ]
  },
  {
   "cell_type": "code",
   "execution_count": 126,
   "metadata": {
    "collapsed": true
   },
   "outputs": [],
   "source": [
    "counts=df.groupby('section').size()\n",
    "sorted_counts=counts.sort_values(ascending=False)"
   ]
  },
  {
   "cell_type": "code",
   "execution_count": 127,
   "metadata": {},
   "outputs": [
    {
     "data": {
      "text/plain": [
       "section\n",
       "사회        54661\n",
       "정치        29797\n",
       "경제        28738\n",
       "지구촌       15190\n",
       "사설·칼럼      8174\n",
       "문화         7218\n",
       "여행·레저      2286\n",
       "IT소식       1715\n",
       "스포츠         551\n",
       "화제          492\n",
       "카툰          393\n",
       "사설칼럼        331\n",
       "라이프         331\n",
       "J플러스        228\n",
       "브랜드뉴스       194\n",
       "평양&         166\n",
       "스타          124\n",
       "SUNDAY       65\n",
       "국제           29\n",
       "대중문화         15\n",
       "리빙            5\n",
       "dtype: int64"
      ]
     },
     "execution_count": 127,
     "metadata": {},
     "output_type": "execute_result"
    }
   ],
   "source": [
    "sorted_counts"
   ]
  },
  {
   "cell_type": "code",
   "execution_count": 128,
   "metadata": {
    "collapsed": true
   },
   "outputs": [],
   "source": [
    "df.to_pickle('joins_all.pkl')"
   ]
  },
  {
   "cell_type": "code",
   "execution_count": 16,
   "metadata": {},
   "outputs": [
    {
     "data": {
      "text/plain": [
       "Index         2360328\n",
       "article    1181572465\n",
       "author       28497751\n",
       "date         19767747\n",
       "section      29771250\n",
       "title        59625664\n",
       "sec_idx       2360328\n",
       "dtype: int64"
      ]
     },
     "execution_count": 16,
     "metadata": {},
     "output_type": "execute_result"
    }
   ],
   "source": [
    "df.memory_usage(deep=True)"
   ]
  },
  {
   "cell_type": "code",
   "execution_count": null,
   "metadata": {
    "collapsed": true
   },
   "outputs": [],
   "source": []
  }
 ],
 "metadata": {
  "kernelspec": {
   "display_name": "Python 3",
   "language": "python",
   "name": "python3"
  },
  "language_info": {
   "codemirror_mode": {
    "name": "ipython",
    "version": 3
   },
   "file_extension": ".py",
   "mimetype": "text/x-python",
   "name": "python",
   "nbconvert_exporter": "python",
   "pygments_lexer": "ipython3",
   "version": "3.5.2"
  }
 },
 "nbformat": 4,
 "nbformat_minor": 1
}
