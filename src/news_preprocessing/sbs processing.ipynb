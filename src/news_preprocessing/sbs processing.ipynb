{
 "cells": [
  {
   "cell_type": "code",
   "execution_count": 1,
   "metadata": {
    "collapsed": true
   },
   "outputs": [],
   "source": [
    "import glob\n",
    "\n",
    "files = glob.glob('./data/2017/*/sbs/*.json')"
   ]
  },
  {
   "cell_type": "code",
   "execution_count": 2,
   "metadata": {
    "collapsed": true
   },
   "outputs": [],
   "source": [
    "import json\n",
    "def read_json_file(path_to_file):\n",
    "    with open(path_to_file) as p:\n",
    "        rows=[json.loads(line) for line in p]\n",
    "    return rows"
   ]
  },
  {
   "cell_type": "code",
   "execution_count": 3,
   "metadata": {
    "collapsed": true
   },
   "outputs": [],
   "source": [
    "import pandas as pd\n",
    "\n",
    "data=[]\n",
    "for path in files:\n",
    "    data.extend(read_json_file(path))\n",
    "\n",
    "df = pd.DataFrame(data)"
   ]
  },
  {
   "cell_type": "code",
   "execution_count": 4,
   "metadata": {
    "collapsed": true
   },
   "outputs": [],
   "source": [
    "df.drop(['comments','image','naver_section','naver_url','org_url','time','vod'], axis = 1, inplace = True)"
   ]
  },
  {
   "cell_type": "code",
   "execution_count": 5,
   "metadata": {
    "collapsed": true
   },
   "outputs": [],
   "source": [
    "import pandas as pd\n",
    "\n",
    "with open('./data/sbs_2016.pkl', 'rb') as f1:\n",
    "    df2016 = pd.read_pickle(f1)"
   ]
  },
  {
   "cell_type": "code",
   "execution_count": 6,
   "metadata": {
    "collapsed": true
   },
   "outputs": [],
   "source": [
    "df2016.rename(columns={'content': 'article'}, inplace=True)"
   ]
  },
  {
   "cell_type": "code",
   "execution_count": 7,
   "metadata": {
    "collapsed": true
   },
   "outputs": [],
   "source": [
    "df2016.drop(['oid','aid','media','naver_count','org_count','org_url','total_count','ml_section'], axis = 1, inplace = True)"
   ]
  },
  {
   "cell_type": "code",
   "execution_count": 8,
   "metadata": {
    "collapsed": true
   },
   "outputs": [],
   "source": [
    "df=df[['date', 'title', 'article', 'section']]"
   ]
  },
  {
   "cell_type": "code",
   "execution_count": 9,
   "metadata": {
    "collapsed": true
   },
   "outputs": [],
   "source": [
    "df=df.append(df2016)\n",
    "df=df.reset_index(drop=True)\n"
   ]
  },
  {
   "cell_type": "code",
   "execution_count": 115,
   "metadata": {},
   "outputs": [
    {
     "data": {
      "text/plain": [
       "'더불어민주당과 국민의당은 대규모 촛불집회가 열리는 오늘(12일) 박근혜 대통령을 향해 민심을 외면하지 말고 전면적 권력이양을 결단하라고 촉구했습니다.더불어민주당 윤관석 수석대변인은 구두논평에서 \"시민혁명으로 커져가는 민심의 쓰나미를 \\'우주의 기운\\'도 막을 수 없을 것\"이라면서 \"박 대통령은 자격과 신뢰를 상실했다\"고 지적했습니다.윤 대변인은 \"박 대통령의 대내외적 업무수행이 어려워지면서 국정 공백 장기화에 대한 우려가 큰데, 국정을 정상화하려면 대통령이 미련을 버리고 전면적인 권력 이양을 단행해야 한다\"면서 \"오늘 촛불민심이 그 계기가 되기를 바란다\"고 강조했습니다.국민의당 손금주 수석대변인은 \"박 대통령의 과오로 헌정이 유린당하는 지경에 이르렀다\"면서 \"결자해지 차원에서 국민의 요구에 화답해 스스로 정치적·법률적으로 퇴진해야 한다\"고 말했습니다.손 대변인은 이어 \"청와대와 여당은 촛불집회를 통해 표출되는 국민의 분노를 모른 채 해왔다\"면서 \"민심을 외면하지 말고 결단하라\"고 강조했습니다.두 야당은 다만 오늘 집회가 평화롭게 진행돼야 한다고 한목소리를 냈습니다.민주당과 국민의당 지도부는 서울광장 또는 광화문광장 집회는 참석하되, 청와대로 향하는 거리행진에는 참여하지 않을 방침인 것으로 알려졌습니다.민주당 윤 대변인은 \"시민들은 평화적으로 정당하게 국민적 요구를 표현할 것\"이라면서 \"만에 하나라도 폭력의 빌미를 줘서는 안 되며, 참가자들이 성숙한 시민의식을 보여주기를 바란다\"고 당부했습니다.국민의당 손 대변인도 \"시민들이 평화집회를 위해 노력하는 만큼 경찰도 불필요한 과잉진압을 하거나 시민들을 자극하는 불상사가 생기지 않도록 해달라\"고 말했습니다.\\xa0강청완 기자(blue@sbs.co.kr)※ ⓒ SBS & SBS콘텐츠허브 : 무단복제 및 재배포 금지☞ 미국 대통령 선거 \\'트럼프 승리\\' 하이라이트 영상 보기'"
      ]
     },
     "execution_count": 115,
     "metadata": {},
     "output_type": "execute_result"
    }
   ],
   "source": [
    "article=df['article'][151210].replace('▶','\\n▶').replace('\\t', '').replace('\\n', ' ')#.split('\\n')\n",
    "article"
   ]
  },
  {
   "cell_type": "code",
   "execution_count": 116,
   "metadata": {},
   "outputs": [
    {
     "data": {
      "text/plain": [
       "'더불어민주당과 국민의당은 대규모 촛불집회가 열리는 오늘(12일) 박근혜 대통령을 향해 민심을 외면하지 말고 전면적 권력이양을 결단하라고 촉구했습니다.더불어민주당 윤관석 수석대변인은 구두논평에서 \"시민혁명으로 커져가는 민심의 쓰나미를 \\'우주의 기운\\'도 막을 수 없을 것\"이라면서 \"박 대통령은 자격과 신뢰를 상실했다\"고 지적했습니다.윤 대변인은 \"박 대통령의 대내외적 업무수행이 어려워지면서 국정 공백 장기화에 대한 우려가 큰데, 국정을 정상화하려면 대통령이 미련을 버리고 전면적인 권력 이양을 단행해야 한다\"면서 \"오늘 촛불민심이 그 계기가 되기를 바란다\"고 강조했습니다.국민의당 손금주 수석대변인은 \"박 대통령의 과오로 헌정이 유린당하는 지경에 이르렀다\"면서 \"결자해지 차원에서 국민의 요구에 화답해 스스로 정치적·법률적으로 퇴진해야 한다\"고 말했습니다.손 대변인은 이어 \"청와대와 여당은 촛불집회를 통해 표출되는 국민의 분노를 모른 채 해왔다\"면서 \"민심을 외면하지 말고 결단하라\"고 강조했습니다.두 야당은 다만 오늘 집회가 평화롭게 진행돼야 한다고 한목소리를 냈습니다.민주당과 국민의당 지도부는 서울광장 또는 광화문광장 집회는 참석하되, 청와대로 향하는 거리행진에는 참여하지 않을 방침인 것으로 알려졌습니다.민주당 윤 대변인은 \"시민들은 평화적으로 정당하게 국민적 요구를 표현할 것\"이라면서 \"만에 하나라도 폭력의 빌미를 줘서는 안 되며, 참가자들이 성숙한 시민의식을 보여주기를 바란다\"고 당부했습니다.국민의당 손 대변인도 \"시민들이 평화집회를 위해 노력하는 만큼 경찰도 불필요한 과잉진압을 하거나 시민들을 자극하는 불상사가 생기지 않도록 해달라\"고 말했습니다.\\xa0'"
      ]
     },
     "execution_count": 116,
     "metadata": {},
     "output_type": "execute_result"
    }
   ],
   "source": [
    "import re\n",
    "article = re.sub(r'\\/\\/[a-zA-Z가-힣 \\n]+|{}|_flash_removeCallback\\(\\)', '', article)\n",
    "article = re.sub(r'\\(사진=[a-zA-Z가-힣]+\\)', '', article.strip())\n",
    "article = re.sub(r'\\([가-힣 ]+(기상캐스터)\\)', '', article)\n",
    "article = re.sub(r'[0-9가-힣=()· ]+\\([a-zA-Z0-9.]+@sbs.co.kr\\)(.*)', '', article)\n",
    "article = re.sub(r'※ ⓒ SBS (.*)|☞ \\[나도펀딩\\](.*)', '', article)\n",
    "\n",
    "\n",
    "article"
   ]
  },
  {
   "cell_type": "code",
   "execution_count": 117,
   "metadata": {
    "collapsed": true
   },
   "outputs": [],
   "source": [
    "import re\n",
    "def remove_extras(article):   \n",
    "    article = article.replace('▶','\\n▶').replace('\\t', '').replace('\\n', ' ')#.split('\\n')\n",
    "    article = re.sub(r'\\/\\/[a-zA-Z가-힣 \\n]+|{}|_flash_removeCallback\\(\\)', '', article)\n",
    "    article = re.sub(r'\\(사진=[a-zA-Z가-힣]+\\)', '', article.strip())\n",
    "    article = re.sub(r'\\([가-힣 ]+(기상캐스터)\\)', '', article)\n",
    "    article = re.sub(r'[0-9가-힣=()· ]+\\([a-zA-Z0-9.]+@sbs.co.kr\\)(.*)', '', article)\n",
    "    article = re.sub(r'※ ⓒ SBS (.*)|☞ \\[나도펀딩\\](.*)', '', article)\n",
    "\n",
    "    article = article.replace('\\n', ' ')\n",
    "    return article"
   ]
  },
  {
   "cell_type": "code",
   "execution_count": 118,
   "metadata": {},
   "outputs": [
    {
     "name": "stdout",
     "output_type": "stream",
     "text": [
      "[이 시각 세계]  베네수엘라의 반정부 시위가 넉 달째 계속되고 있습니다.  총성이 오가는 시위 현장에서 화염병 대신 바이올린을 연주하며 평화 시위를 한 23살의 한 남성, 우일리 아르테아가 기억하시죠?  최근 아르테아가가 시위 현장에서 연주하다 얼굴을 다친 사진이 공개되기도 했는데, 이번엔 시위 도중 체포돼 구타를 당해서 청각이 손상됐다는 소식이 외신을 통해 보도됐습니다.  아르테아가는 자신의 SNS에 다친 사진을 올리면서도 평화 시위를 이어갔던 터라, 주변을 더 안타깝게 하고 있습니다.    \n"
     ]
    }
   ],
   "source": [
    "print(remove_extras(df['article'][44192]))"
   ]
  },
  {
   "cell_type": "code",
   "execution_count": 119,
   "metadata": {},
   "outputs": [
    {
     "data": {
      "text/plain": [
       "0         앙겔라 메르켈 독일 총리와 아베 신조 일본 총리가 자유무역 가치를 다시 한 번 강조...\n",
       "1         금융회사들이 핀테크를 활용한 새로운 서비스를 테스트해볼 수 있도록 일정 기간 규제를...\n",
       "2         사람마다 사회가 요구하는 책임이 다릅니다.  보통사람은 죄 안 짓고 착실히 살면 되...\n",
       "3         '댓글 알바'를 썼다는 의혹이 제기된 유명 사교육 강사 설민석, 최진기 씨에 대해 ...\n",
       "4         중국이 북한 핵실험에 따른 유엔 안전보장이사회의 대북제재 결의 2321호에 대한 이...\n",
       "5         도널드 트럼프 미국 대통령의 지지율이 취임 두 달 만에 최저 수준을 기록했습니다. ...\n",
       "6         영국 정부가 오는 29일 리스본조약 50조를 발동해 유럽연합(EU)에 탈퇴 의사를 ...\n",
       "7         아파트에서 화재가 발생하자 60대 경비원이 주민들을 대피시키다 쓰러져 숨졌습니다. ...\n",
       "8         박근혜 전 대통령은 아침부터 변호사들을 불러 검찰 조사에 대비했습니다. 삼성동 자택...\n",
       "9         오늘(20일)은 노영희 변호사, SBS 원일희 선임기자 두 분과 함께 하겠습니다. ...\n",
       "10        자유한국당은 다음 달 12일 치러지는 재·보궐 선거에서 경상북도 상주·군위·의성·청...\n",
       "11        극심한 스모그에 시달리고 있는 중국 베이징(北京) 일대에서 마지막으로 남은 석탄 화...\n",
       "12        덴마크에 구금된 정유라 씨 측이 검찰의 한국송환 결정에 불복해 지난 17일 법원에 ...\n",
       "13        아버지와 함께 목욕탕을 찾은 8살 초등학생이 물에 빠져 숨졌습니다. 물을 빼던 탕에...\n",
       "14        '경영 비리' 혐의로 롯데그룹 총수 일가 5명이 나란히 법정에 섰습니다. 신격호 총...\n",
       "15        5월 9일 대선이 오늘(20일)로 꼭 50일 앞으로 다가왔습니다. 예전 같으면 본선...\n",
       "16        방금 보신 삼성동 자택에서 자주 눈에 띄는 사람이 이영선 경호관입니다. 그런데 이 ...\n",
       "17        브라질은 좋은 축산환경을 가진 육고기 수출 강대국이어서 닭고기 생산량은 세계 2위,...\n",
       "18        문재인 후보가 군 복무 당시 전두환 장군에게 표창을 받다는 발언을 두고 후보 간 난...\n",
       "19        일본과 러시아가 북한의 핵·미사일 문제에 대해선 양국이 원칙적으로 공조하기로 하면서...\n",
       "20        다음은 수도권 뉴스입니다. 영종도 미단시티 안에 카지노 복합리조트 조성을 위한 토지...\n",
       "21        황교안 대통령 권한대행은 소래포구 어시장 화재와 관련해 상인들의 생계가 우려되는 만...\n",
       "22        일본의 한 어린이집에서 아이들에게 형편없이 열악한 급식을 제공한 것으로 드러나 시민...\n",
       "23        반려동물 키우는 집이 450만 가구를 넘어섰습니다. 일부에서 벌어지는 동물 학대 행...\n",
       "24        유덕기 기자 나와 있습니다. 닭튀김 가지고 나오셨네요. 브라질산인가요?    그렇습...\n",
       "25        방금 들어온 소식입니다.  덴마크에 구금돼 있는 최순실 씨 딸 정유라 씨가 덴마크 ...\n",
       "26        북한이 신형 고출력 엔진 연소실험 성공을 주장하며 공개한 사진들을 보고 계십니다. ...\n",
       "27        악성 바이러스는 PC나 휴대폰만 감염되는 거로 잠시 착각하고 있었는데, 당연히 아니...\n",
       "28        닭고기, 쇠고기, 조기, 이렇게 우리 식탁에 안오르면 섭섭한 식품들 가격이 자꾸 오...\n",
       "29        국내 저비용 항공사들이 국내선 요금을 잇따라 올리고 있습니다. 올해 다음달, 이후의...\n",
       "                                ...                        \n",
       "163998    네, 여러분, 2016년의 마지막 날, 어떻게 보내셨습니까? 올해 마지막 8시 뉴스...\n",
       "163999    이번 주 내내 매서웠던 추위가 조금 풀리면서 도심에선 오늘(31일) 낮부터 다양한 ...\n",
       "164000    이제 약 4시간 뒤면 매년 그랬듯 서울 보신각에선 타종행사가 열립니다. 그런데 여기...\n",
       "164001    앞서 전해드렸듯이 오늘(31일) 촛불집회에 110만 명 넘게 참석하면 누적 인원이 ...\n",
       "164002    촛불 집회 현장은 잠시 뒤에 다시 연결해보기로 하고, 지금부터는 특검 소식 전하겠습...\n",
       "164003    블랙리스트에 오른 사람들을 관리하기 위해서 정부는 내년부터 일부 사업에서 자금 지원...\n",
       "164004    소설 '영원한 제국'의 작가 이인화 씨로 잘 알려진 이화여대 류철균 교수가 특검에 ...\n",
       "164005    그럼 이번엔 특검 사무실에 나가 있는 취재기자 연결해서 오늘(31일) 나머지 수사 ...\n",
       "164006    이렇게 특검이 수사에 속도를 내는 가운데 당장 다음 주부터 대통령 탄핵심판 심리에 ...\n",
       "164007    다사다난, 이 네글자로는 충분하지 못할만큼 2016년은 참 많은 일들이 있었습니다....\n",
       "164008    이렇게 한해를 되돌아보면 전국 곳곳에서 정말 많은 일들이 일어났습니다.지난 1년 동...\n",
       "164009    부산 일본 영사관 앞에 또 하나의 '소녀상'이 세워졌습니다. 한 시민단체가 지난 2...\n",
       "164010    세월호 유가족들은 한 해 마지막 날 참사 현장에서 가장 가까운 섬, 동거차도에 들어...\n",
       "164011    중국이 한국을 오가는 전세기 운항 계획을 잇따라 취소하면서, 국내 관광 업계에 비상...\n",
       "164012    경기도 포천에서 폐사한 고양이 사체에서 지금 유행하고 있는 고병원성 AI 바이러스가...\n",
       "164013    올 한해 다들 허리띠 졸라매면서 아껴 쓰는 게 생활화됐죠. 8시 뉴스에서는 오늘(3...\n",
       "164014    반기문 유엔 사무총장의 10년 임기가 오늘(31일)로 끝납니다. 반기문 총장은 개헌...\n",
       "164015    공직선거법을 보면, 대통령 궐위로 인한 재외선거는 2018년 1월 1일 이후 그 실...\n",
       "164016    20대 총선과 대통령 탄핵, 그리고 촛불 정국과 국회 청문회까지 올 한 해는 정치권...\n",
       "164017    그 어느 해보다 다사다난했던 2016년을 마무리하는 지금, 여러분은 어떤 말이 가장...\n",
       "164018    앞서 올해의 10대 뉴스에서도 보셨지만, 인공지능, AI 대한 관심이 높았습니다.우...\n",
       "164019    이번에는 미술계 보겠습니다. 그야말로 '논란'의 연속이었습니다. 한국 미술의 대가 ...\n",
       "164020    그러면 법조팀 정성엽 기자와 지금까지 내용 정리하고 가겠습니다. 특검의 블랙리스트 ...\n",
       "164021    정 기자, 류철균 교수가 '이인화'라는 필명으로 쓴 '영원한 제국'이란 책, 이게 ...\n",
       "164022    이제 몇 시간 뒤면 새해가 밝아옵니다.2017년 첫해는 독도에서 7시 26분에 가장...\n",
       "164023    그럼 여기에서 올해의 마지막 촛불집회가 열리고 있는 광화문 광장으로 다시 가보겠습니...\n",
       "164024    2016년은 나라 걱정에 취업 걱정, 또 살림 걱정.걱정이 참 많던 한 해였습니다....\n",
       "164025    청와대와 문화체육관광부의 '문화예술인 블랙리스트 의혹'을 수사 중인 박영수 특별검사...\n",
       "164026    박근혜 대통령 즉각 퇴진과 조기 탄핵을 촉구하는 올해 마지막 주말 촛불집회가 서울 ...\n",
       "164027    황교안 대통령 권한대행이 처음으로 임명한 차관인 송수근 문화체육관광부 1차관이 박영...\n",
       "Name: article, Length: 164028, dtype: object"
      ]
     },
     "execution_count": 119,
     "metadata": {},
     "output_type": "execute_result"
    }
   ],
   "source": [
    "df['article']=df['article'].apply(lambda x: remove_extras(x))\n",
    "df['article']"
   ]
  },
  {
   "cell_type": "code",
   "execution_count": 120,
   "metadata": {
    "collapsed": true
   },
   "outputs": [],
   "source": [
    "counts=df.groupby('section').size()\n",
    "sorted_counts=counts.sort_values(ascending=False)"
   ]
  },
  {
   "cell_type": "code",
   "execution_count": 121,
   "metadata": {},
   "outputs": [
    {
     "data": {
      "text/plain": [
       "section\n",
       "사회       59137\n",
       "국제       40542\n",
       "정치       36076\n",
       "경제       18379\n",
       "생활·문화     4938\n",
       "라이프       4162\n",
       "스포츠        689\n",
       "            72\n",
       "연예          32\n",
       "dtype: int64"
      ]
     },
     "execution_count": 121,
     "metadata": {},
     "output_type": "execute_result"
    }
   ],
   "source": [
    "sorted_counts"
   ]
  },
  {
   "cell_type": "code",
   "execution_count": 122,
   "metadata": {
    "collapsed": true
   },
   "outputs": [],
   "source": [
    "df.to_pickle('sbs_all.pkl')"
   ]
  },
  {
   "cell_type": "code",
   "execution_count": 49,
   "metadata": {},
   "outputs": [
    {
     "data": {
      "text/plain": [
       "Index             80\n",
       "date         2338297\n",
       "title        8729611\n",
       "article    473631487\n",
       "section      4232493\n",
       "dtype: int64"
      ]
     },
     "execution_count": 49,
     "metadata": {},
     "output_type": "execute_result"
    }
   ],
   "source": [
    "df.memory_usage(deep=True)"
   ]
  },
  {
   "cell_type": "code",
   "execution_count": null,
   "metadata": {
    "collapsed": true
   },
   "outputs": [],
   "source": []
  }
 ],
 "metadata": {
  "kernelspec": {
   "display_name": "Python 3",
   "language": "python",
   "name": "python3"
  },
  "language_info": {
   "codemirror_mode": {
    "name": "ipython",
    "version": 3
   },
   "file_extension": ".py",
   "mimetype": "text/x-python",
   "name": "python",
   "nbconvert_exporter": "python",
   "pygments_lexer": "ipython3",
   "version": "3.5.2"
  }
 },
 "nbformat": 4,
 "nbformat_minor": 1
}
