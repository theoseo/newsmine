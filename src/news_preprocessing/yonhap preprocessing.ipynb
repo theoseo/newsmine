{
 "cells": [
  {
   "cell_type": "code",
   "execution_count": 1,
   "metadata": {
    "collapsed": true
   },
   "outputs": [],
   "source": [
    "import glob\n",
    "\n",
    "files = glob.glob('./data/2017/*/chosun/*.json')"
   ]
  },
  {
   "cell_type": "code",
   "execution_count": 2,
   "metadata": {
    "collapsed": true
   },
   "outputs": [],
   "source": [
    "import json\n",
    "def read_json_file(path_to_file):\n",
    "    with open(path_to_file) as p:\n",
    "        rows=[json.loads(line) for line in p]\n",
    "    return rows"
   ]
  },
  {
   "cell_type": "code",
   "execution_count": 3,
   "metadata": {
    "collapsed": true
   },
   "outputs": [],
   "source": [
    "import pandas as pd\n",
    "\n",
    "data=[]\n",
    "for path in files:\n",
    "    data.extend(read_json_file(path))\n",
    "\n",
    "df = pd.DataFrame(data)"
   ]
  },
  {
   "cell_type": "code",
   "execution_count": 4,
   "metadata": {
    "collapsed": true
   },
   "outputs": [],
   "source": [
    "df=df.dropna(subset=['section'])\n",
    "df=df.reset_index(drop=True)"
   ]
  },
  {
   "cell_type": "code",
   "execution_count": 5,
   "metadata": {
    "collapsed": true
   },
   "outputs": [],
   "source": [
    "df.drop(['comments','image','naver_section','naver_url','org_url','time','vod'], axis = 1, inplace = True)"
   ]
  },
  {
   "cell_type": "code",
   "execution_count": 6,
   "metadata": {},
   "outputs": [
    {
     "data": {
      "text/plain": [
       "'더민주, 의원총회서 필리버스터 중단 최종 결론(속보)'"
      ]
     },
     "execution_count": 6,
     "metadata": {},
     "output_type": "execute_result"
    }
   ],
   "source": [
    "article=df['article'][8].replace('▶','\\n▶').replace('\\t', '').replace('\\n', ' ')#.split('\\n')\n",
    "df['title'][8]"
   ]
  },
  {
   "cell_type": "code",
   "execution_count": 7,
   "metadata": {},
   "outputs": [
    {
     "data": {
      "text/plain": [
       "'      ▶ [카드뉴스] 모르셨어요…이렇게 많은 지원 \"다 받을수 있어요\"   ▶ [핫클릭] 악어 사육 동영상 \\'20대 페북 스타\\' 벌금 안내 교도소행   ▶ [핫클릭] 유학 중 외도·혼외임신…\"남편, 위자료 5천만원 줘라\"  <저작권자(c) 연합뉴스, 무단 전재-재배포 금지>    '"
      ]
     },
     "execution_count": 7,
     "metadata": {},
     "output_type": "execute_result"
    }
   ],
   "source": [
    "import re\n",
    "\n",
    "article = re.sub(r'[a-z]+@yna.co.kr(.*)', '', article)\n",
    "\n",
    "article"
   ]
  },
  {
   "cell_type": "code",
   "execution_count": 8,
   "metadata": {
    "collapsed": true
   },
   "outputs": [],
   "source": [
    "import re\n",
    "def remove_extras(article):\n",
    "    return_article = ''\n",
    "    article = re.sub(r'\\/\\/[a-zA-Z가-힣 \\n]+|{}|_flash_removeCallback\\(\\)', '', article)\n",
    "    article = article.replace('▶','\\n▶').replace('\\t', '').replace('. ', '.\\n')\n",
    "    #remove by line\n",
    "    article = re.sub(r'\\([a-zA-Z가-힣· ]+\\=연합뉴스\\) [a-zA-Z가-힣· ]+ =|\\<< [a-zA-Z가-힣· ]+\\=[a-zA-Z가-힣· ]+ >>|\\([a-zA-Z가-힣0-9·, ]+\\=[a-zA-Z가-힣· ]+\\)|\\[[a-zA-Z가-힣·= ]+[자료사진 ]\\]|\\(연합뉴스 DB\\)|\\[[a-zA-Z가-힣 ]+제공\\]|\\[[a-zA-Z가-힣 ]+제공=연합뉴스\\]', '', article)\n",
    "    #remove copyrithgs\n",
    "    article = article.replace('<저작권자(c) 연합뉴스, 무단 전재-재배포 금지>', '')\n",
    "    #remove email\n",
    "    #article = re.sub(r'[a-zA-Z0-9_-]+@[a-z]+.[a-z]+.[a-z]+', '', article)\n",
    "    #remove tail\n",
    "    \n",
    "    for sentence in article.split('\\n'):\n",
    "        if not sentence.startswith('▶') : return_article += sentence\n",
    "\n",
    "    return_article = return_article.replace('\\n', ' ')\n",
    "    return_article = re.sub(r'([a-z]+@yna.co.kr)(.*)', '', return_article)\n",
    "\n",
    "    return return_article"
   ]
  },
  {
   "cell_type": "code",
   "execution_count": 9,
   "metadata": {},
   "outputs": [
    {
     "name": "stdout",
     "output_type": "stream",
     "text": [
      "     셰익스피어(1564~1616년) 서거 400주기를 맞아 그의 무덤을 레이더로 투사하는 프로젝트가 진행됐다고 영국 방송 BBC가 1일(현지시간) 보도했다.    영국 중부에 있는 그의 고향 스트랫퍼드 어폰 에이번의 성 트리니티 교회(Holy Trinity Church)에 있는 셰익스피어의 무덤은 이제까지 한 번도 발굴된 적이 없었다고 BBC는 설명했다.    레이더 스캔은 무덤을 훼손하지 않으면서 내부를 들여다 볼 수 있는데 스캔 결과가 수주일 내 공개될 것으로 예상된다.    이 교회에는 셰익스피어의 가족 5명이 묻힌 곳이어서 레이더 스캔이 무덤 안에서 뭔가를 발견한 것으로 여겨진다.    묘석 아래 가족 비밀 보관실이 있을 수 있다는 추측들이 있었는데 레이더 스캔이 셰익스피어와 함께 묻힌 다른 것들을 보여줄지도 관심을 끌고 있다.    셰익스피어가 남긴 것으로 알려진 묘비명에는 \"벗이여, 원하건대 여기 묻힌 것을 파지 말아다오, 이 묘석을 그대로 두는 자는 축복을 받고 나의 뼈를 옮기는 자는 저주받을지어다\"라고 적혔다.    그의 무덤 레이더 스캔 계획은 오는 7월 열리는 '월드 셰익스피어 콩그레스'를 앞두고 발표됐다.    5년마다 열리는 이 행사는 올해에는 스트랫퍼드 어폰과 셰익스피어가 활동한 런던에서 함께 열리는데 셰익스피어 작품들과 생애에 대한 다양한 퍼포먼스들과 세미나 등이 열린다.    또한 '셰익스피어 출생지 재단'의 의뢰로 발굴된 스트랫퍼드의 뉴 플레이스에 있는 셰익스피어의 마지막 집이 일반에 공개된다.    \n"
     ]
    }
   ],
   "source": [
    "print(remove_extras(df['article'][9]))"
   ]
  },
  {
   "cell_type": "code",
   "execution_count": 10,
   "metadata": {},
   "outputs": [
    {
     "data": {
      "text/plain": [
       "0         침몰 연승어선 다가가는 서귀포해경      1일 서귀포해양경비안전서 구조정이 서귀포...\n",
       "1              북한은 식수절(우리의 식목일) 70주년을 하루 앞둔 1일 박봉주 내각 총리...\n",
       "2         중국이 남중국해에 건설한 인공섬(EPA.연합뉴스.자료사진)미일안보연구회 \"강압적 행...\n",
       "3         벤츠 등 고급ㆍ친환경 경쟁차종 꼼꼼히 살펴봐     정의선 현대자동차 부회장이 디트...\n",
       "4         일본 신칸센     일본 최고재판소(대법원)는 1일 치매 환자가 배회하다 전차에 치...\n",
       "5         팔'인 1명 사망·10명 부상…이스라엘 경찰도 5명 다쳐     이스라엘 군인들이 ...\n",
       "6         파키스탄 여성 다큐멘터리 감독 샤르민 오바이드-치노이샤리프 총리 \"명예 살인 방지 ...\n",
       "7         한복 입고 '아리랑' 부르는 오마라 포르투온도 <>오마라 포르투온도, 3·1절 열린...\n",
       "8                                                          \n",
       "9              셰익스피어(1564~1616년) 서거 400주기를 맞아 그의 무덤을 레이더...\n",
       "10        면접 참여하는 더민주 강기정     더불어민주당 광주 북구갑에 공천 신청한 강기정 ...\n",
       "11        비공개 요청하는 김종인 대표     더불어민주당 김종인 비상대책위 대표가 1일 오후...\n",
       "12        아베 일본 총리     아베 신조(安倍晋三) 일본 총리는 1일 방일 중인 필리포 그...\n",
       "13        남중국해 융싱다오 항공사진(신경보 캡쳐)중국 軍기관지 현장취재…융싱다오에 군인이 민...\n",
       "14        중의원 예산위원회에서 답변하는 아베 총리  아베 신조 일본 총리가 1일 중의원 예산...\n",
       "15         and Improve Their Skills Using Online Learnin...\n",
       "16        이란코드로가 생산하는 푸조 승용차자동차 수입 개방도 시사     하산 로하니 이란 ...\n",
       "17             1일 오후 4시 15분께 경기도 안산시 단원구의 한 주택에서 원인을 알 수...\n",
       "18             포르쉐가 1일 스위스 팔렉스포 전시관에서 열린 제네바 모터쇼에서 '911 ...\n",
       "19        초음속 여객기 개념도 <>혁신적 디자인과 함께 음속돌파 때 굉음도 제어하기로    ...\n",
       "20        安 \"의도 의심\" vs 千·金 \"與 독주 저지 관점서 고민\"박지원 입당 회견자리에 ...\n",
       "21        1일 일본 외무성 앞에서 군위안부 합의를 비판하는 시위를 하고 있는 재일조선인 대학...\n",
       "22             전기차 충전 사업자들의 연간 전기요금 부담을 최대 20% 줄일 수 있는 4...\n",
       "23        지난해 전인대에서 업무보고를 하는 리커창 총리<>북경청년보 \"6.9%는 '7% 안팎...\n",
       "24             이란 중앙은행은 중국의 유니온페이(은련·銀聯), 일본 JCB 카드 등 국제...\n",
       "25             강원도와 속초시가 속초시수산협동조합 수산물산지거점유통센터(FPC)가 생산한...\n",
       "26        제네바 모터쇼서 독립전시장 운영     명차의 본고장인 유럽에서 현대자동차 고급 브...\n",
       "27        통일부 정례브리핑     정준희 통일부 대변인이 15일 서울 세종로 정부서울청사에서...\n",
       "28             ▲ 문제적 인간, 다윗 = 데이비드 울프 지음    골리앗을 쓰러트린 영웅...\n",
       "29             제97주년 삼일절을 맞아 '태극기' 다들 게양 하셨나요? 한국 청소년연맹 ...\n",
       "                                ...                        \n",
       "309258     安 \"합의 어렵다고 포기하면 정치는 왜 하느냐\" 맹공…이재명·박원순도 도입 입장文...\n",
       "309259      국회 환경노동위원회는 23일 가습기살균제 피해사건과 세월호 참사에 대한 진상조사...\n",
       "309260       중국이 남중국해 영유권 분쟁지역에 공군 주력기인 젠(殲)-11 전투기 72대를...\n",
       "309261      남조선인권대책협회, 종업원 집단탈북·사드 배치 등 거론 북한이 23일 우리나라가...\n",
       "309262       크리스마스이브이자 토요일인 24일 전국이 대체로 맑은 가운데 한파가 지속할 전...\n",
       "309263     ■ 특검, 내일 오전 '왕차관' 김종 문체부 前차관 첫 공개소환'박근혜-최순실 게...\n",
       "309264      獨베를린트럭테러 용의자 아니스 암리 伊내무장관 긴급회견 \"베를린 테러 용의자 암...\n",
       "309265     \"결선투표제 도입 바람직하지만 개헌 사항 해석\"\"차기 내가 가장 잘 준비돼있다…고...\n",
       "309266      아리스암리(24) 伊내무장관 긴급회견 \"베를린 테러 용의자 암리 맞아\" 확인 이...\n",
       "309267      광주비엔날레재단은 민주·인권·평화 등 '광주정신'을 담은 광주비엔날레 작품이 광...\n",
       "309268      유럽연합(EU) 산하인 유럽방위청(EDA)이 '3D 프린팅'을 방위산업 분야에서...\n",
       "309269     AI 방역      경북 김천지역 야생조류 배설물에서 또 고병원성 조류인플루엔자(...\n",
       "309270     서울 일정 취소, 수행비서만 동행 깜짝 조문 손학규 전 민주당 대표가 23일 부친...\n",
       "309271     취임식 한다고 수도병원 차량진입 막아\"비오는데 휠체어 밀고 300ｍ 걸어…환자가 ...\n",
       "309272     중도파·충청권 가장 적극적…\"결국 潘 중심으로 보수 대연합\"비박, 김무성·유승민 ...\n",
       "309273      이달 19일(현지시간) 독일 베를린 크리스마스 마켓을 19t 트럭으로 공격한 것...\n",
       "309274       최순실 국정농단 사건 핵심 증거물인 태블릿 PC 관련 보도를 한 종합편성채널 ...\n",
       "309275     기자회견 하는 인명진 비대위원장 내정자     새누리당 비상대책위원장에 내정된 인...\n",
       "309276     박원순 \"2020 대선·총선…모바일투표\"·김부겸 \"野 공동개헌안 내자\"孫 \"安 개...\n",
       "309277     납치범 2명 수류탄으로 폭파 위협…\"승무원 일부만 억류 상태\"\"납치범은 카다피 지...\n",
       "309278      오는 26~27일 미국 하와이의 진주만을 방문하는 아베 신조(安倍晋三)가 당초 ...\n",
       "309279      아리스암리(24) 용의자, 프랑스 거쳐 이탈리아 입국…독일내 행방 쫓던 獨당국 ...\n",
       "309280     \"결선투표제 도입 바람직하지만 개헌 사항 해석\"\"차기 내가 가장 잘 준비돼있다…고...\n",
       "309281     연말 기자회견서 강조…\"러 공격 미사일 美 MD보다 더 효율적\"\"러 대사 살해는 ...\n",
       "309282     총리공관에서 '시민사회와의 간담회'…14명 참석 황교안 대통령 권한대행 국무총리가...\n",
       "309283      다음달 중남미 4개국 순방에 나서는 대만 차이잉원(蔡英文) 총통이 미국을 들러 ...\n",
       "309284     트럼프가 어떤 대통령으로 남을지에는 30% '모르겠다' 가장 많아 도널드 트럼프가...\n",
       "309285      앙겔라 메르켈 독일 총리는 베를린 트럭 테러 용의자 사살과 관련해 \"테러 위험은...\n",
       "309286      수니파 극단주의조직 '이슬람국가'(IS)가 '베를린 트럭테러범'의 사망을 확인한...\n",
       "309287      뉴욕증시는 23일 크리스마스 연휴를 앞두고 거래량이 감소한 가운데 하락 출발했다...\n",
       "Name: article, Length: 309288, dtype: object"
      ]
     },
     "execution_count": 10,
     "metadata": {},
     "output_type": "execute_result"
    }
   ],
   "source": [
    "df['article'].apply(lambda x: remove_extras(x))"
   ]
  },
  {
   "cell_type": "code",
   "execution_count": 12,
   "metadata": {
    "collapsed": true
   },
   "outputs": [],
   "source": [
    "counts=df.groupby('section').size()\n",
    "sorted_counts=counts.sort_values(ascending=False)"
   ]
  },
  {
   "cell_type": "code",
   "execution_count": null,
   "metadata": {
    "collapsed": true
   },
   "outputs": [],
   "source": []
  },
  {
   "cell_type": "code",
   "execution_count": 13,
   "metadata": {},
   "outputs": [
    {
     "data": {
      "text/plain": [
       "section\n",
       "지방행정       39102\n",
       "사회일반       37863\n",
       "국제일반       33876\n",
       "경제일반       33426\n",
       "정치일반       27887\n",
       "산업일반        7628\n",
       "기업일반        7402\n",
       "국방일반        4725\n",
       "외교일반        4674\n",
       "문화일반        4330\n",
       "북한일반        4310\n",
       "중앙행정일반      3880\n",
       "재테크         3660\n",
       "대기업         3471\n",
       "IT일반        3240\n",
       "경찰          3235\n",
       "국회일반        2783\n",
       "증권시장        2553\n",
       "금융·증권일반     2298\n",
       "교육일반        2243\n",
       "의료일반        1932\n",
       "소비자         1819\n",
       "편집일반        1773\n",
       "대학교육        1711\n",
       "대통령선거       1653\n",
       "청와대일반       1508\n",
       "사건일반        1395\n",
       "중소기업        1314\n",
       "선거일반        1290\n",
       "관광업         1257\n",
       "           ...  \n",
       "인테리어           3\n",
       "선물·옵션          3\n",
       "비철금속           3\n",
       "이산가족           3\n",
       "하계올림픽          3\n",
       "원자재            2\n",
       "분쟁             2\n",
       "스포츠댄스          2\n",
       "배구             2\n",
       "제지             2\n",
       "임대업            2\n",
       "경마             2\n",
       "레크리에이션         2\n",
       "유괴납치           2\n",
       "주식시황           1\n",
       "대중가요           1\n",
       "사건사고           1\n",
       "핸드볼            1\n",
       "익스트림게임         1\n",
       "골프             1\n",
       "해외축구           1\n",
       "국제대회           1\n",
       "유엔             1\n",
       "해외야구           1\n",
       "레이싱            1\n",
       "기업분석           1\n",
       "항공레포츠          1\n",
       "밀수             1\n",
       "대내경제           1\n",
       "승마             1\n",
       "Length: 342, dtype: int64"
      ]
     },
     "execution_count": 13,
     "metadata": {},
     "output_type": "execute_result"
    }
   ],
   "source": [
    "sorted_counts"
   ]
  },
  {
   "cell_type": "code",
   "execution_count": null,
   "metadata": {
    "collapsed": true
   },
   "outputs": [],
   "source": [
    "df.to_pickle('yonhap_2016.pkl')"
   ]
  },
  {
   "cell_type": "markdown",
   "metadata": {},
   "source": [
    "### Compare Memory Usage\n",
    "\n",
    "```\n",
    "df['article']=pd.Series([val for val in df['article'].str.replace(r'\\r|\\t|\\n|\\/\\/[a-zA-Z가-힣 \\n]+|{}|_flash_removeCallback\\(\\)|[a-zA-Z0-9]+@yonhapnews.co.kr|\\[연합뉴스[a-zA-Z가-힣 ]+\\]|\\([a-zA-Z가-힣· ]+\\=연합뉴스\\)|\\[[a-zA-Z가-힣 ]+\\=연합뉴스\\]|[a-zA-Z가-힣 ]+ 기자 \\=|[a-zA-Z가-힣 ]+ 특파원 \\=','')])\n",
    "```\n",
    "\n",
    "```\n",
    "df['article']=df['article'].str.replace(r'\\[연합뉴스[a-zA-Z가-힣 ]+\\]|\\([a-zA-Z가-힣· ]+\\=연합뉴스\\)|\\[[a-zA-Z가-힣 ]+\\=연합뉴스\\]|[a-zA-Z가-힣 ]+ 기자 \\=|[a-zA-Z가-힣 ]+ 특파원 \\=','')\n",
    "```"
   ]
  },
  {
   "cell_type": "code",
   "execution_count": 16,
   "metadata": {},
   "outputs": [
    {
     "data": {
      "text/plain": [
       "Index         2360328\n",
       "article    1181572465\n",
       "author       28497751\n",
       "date         19767747\n",
       "section      29771250\n",
       "title        59625664\n",
       "sec_idx       2360328\n",
       "dtype: int64"
      ]
     },
     "execution_count": 16,
     "metadata": {},
     "output_type": "execute_result"
    }
   ],
   "source": [
    "df.memory_usage(deep=True)"
   ]
  },
  {
   "cell_type": "code",
   "execution_count": null,
   "metadata": {
    "collapsed": true
   },
   "outputs": [],
   "source": []
  }
 ],
 "metadata": {
  "kernelspec": {
   "display_name": "Python 3",
   "language": "python",
   "name": "python3"
  },
  "language_info": {
   "codemirror_mode": {
    "name": "ipython",
    "version": 3
   },
   "file_extension": ".py",
   "mimetype": "text/x-python",
   "name": "python",
   "nbconvert_exporter": "python",
   "pygments_lexer": "ipython3",
   "version": "3.5.2"
  }
 },
 "nbformat": 4,
 "nbformat_minor": 1
}
