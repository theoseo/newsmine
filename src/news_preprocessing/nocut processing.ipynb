{
 "cells": [
  {
   "cell_type": "code",
   "execution_count": 1,
   "metadata": {
    "collapsed": true
   },
   "outputs": [],
   "source": [
    "import glob\n",
    "\n",
    "files = glob.glob('./data/2017/*/nocut/*.json')"
   ]
  },
  {
   "cell_type": "code",
   "execution_count": 2,
   "metadata": {
    "collapsed": true
   },
   "outputs": [],
   "source": [
    "import json\n",
    "def read_json_file(path_to_file):\n",
    "    with open(path_to_file) as p:\n",
    "        rows=[json.loads(line) for line in p]\n",
    "    return rows"
   ]
  },
  {
   "cell_type": "code",
   "execution_count": 3,
   "metadata": {
    "collapsed": true
   },
   "outputs": [],
   "source": [
    "import pandas as pd\n",
    "\n",
    "data=[]\n",
    "for path in files:\n",
    "    data.extend(read_json_file(path))\n",
    "\n",
    "df = pd.DataFrame(data)"
   ]
  },
  {
   "cell_type": "code",
   "execution_count": 4,
   "metadata": {
    "collapsed": true
   },
   "outputs": [],
   "source": [
    "df.drop(['comments','image','naver_section','naver_url','org_url','time','vod'], axis = 1, inplace = True)"
   ]
  },
  {
   "cell_type": "code",
   "execution_count": 5,
   "metadata": {
    "collapsed": true
   },
   "outputs": [],
   "source": [
    "import pandas as pd\n",
    "\n",
    "with open('./data/nocut_2016.pkl', 'rb') as f1:\n",
    "    df2016 = pd.read_pickle(f1)"
   ]
  },
  {
   "cell_type": "code",
   "execution_count": 6,
   "metadata": {
    "collapsed": true
   },
   "outputs": [],
   "source": [
    "df2016.rename(columns={'content': 'article'}, inplace=True)"
   ]
  },
  {
   "cell_type": "code",
   "execution_count": 7,
   "metadata": {
    "collapsed": true
   },
   "outputs": [],
   "source": [
    "df2016.drop(['oid','aid','media','naver_count','org_count','org_url','total_count','ml_section'], axis = 1, inplace = True)"
   ]
  },
  {
   "cell_type": "code",
   "execution_count": 8,
   "metadata": {
    "collapsed": true
   },
   "outputs": [],
   "source": [
    "df=df[['date', 'title', 'article', 'section']]"
   ]
  },
  {
   "cell_type": "code",
   "execution_count": 9,
   "metadata": {
    "collapsed": true
   },
   "outputs": [],
   "source": [
    "df=df.append(df2016)\n",
    "df=df.reset_index(drop=True)\n"
   ]
  },
  {
   "cell_type": "code",
   "execution_count": 45,
   "metadata": {},
   "outputs": [
    {
     "data": {
      "text/plain": [
       "\"  [제주CBS 문준영 수습기자](사진=스마트이미지 제공)제주에서 지구대 경찰관이 SNS(소셜네트워크서비스)에 절도 의혹을 받고 있는 여중생의 얼굴을 공개해 파문이 일고 있다.  제주지방경찰청은 CCTV에 찍힌 여중생의 사진을 SNS에 공개한 모 지구대 소속 A경찰관을 상대로 사실 확인과 경위를 조사하고 있다고 1일 밝혔다. A경찰관은 지난 3월 28일 밤 10시 30분쯤 자신의 SNS에 '경찰관입니다. 한 잡화점에서 어떤분이 물건만 갖고 돈은 내지 않고 가버려 신고가 접수되었네요. 아마 깜빡한 거 같은데… 혹시 CCTV 사진 속 여성분이 누구인지 아시는 분은 문자 바랍니다'라는 내용의 글과 함께 해당 여중생 B양의 사진을 올렸다. 게시글은 다음날 삭제됐지만 글이 일정 시간 불특정 다수에 노출됐다는 점에서 문제가 커지고 있다.  B양 부모는 제주지방경찰청 SNS에 '미성년자인 점과 죄를 지었지만 경찰관이 모자이크 처리도 안하고 공개한 점에 대해 인권을 짓밟았다'며 항의 글을 올린 것으로 전해졌다. 또 딸의 사진이 제주도 중학생들한테 알려져 학교를 다닐 수 없는 상황이라고 호소하고 있다.  물론 SNS 공간이라고 하지만 그 파급력을 감안하면 사실상 여중생을 공개수배자로 내몰았다는 지적을 피할 수 없을 것으로 보인다. 더욱이 경찰관이 관련 규칙을 따르지 않고 단독으로 공개수배화했다는 점에서 파문이 커지고 있다. 경찰청 범죄수사규칙에 따르면 통상 공개수배는 지명수배나 지명통보를 한 후 6개월이 지나도 주요 피의자를 검거하지 못할때 경찰청장이 할 수 있다. 또 사형이나 무기징역, 장기 3년이상 징역에 해당하는 죄를 범했을때 경찰관서장이 공개수배를 할 수 있다. 단순 사건을 그것도 경찰관 단독으로 공개수배를 할 수 없다는 얘기다. 특히 여중생에 대한 과도한 인권침해 논란이 일고 있다. 경찰청 훈령은 '인권보호를 위한 경찰관 직무규칙'을 정하고 있다. 공개수배를 할 때도 그 죄증이 명백하고 공익성이 현저한 경우에만 실시해야 한다고 명시하고 있다. 이와 함께 개인정보보호법상 개인정보처리자는 사생활 침해를 최소화하는 방향으로 하고 익명처리가 가능한 경우에는 익명으로 처리해야 한다. 이에 따라 경찰은 A 경찰관을 상대로 공개수배절차 위반과 개인정보보호법 저촉 여부를 조사하고 있다.jeju@cbs.co.kr저작권자 © CBS 노컷뉴스(www.nocutnews.co.kr) 무단전재 및 재배포 금지   \""
      ]
     },
     "execution_count": 45,
     "metadata": {},
     "output_type": "execute_result"
    }
   ],
   "source": [
    "article=df['article'][100000].replace('▶','\\n▶').replace('\\t', '').replace('\\n', ' ')#.split('\\n')\n",
    "article"
   ]
  },
  {
   "cell_type": "code",
   "execution_count": 46,
   "metadata": {},
   "outputs": [
    {
     "data": {
      "text/plain": [
       "\"제주에서 지구대 경찰관이 SNS(소셜네트워크서비스)에 절도 의혹을 받고 있는 여중생의 얼굴을 공개해 파문이 일고 있다.  제주지방경찰청은 CCTV에 찍힌 여중생의 사진을 SNS에 공개한 모 지구대 소속 A경찰관을 상대로 사실 확인과 경위를 조사하고 있다고 1일 밝혔다. A경찰관은 지난 3월 28일 밤 10시 30분쯤 자신의 SNS에 '경찰관입니다. 한 잡화점에서 어떤분이 물건만 갖고 돈은 내지 않고 가버려 신고가 접수되었네요. 아마 깜빡한 거 같은데… 혹시 CCTV 사진 속 여성분이 누구인지 아시는 분은 문자 바랍니다'라는 내용의 글과 함께 해당 여중생 B양의 사진을 올렸다. 게시글은 다음날 삭제됐지만 글이 일정 시간 불특정 다수에 노출됐다는 점에서 문제가 커지고 있다.  B양 부모는 제주지방경찰청 SNS에 '미성년자인 점과 죄를 지었지만 경찰관이 모자이크 처리도 안하고 공개한 점에 대해 인권을 짓밟았다'며 항의 글을 올린 것으로 전해졌다. 또 딸의 사진이 제주도 중학생들한테 알려져 학교를 다닐 수 없는 상황이라고 호소하고 있다.  물론 SNS 공간이라고 하지만 그 파급력을 감안하면 사실상 여중생을 공개수배자로 내몰았다는 지적을 피할 수 없을 것으로 보인다. 더욱이 경찰관이 관련 규칙을 따르지 않고 단독으로 공개수배화했다는 점에서 파문이 커지고 있다. 경찰청 범죄수사규칙에 따르면 통상 공개수배는 지명수배나 지명통보를 한 후 6개월이 지나도 주요 피의자를 검거하지 못할때 경찰청장이 할 수 있다. 또 사형이나 무기징역, 장기 3년이상 징역에 해당하는 죄를 범했을때 경찰관서장이 공개수배를 할 수 있다. 단순 사건을 그것도 경찰관 단독으로 공개수배를 할 수 없다는 얘기다. 특히 여중생에 대한 과도한 인권침해 논란이 일고 있다. 경찰청 훈령은 '인권보호를 위한 경찰관 직무규칙'을 정하고 있다. 공개수배를 할 때도 그 죄증이 명백하고 공익성이 현저한 경우에만 실시해야 한다고 명시하고 있다. 이와 함께 개인정보보호법상 개인정보처리자는 사생활 침해를 최소화하는 방향으로 하고 익명처리가 가능한 경우에는 익명으로 처리해야 한다. 이에 따라 경찰은 A 경찰관을 상대로 공개수배절차 위반과 개인정보보호법 저촉 여부를 조사하고 있다\""
      ]
     },
     "execution_count": 46,
     "metadata": {},
     "output_type": "execute_result"
    }
   ],
   "source": [
    "import re\n",
    "article = re.sub(r'\\/\\/[a-zA-Z가-힣 \\n]+|{}|_flash_removeCallback\\(\\)', '', article)\n",
    "#article = re.sub(r'\\[중앙[a-zA-Z가-힣 ]+\\]', '', article)\n",
    "article = re.sub(r'\\(사진=[a-zA-Z가-힣= ]+\\)', '', article)\n",
    "\n",
    "article = re.sub(r'\\[[가-힣(CBS)= ]+\\]', '', article.strip())\n",
    "#article = re.sub(r'◀[가-힣 ]+▶', '', article)\n",
    "#article = re.sub(r'\\[[가-힣 ]+\\=[가-힣 ]+(기자|특파원)(.*)', '', article)\n",
    "#article = re.sub(r'\\[[가-힣 ]+(기자|특파원)\\]', '', article)\n",
    "article = re.sub(r'[a-z0-9.]+@cbs.co.kr(.*)', '', article)\n",
    "\n",
    "#article = re.sub(r'\\[매일경제 공식(.*)', '', article)\n",
    "#article = re.sub(r'\\[ⓒ 조인스랜드 (.*)\\]', '', article)\n",
    "\n",
    "article"
   ]
  },
  {
   "cell_type": "code",
   "execution_count": 47,
   "metadata": {
    "collapsed": true
   },
   "outputs": [],
   "source": [
    "import re\n",
    "def remove_extras(article):   \n",
    "    article = article.replace('▶','\\n▶').replace('\\t', '').replace('\\n', ' ')#.split('\\n')\n",
    "    article = re.sub(r'\\/\\/[a-zA-Z가-힣 \\n]+|{}|_flash_removeCallback\\(\\)', '', article)\n",
    "    article = re.sub(r'\\(사진=[a-zA-Z가-힣= ]+\\)', '', article)\n",
    "\n",
    "    article = re.sub(r'\\[[가-힣(CBS)= ]+\\]', '', article.strip())\n",
    "    article = re.sub(r'[a-z0-9.]+@cbs.co.kr(.*)', '', article)\n",
    "\n",
    "\n",
    "    article = article.replace('\\n', ' ')\n",
    "    return article"
   ]
  },
  {
   "cell_type": "code",
   "execution_count": 48,
   "metadata": {},
   "outputs": [
    {
     "name": "stdout",
     "output_type": "stream",
     "text": [
      "휴지 집으로 가져가는 이용자로 골치, 사생활 침해 우려  사진=스마트이미지 제공 \"중국의 수도 베이징이 빈번한 두루마리 휴지 도둑질을 막기 위해 공중화장실 내에 얼굴 스캐너를 설치했다\"고 19일(현지시간) 가디언이 보도했다.  베이징에서 가장 붐비는 한 공중화장실. 이 곳은 얼굴 스캐너를 통해 신원이 확인된 이용자만 두루마리 휴지를 쓸 수 있다.  자동안면인식장치가 삽입된 얼굴 스캐너는 공중화장실의 휴지를 수시로 집으로 가져가는 장년층 이용자의 행동을 막기 위한 수단이다.   휴지를 사용하려면 모자와 안경을 벗고 3초간 고화질 카메라 앞에 서야 한다. 휴지 1회 사용량은 60cm로 제한하며, 휴지를 또 한 번 받으려면 9분을 기다려야 한다.   문제는 얼굴 스캐너가 사생활 침해에 대한 우려를 가중시킨다는 것이다. 한 누리꾼은 웨이보에 \"화장실은 사생활 보호를 위한 최후의 보루같은 장소다. 하지만 카메라가 나를 쳐다보고 있다\"고 불안해 했다.   \"베이징은 CCTV 카메라가 많기로 악명 높은 런던 보다 한 수 위다. 베이징에는 4만 6천 개 이상의 CCTV 카메라가 곳곳에 설치되어 있고, 찍힌 영상을 보기 위해 4천 3백명의 직원이 일한다\"고 가디언은 보도했다.   또 \"공중화장실 마다 얼굴 스캐너 사용법을 알려주는 안내요원을 둬야 한다. 관광명소 천단공원 옆 화장실은 기다리는 줄이 끝이 없다. 어떤 곳은 기계 고장으로 안내원이 직접 휴지를 나눠주기도 한다\"고 전했다.   중국은 관광 활성화를 위해 화장실 혁명을 단행하고 있다. 재원 2330억 파운드(약 324조)를 투입해 공중화장실 10만 곳을 리노베이션한다.   공중화장실 등급은 A부터 AAA까지 이며, 대형스크린 TV와 와이파이, ATM, 소파 등을 갖출 계획이다.   \n"
     ]
    }
   ],
   "source": [
    "print(remove_extras(df['article'][16]))"
   ]
  },
  {
   "cell_type": "code",
   "execution_count": 49,
   "metadata": {},
   "outputs": [
    {
     "data": {
      "text/plain": [
       "0         광주지방검찰청 목포지청은 20일 전남 무안군청 6급 공무원 A 씨를 뇌물수수 혐의로...\n",
       "1         과로사 추정  정유라 씨. 자료사진 덴마크에 머물고 있는 정유라씨의 변호사 피터 마...\n",
       "2          박근혜 전 대통령의 검찰 소환을 하루 앞둔 20일 오후 서울 강남구 박 전 대통령...\n",
       "3         충북 청주의 한 주택재개발조합 내부에서 정비업체 선정 과정 등의 각종 비위 의혹이 ...\n",
       "4         31일부터 다음달 9일까지 10일간 '제1회 경주벚꽃축제' 개최 보문단지 일대의 만...\n",
       "5           숭실대 김회권 교수가 신간을 발표했습니다. 이번 책은 구약의 모세오경을 하나님나...\n",
       "6         한국교원대학교는 20일 황새생태연구원장에 남영숙 환경교육과 교수를 임명했다고 밝혔다...\n",
       "7         더불어민주당 대선후보 경선 선거인단 신청자 수가 20일 200만 명을 돌파했다.  ...\n",
       "8          롯데그룹 신동빈 회장이 20일 오후 서울중앙지법에서 열린 롯데그룹 총수 일가의 경...\n",
       "9         포스코보다 '복지혜택' 좋은 기업에서 임금체불 기업 '전락' 영일기업 정문 모습. ...\n",
       "10        주중대사관 영사부 신변 안전 유의 통지, 후난성 체육국 가이드 라인 제시 고고도 미...\n",
       "11        주요 방산 완제품의 46개 핵심기술 경쟁력, 세계 최고수준의 71 수준 연간 수 조...\n",
       "12        안상수·원유철 탈락…31일 전당대회서 최종 후보 선출 자유한국당 대선후보 최종 경선...\n",
       "13        최경환 의원. 박근혜 전 대통령의 파면 이후에도 '친위대'를 자청한 최경환 자유한국...\n",
       "14        넷마블, 증권신고서 제출… 4월 25~26일 공모주 청약 넷마블게임즈(이하 넷마블,...\n",
       "15        울산 야권 \"울산시, 통행료 100~300원 인상 중단해야\"…염포산터널 무료화도 촉...\n",
       "16        휴지 집으로 가져가는 이용자로 골치, 사생활 침해 우려  사진=스마트이미지 제공 \"...\n",
       "17        검찰이 의료업계 리베이트에 대한 수사에 본격 나서 전.현직 세무 공무원을 추가 구속...\n",
       "18        박근혜 정권 퇴진 충북비상국민행동이 박 전 대통령의 구속 수사를 촉구하고 나섰다. ...\n",
       "19         박근혜 전 대통령이 피의자로 검찰에 출석하기 하루 전인 20일 서초구 서울중앙지검...\n",
       "20        안희정 후보, 23일 광주찾아  (ㅅㅏ진=김삼헌기자)문재인 후보가 광주전남 발전공약...\n",
       "21        ▲ '포켓몬 고' SK텔레콤과 파트너십  '포켓몬 고'가 세븐일레븐과 롯데리아에 이...\n",
       "22        ▲넵튠, 신작 야구게임 ‘레전드라인업’ 게임명 및 BI 공개  정통 야구 매니지먼트...\n",
       "23        부산지방검찰청은 유관기관과 함께 오는 5월 9일 실시되는 19대 대통령 선거와 관련...\n",
       "24        대구시립희망원 생활인을 상습 폭행하고 가혹 행위를 한 혐의로 재판에 넘겨진 생활재활...\n",
       "25        SKT 고객은 6월말까지 '포켓몬 GO' 데이터 무료… 마케팅 및 5G 기반 AR ...\n",
       "26        사진=스마트이미지 제공 우리나라 사람들은 세계에서 몇 번째로 행복하다고 느낄까?  ...\n",
       "27        캐스팅보트 쥐고 있던 국민의당 포기로 3당 원내대표 합의 무산  국민의당 간사 김동...\n",
       "28        농어촌공사 전북본부가 시행한 배수개선사업농어촌공사 전북본부가 올해 상습침수 농경지 ...\n",
       "29         용의 선상의 러시아 국적 화물선  전복됐던 한국 어선 여수해경이 국내 어선과 충돌...\n",
       "                                ...                        \n",
       "180712    황교안 대통령 권한대행. 황교안 대통령 권한대행 겸 국무총리가 지난 30일 야권의 ...\n",
       "180713    31일 오후 서울 광화문 광장에서 열린 박근혜 즉각퇴진 조기탄핵 송박영신 10차 촛...\n",
       "180714    31일 오후 서울 광화문 광장에서 열린 박근혜 즉각퇴진 조기탄핵 송박영신 10차 촛...\n",
       "180715    31일 오후 서울 광화문 광장에서 박근혜 즉각퇴진 조기탄핵 송박영신 10차 촛불집회...\n",
       "180716    31일 오후 서울 광화문 광장에서 열린 박근혜 즉각퇴진 조기탄핵 송박영신 10차 촛...\n",
       "180717    31일 오후 서울 광화문 광장에서 열린 박근혜 즉각퇴진 조기탄핵 송박영신 10차 촛...\n",
       "180718    31일 오후 서울 광화문 광장에서 열린 박근혜 즉각퇴진 조기탄핵 송박영신 10차 촛...\n",
       "180719    31일 오후 서울 광화문 광장에서 열린 박근혜 즉각퇴진 조기탄핵 송박영신 10차 촛...\n",
       "180720    31일 오후 서울 광화문 광장에서 열린 박근혜 즉각퇴진 조기탄핵 송박영신 10차 촛...\n",
       "180721    31일 오후 서울 광화문 광장에서 열린 박근혜 즉각퇴진 조기탄핵 송박영신 10차 촛...\n",
       "180722    31일 오후 서울 광화문 광장에서 열린 박근혜 즉각퇴진 조기탄핵 송박영신 10차 촛...\n",
       "180723    31일 오후 서울 광화문 광장에서 열린 박근혜 즉각퇴진 조기탄핵 송박영신 10차 촛...\n",
       "180724    31일 오후 서울 광화문 광장에서 열린 박근혜 즉각퇴진 조기탄핵 송박영신 10차 촛...\n",
       "180725    31일 오후 서울 광화문 광장에서 열린 박근혜 즉각퇴진 조기탄핵 송박영신 10차 촛...\n",
       "180726    31일 오후 서울 광화문 광장에서 열린 박근혜 즉각퇴진 조기탄핵 송박영신 10차 촛...\n",
       "180727    31일 오후 서울 광화문 광장에서 열린 박근혜 즉각퇴진 조기탄핵 송박영신 10차 촛...\n",
       "180728    31일 오후 서울 광화문 광장에서 열린 박근혜 즉각퇴진 조기탄핵 송박영신 10차 촛...\n",
       "180729    31일 오후 서울 광화문 광장에서 열린 박근혜 즉각퇴진 조기탄핵 송박영신 10차 촛...\n",
       "180730    31일 오후 서울 광화문 광장에서 열린 박근혜 즉각퇴진 조기탄핵 송박영신 10차 촛...\n",
       "180731    31일 오후 서울 광화문 광장에서 열린 박근혜 즉각퇴진 조기탄핵 송박영신 10차 촛...\n",
       "180732    2016년 마지막날인 31일 오후 서울 종로구 보신각에서 '2016 제야의 종 타종...\n",
       "180733    2016년 마지막날인 31일 오후 서울 종로구 보신각에서 경찰이 '2016 제야의 ...\n",
       "180734    2016년 마지막날인 31일 오후 서울 종로구 보신각에서 경찰이 '2016 제야의 ...\n",
       "180735    31일 오후 서울 광화문 광장에서 열린 박근혜 즉각퇴진 조기탄핵 송박영신 10차 촛...\n",
       "180736    31일 오후 서울 광화문 광장에서 열린 박근혜 즉각퇴진 조기탄핵 송박영신 10차 촛...\n",
       "180737    31일 오후 서울 광화문 광장에서 열린 박근혜 즉각퇴진 조기탄핵 송박영신 10차 촛...\n",
       "180738    31일 오후 서울 광화문 광장에서 열린 박근혜 즉각퇴진 조기탄핵 송박영신 10차 촛...\n",
       "180739    \"'위안부' 합의 무효화 위해 저항 지속해야\"31일 오후 9시 부산 동구 일본영사관...\n",
       "180740    '문화예술인 블랙리스트 의혹'을 수사 중인 박영수 특별검사팀이 조윤선 문체부 장관에...\n",
       "180741    집회 규모 세계적 진기록…꺼지지 않는 촛불 민심31일 오후 서울 광화문 광장에서 열...\n",
       "Name: article, Length: 180742, dtype: object"
      ]
     },
     "execution_count": 49,
     "metadata": {},
     "output_type": "execute_result"
    }
   ],
   "source": [
    "df['article']=df['article'].apply(lambda x: remove_extras(x))\n",
    "df['article']"
   ]
  },
  {
   "cell_type": "code",
   "execution_count": 50,
   "metadata": {
    "collapsed": true
   },
   "outputs": [],
   "source": [
    "counts=df.groupby('section').size()\n",
    "sorted_counts=counts.sort_values(ascending=False)"
   ]
  },
  {
   "cell_type": "code",
   "execution_count": 51,
   "metadata": {},
   "outputs": [
    {
     "data": {
      "text/plain": [
       "section\n",
       "지역       63686\n",
       "포토       39954\n",
       "정치       21558\n",
       "사회       20809\n",
       "경제/산업    15140\n",
       "문화       11354\n",
       "세계        5024\n",
       "IT/과학     1963\n",
       "기타         607\n",
       "오피니언       570\n",
       "연예          36\n",
       "스포츠         21\n",
       "교계          20\n",
       "dtype: int64"
      ]
     },
     "execution_count": 51,
     "metadata": {},
     "output_type": "execute_result"
    }
   ],
   "source": [
    "sorted_counts"
   ]
  },
  {
   "cell_type": "code",
   "execution_count": 52,
   "metadata": {
    "collapsed": true
   },
   "outputs": [],
   "source": [
    "df.to_pickle('nocut_all.pkl')"
   ]
  },
  {
   "cell_type": "code",
   "execution_count": 16,
   "metadata": {},
   "outputs": [
    {
     "data": {
      "text/plain": [
       "Index         2360328\n",
       "article    1181572465\n",
       "author       28497751\n",
       "date         19767747\n",
       "section      29771250\n",
       "title        59625664\n",
       "sec_idx       2360328\n",
       "dtype: int64"
      ]
     },
     "execution_count": 16,
     "metadata": {},
     "output_type": "execute_result"
    }
   ],
   "source": [
    "df.memory_usage(deep=True)"
   ]
  },
  {
   "cell_type": "code",
   "execution_count": null,
   "metadata": {
    "collapsed": true
   },
   "outputs": [],
   "source": []
  }
 ],
 "metadata": {
  "kernelspec": {
   "display_name": "Python 3",
   "language": "python",
   "name": "python3"
  },
  "language_info": {
   "codemirror_mode": {
    "name": "ipython",
    "version": 3
   },
   "file_extension": ".py",
   "mimetype": "text/x-python",
   "name": "python",
   "nbconvert_exporter": "python",
   "pygments_lexer": "ipython3",
   "version": "3.5.2"
  }
 },
 "nbformat": 4,
 "nbformat_minor": 1
}
