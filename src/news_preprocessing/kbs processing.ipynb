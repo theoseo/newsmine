{
 "cells": [
  {
   "cell_type": "code",
   "execution_count": 1,
   "metadata": {
    "collapsed": true
   },
   "outputs": [],
   "source": [
    "import glob\n",
    "\n",
    "files = glob.glob('./data/2017/*/kbs/*.json')"
   ]
  },
  {
   "cell_type": "code",
   "execution_count": 2,
   "metadata": {
    "collapsed": true
   },
   "outputs": [],
   "source": [
    "import json\n",
    "def read_json_file(path_to_file):\n",
    "    with open(path_to_file) as p:\n",
    "        rows=[json.loads(line) for line in p]\n",
    "    return rows"
   ]
  },
  {
   "cell_type": "code",
   "execution_count": 3,
   "metadata": {
    "collapsed": true
   },
   "outputs": [],
   "source": [
    "import pandas as pd\n",
    "\n",
    "data=[]\n",
    "for path in files:\n",
    "    data.extend(read_json_file(path))\n",
    "\n",
    "df = pd.DataFrame(data)"
   ]
  },
  {
   "cell_type": "code",
   "execution_count": 4,
   "metadata": {
    "collapsed": true
   },
   "outputs": [],
   "source": [
    "df.drop(['comments','image','naver_section','naver_url','org_url','time','vod'], axis = 1, inplace = True)"
   ]
  },
  {
   "cell_type": "code",
   "execution_count": 6,
   "metadata": {
    "collapsed": true
   },
   "outputs": [],
   "source": [
    "import pandas as pd\n",
    "\n",
    "with open('./data/kbs_2016.pkl', 'rb') as f1:\n",
    "    df2016 = pd.read_pickle(f1)"
   ]
  },
  {
   "cell_type": "code",
   "execution_count": 7,
   "metadata": {
    "collapsed": true
   },
   "outputs": [],
   "source": [
    "df2016.rename(columns={'content': 'article'}, inplace=True)"
   ]
  },
  {
   "cell_type": "code",
   "execution_count": 8,
   "metadata": {
    "collapsed": true
   },
   "outputs": [],
   "source": [
    "df2016.drop(['oid','aid','media','naver_count','org_count','org_url','total_count','ml_section'], axis = 1, inplace = True)"
   ]
  },
  {
   "cell_type": "code",
   "execution_count": 9,
   "metadata": {
    "collapsed": true
   },
   "outputs": [],
   "source": [
    "df=df[['date', 'title', 'article', 'section']]"
   ]
  },
  {
   "cell_type": "code",
   "execution_count": 10,
   "metadata": {
    "collapsed": true
   },
   "outputs": [],
   "source": [
    "df=df.append(df2016)\n",
    "df=df.reset_index(drop=True)\n"
   ]
  },
  {
   "cell_type": "code",
   "execution_count": 40,
   "metadata": {},
   "outputs": [
    {
     "data": {
      "text/plain": [
       "\"          허리케인 '마리아'가 강타한 미국령 푸에르토리코에서 그 피해에 따른 사망자가 43명으로 늘었다고 정부 관계자가 밝혔다.      푸에르토리코 사회문제·공안 경찰 담당자는 오늘 인명 피해 현황을 공개하며 지금까지 16%의 전력 공급이 복구됐다고 말했다.      푸에르토리코에서는 최근 허리케인 마리아가 들이닥쳐 최근 90년 사이에 최악의 피해가 발생했다.  김철우기자 (cwkim@kbs.co.kr )     ▶ [저작권자ⓒ KBS 무단복제-재배포 금지]  \""
      ]
     },
     "execution_count": 40,
     "metadata": {},
     "output_type": "execute_result"
    }
   ],
   "source": [
    "article=df['article'][52000].replace('▶','\\n▶').replace('\\t', '').replace('\\n', ' ')#.split('\\n')\n",
    "article"
   ]
  },
  {
   "cell_type": "code",
   "execution_count": 22,
   "metadata": {},
   "outputs": [
    {
     "data": {
      "text/plain": [
       "'       블라디미르 푸틴 러시아 대통령이 30일(현지시간) 지난해 미국 대선 기간에 러시아가 해킹을 통해 선거에 개입했다는 주장을 거듭 반박했다.   타스 통신 등에 따르면 푸틴 대통령은 이날 자국 북단 도시 아르한겔스크에서 열린 북극 관련 포럼에 참석해 연설하면서 \\'러시아의 미국 대선 개입 주장\\'에 대해 논평해 달라는 진행자의 요청을 받고 \"이 모든 것은 미국 내부 정치에 이용되고 있다\"며 \"일부 미국 정치 세력이 자신들의 입지를 강화하기 위해 반(反)러시아 카드를 이용하고 있다\"고 지적했다.   푸틴은 이와 관련 러시아는 이미 오래전에 미국 측에 사이버 안보와 관련한 정부 간 협정 체결을 제안했으나 미국이 거부했음을 상기시켰다.   그는 \"우리는 선거 개입에 관한 이 근거 없는 비난을 끝없이 듣고 사이버 안보에 관해 얘기하고 있다\"며 \"우리가 (사이버 안보) 협정 체결을 먼저 제안했지만, 미국이 거절했다\"고 말했다.    푸틴은 \"미국에선 주미 러시아 대사 세르게이 키슬략이 누구를 만나든 그것을 스파이 행위로 본다. 이것이 바로 헛소리가 아니고 무엇이냐\"고 반문하면서 \"정치 엘리트, 기업인, 의원, 백악관 관리 등을 만나는 것은 외교 관행\"이라고 주장했다.   그는 러시아와 미국 사이의 외교관계를 훼손하려는 시도는 무책임하고 잘못된 것이라면서 \"외교관계를 완전히 단절하고 상황을 1960년대 카리브해 위기(쿠바 핵위기) 때처럼 몰고 가서 어쩌자는 것이냐. 이는 미국 국민의 이익에도 부합하지 않는다\"고 강조했다.     이어 \"러시아는 미국을 싸워야 할 상대가 아닌 파트너 관계를 맺고 싶은 강대국으로 간주한다\"면서 \"양국이 북극, 시리아 및 우크라이나 사태 등의 문제에서 대화를 하게 되길 바란다\"고 말했다.   그는 \"러시아는 북극 지역에서 미국과 전쟁을 하거나 경쟁할 생각이 없다\"면서 \"북극의 섬과 연안 지역에서 군사 인프라를 구축하는 것은 선박 항해 안전을 확보하기 위한 것\"이라고 설명했다.  러시아는 그동안 줄곧 미 대선 개입 주장을 근거 없는 정치 선전전이라고 반박해 왔다.       푸틴 대통령은 이날 도널드 트럼프 대통령과의 첫 정상회담 계획과 관련, 자신은 미국 정상을 만날 준비가 돼 있으며 미국이 대화에 대한 의지를 보여야 한다고 요구했다.   그는 \"경제, 안보, 지역 갈등 등 논의할 문제는 산적해 있다\"면서 미-러가 조속히 어디서 만날지 어떤 문제를 논의할지를 결정하게 되길 바란다\"고 덧붙였다.   그러면서 이날 포럼에 참석한 사울리 니니스퇴 핀란드 대통령이 자국에서 첫 미-러 정상회담을 개최하는 방안을 제안한 데 대해 가능하다고 답했다.   니니스퇴 대통령은 북극 이용 문제 논의를 위한 관련국들의 정상회의를 자국에서 개최하겠다고 제안하면서 이 회의에서 미-러 정상회담을 조직하길 바란다고 밝혔다.   이에 푸틴은 \"핀란드가 조직하는 북극 정상회의에 참석해 트럼프 대통령을 만날 의향이 있으며 아니면 (올해 7월 독일에서 열리는) 주요20개국(G20) 정상회의에서 만날 수도 있을 것\"이라고 말했다.   푸틴은 최근 러시아 전역에서 대규모로 벌어진 공직자 부패 척결 촉구 시위에 대해 \"부패와의 전쟁 문제가 사회적 논의의 중심에 있는 것을 지지하지만, 특정 정치 세력이 이를 선거전에 이용하는 것에는 반대한다\"는 입장을 밝혔다.   그는 \"\\'아랍의 봄\\' 같은 도구가 어떤 결과를 낳았는지 잘 안다. 그것은 우크라이나의 정치 쿠데타를 촉발하는 계기가 됐다\"며 \"모두는 법률의 틀 내에서 정치 활동을 해야 한다\"고 강조했다.   그러면서 체포된 시위 참가자들을 석방하라는 서방의 요구는 내정 간섭이라고 비난했다.'"
      ]
     },
     "execution_count": 22,
     "metadata": {},
     "output_type": "execute_result"
    }
   ],
   "source": [
    "import re\n",
    "article = re.sub(r'\\/\\/[a-zA-Z가-힣 \\n]+|{}|_flash_removeCallback\\(\\)', '', article)\n",
    "#article = re.sub(r'\\[중앙[a-zA-Z가-힣 ]+\\]', '', article)\n",
    "#article = re.sub(r'\\[사진 [a-zA-Z가-힣]+\\]', '', article)\n",
    "#article = re.sub(r'\\[(앵커|기자)\\]', '', article)\n",
    "article = re.sub(r'[0-9가-힣=()· ]+\\([a-z0-9. ]+@kbs.co.kr[ ]\\)(.*)', '', article)\n",
    "#article = re.sub(r'[0-9가-힣=() ]+▶(.*)', '', article)\n",
    "#article = re.sub(r'▶ JTBC 뉴스 공식(.*)', '', article)\n",
    "#article = re.sub(r'\\[ⓒ 조인스랜드 (.*)\\]', '', article)\n",
    "\n",
    "article"
   ]
  },
  {
   "cell_type": "code",
   "execution_count": 30,
   "metadata": {
    "collapsed": true
   },
   "outputs": [],
   "source": [
    "import re\n",
    "def remove_extras(article):   \n",
    "    article = article.replace('▶','\\n▶').replace('\\t', '').replace('\\n', ' ')#.split('\\n')\n",
    "    article = re.sub(r'\\/\\/[a-zA-Z가-힣 \\n]+|{}|_flash_removeCallback\\(\\)', '', article)\n",
    "    article = re.sub(r'[0-9가-힣=()· ]+\\([a-z0-9. ]+@kbs.co.kr[ ]\\)(.*)', '', article)\n",
    "    article = article.replace('\\n', ' ')\n",
    "    return article"
   ]
  },
  {
   "cell_type": "code",
   "execution_count": 43,
   "metadata": {},
   "outputs": [
    {
     "name": "stdout",
     "output_type": "stream",
     "text": [
      "         2016년은 북한의 핵 도발로 남북관계가 더욱 경색된 한해였습니다. 북한은 올해에만 두 차례 핵실험과, 20여 차례나 미사일 시험 발사를 감행했는데요, 특히 지난 9월 5차 핵실험 뒤에는 핵탄두 폭발에서 성과가 있었다고 주장해, 핵무기 실전배치가 임박한 것 아니냐는 관측을 낳았습니다.보도에 김용준 기자입니다.  북한은 지난 1월, 4차 핵실험을 감행한 뒤  수소폭탄 실험에 성공했다고 주장했습니다. 그로부터 8개월 뒤인 지난 9월, 북한은 또 다시 핵실험을 실시했습니다.  조선중앙TV(5차 핵실험 직후/지난 9월) : \"핵탄두 폭발시험이 성과적으로 진행된 것과 관련하여 뜨거운 축하를 보내왔다.\" 사상 처음으로  한해 동안 두 차례나 핵실험을 감행한 북한은  현재  약 40킬로그램의 플루토늄을 보유하고 있는 것으로 추정돼 최소 6~7기의 플루토늄 원자탄 제조가 가능할 것으로  정부는 판단하고 있습니다. 한민구(국방장관/국회 대정부 질문/지난 9월 21일) : \"(북한은) 플루토늄을 현재 약 40여kg 보유하고 있습니다.\" 북한은 핵 탄두를 원하는 곳까지 실어 나를 미사일 개발에도 속도를 내고 있습니다. 지난 1월, 장거리 미사일 광명성 4호 발사를 시작으로 노동과 무수단,  잠수함 발사 탄도미사일인 SLBM까지, 올 한해 동안 미사일 시험 발사를 20여 차례나  감행했습니다. 기술 향상 속도가 빨라지고 있어서  핵 미사일 실전 배치가 임박했다는 분석이 나오고 있습니다. 북한은  한국 내 정국 상황을 고려한 듯 10월 하순부터는  도발을 자제해 왔습니다. 하지만, 새해 초 미 트럼프 행정부가 출범하면  어떤 형태로든 도발을 재개할 가능성이 높다는 게 전문가들의 대체적인 관측입니다. KBS 뉴스 김용준입니다.\n"
     ]
    }
   ],
   "source": [
    "print(remove_extras(df['article'][224773]))"
   ]
  },
  {
   "cell_type": "code",
   "execution_count": 42,
   "metadata": {},
   "outputs": [
    {
     "data": {
      "text/plain": [
       "0                  호흡기 건강이 걱정되는 하루였습니다.   오늘, 인천을 비롯한 일부...\n",
       "1                아버지의 농장에서 일하는 외국인 노동자를 폭행한 30대가 경찰에 붙잡혔...\n",
       "2                국회 개헌특위 국민의당 간사인 김동철 의원은 20일(오늘) \"개헌특위는...\n",
       "3                    제주의 한 경찰서에서 경찰들이 동료 여경을 성추행했다는  신고가...\n",
       "4                    주민들이 입주한 뒤에도 학교시설이 제대로 갖춰지지 않은 신도시 ...\n",
       "5                   날씨가 풀리면서 자전거로 출퇴근 하는 분들,  적지 않은데요.  ...\n",
       "6                    8살 어린이가 대중목욕탕 배수구에 발이 끼는 바람에  물에 빠져...\n",
       "7                   경기도 화성시 광역화장장 건립을 반대하는 서수원 주민들이 감사원에...\n",
       "8                미성년자와 성관계를 한 혐의로 미국에서 기소된 뒤 40년 가까이 도피생...\n",
       "9                    어젯밤(19일) 인천에서 홍콩으로 가려던 대한항공 여객기에서  ...\n",
       "10                  횡령과 배임 등  경영비리 의혹으로 기소된 신격호 롯데그룹 총괄회...\n",
       "11                   의사 면허를 빌려 불법으로 병원을 운영하는 속칭 '사무장 병원'...\n",
       "12                    문화체육관광부가 오늘 미르재단과 K스포츠재단의 설립허가를 직권...\n",
       "13                  학대 당하거나 버려지는 동물도  크게 증가하고 있습니다.     ...\n",
       "14                  불황 속에서도 나홀로 성장을 계속하고 있는 시장이 있습니다.  반...\n",
       "15                  요 며칠 날씨는 완연한 봄이었는데, 미세먼지 농도가 심해서 야외 ...\n",
       "16                   제주시의 한 얼음 제조공장에서  유독물질인 암모니아 가스가 누출...\n",
       "17                   개발제한구역에서는 자연을 훼손하거나 개발하는 행위가 불법이지만 ...\n",
       "18                  자발적으로 원자력발전소를 유치할 때, 보상 차원에서 해당 지역에는...\n",
       "19                   요즘 우리나라에서도 브라질산 닭고기가 많이 유통되는데요.   브...\n",
       "20                  지난 주말, 아파트 화재현장에서 한 경비원이 주민들을 대피시키고 ...\n",
       "21                   국민의당과 바른정당 대선 경선 후보들이 각각 TV 토론회에서 주...\n",
       "22                   틸러슨 미 국무장관이 시진핑 중국 주석과의 회동을 마지막으로 한...\n",
       "23                   우리 국민의 사망 원인 1위는 암, 그중에서도 대장암 발병률은 ...\n",
       "24                     횡령·배임 등 경영비리 의혹으로 기소된 신격호 총괄회장 등 ...\n",
       "25                     북한이 공개한  신형 고출력 로켓엔진 시험에 대해  국방부가...\n",
       "26               청와대를 드나들며 박근혜 전 대통령을 진료하는 과정에서 의료법을 위반해...\n",
       "27                   유사시 북한 지도부 타격이 가능한 미군의 B-1B 폭격기 등에 ...\n",
       "28               경찰이 박근혜 전 대통령이 검찰에 출석하는 내일(21일) 서울 강남구 ...\n",
       "29                           코스피 2,157.01 코스닥 609.11  KBS  \n",
       "                                ...                        \n",
       "224759             격동의 2016년이 저물어가고 있습니다.오늘(31일) 9시 뉴스는 ...\n",
       "224760             해마다 이맘 때면 가장 붐비는 곳이죠, 강원도 동해안은 벌써부터 해...\n",
       "224761             '제야의 종' 타종 행사가 열릴 서울 보신각에도 새해 첫 순간을 함...\n",
       "224762             보신각 인근인 서울 광화문 광장에서는 올해 마지막 날인 오늘(31일...\n",
       "224763             소설 영원한 제국의 저자인 류철균 이화여대 교수가 박영수 특별검사팀...\n",
       "224764             특검의 지명 수배 이후에도 행방이 묘연했던 정유라 씨가 덴마크의 한...\n",
       "224765             청문회에서 모르쇠나 부인으로 일관했던 조윤선, 김종덕 두 전현직 문...\n",
       "224766             반기문 유엔사무총장이 자신을 둘러싼 많은 의혹들을 악성 정치 공작이...\n",
       "224767             야권 대선주자들은 촛불집회 등에 참가하며 내년 정권교체를 다짐했습니...\n",
       "224768             AI가 의심되는 닭과 오리를 묻을 땅조차 확보하기 어려울 정도로 A...\n",
       "224769             미국 정부가 미 대선 개입 해킹 의혹과 관련해 러시아 외교관을 대거...\n",
       "224770             이제 세 시간도 채 남지 않은 2016년.여러분은 어떻게 마무리 짓...\n",
       "224771             2016년은 정말 다사다난했던 한 해였습니다.때로는 영화보다 더한 ...\n",
       "224772             전 세계를 놀라게 한 거대한 촛불집회는 실망과 분노를 넘어 새로운 ...\n",
       "224773             2016년은 북한의 핵 도발로 남북관계가 더욱 경색된 한해였습니다....\n",
       "224774             올해는 김정은이 집권한지 5년째 되는 해였는데요.  자신의 핵 개발...\n",
       "224775                   [영상구성] 2016년을 보내며…‘남산에서 본 서울’KBS  \n",
       "224776             한 해가 저무는 지금 이 시간에도 군 장병들은 각자 위치에서 국토 ...\n",
       "224777             마이크로소프트 창업자 빌 게이츠가 전 세계적으로 유행성 전염병에 대...\n",
       "224778             얼어붙은 경기에 사회 분위기마저 움츠러들면서 어려운 이웃들에게는 어...\n",
       "224779             김영란 법으로 불리는 청탁금지법도 올해 우리 사회의 큰 화두 중 하...\n",
       "224780              우리나라 가구의 한 달 평균 소득은 440만 원 가량입니다. 1년...\n",
       "224781             이제는 지진이 남의 나라 일이 아니라는 사실을 알게해줬죠. 경주 지...\n",
       "224782              2016년, 문화계의 최대 키워드는 '중국'이었습니다. 드라마 태...\n",
       "224783              올해는 사건사고도 많았지만 우리에게 깊은 감동을 준 의인들도 유독...\n",
       "224784             올 한해도 KBS는 시청자들의 소중한 제보로 뉴스를 더 생생하고 정...\n",
       "224785             올해 마지막날인 오늘 대부분 지방에서  저물어가는 해를 볼 수 있었...\n",
       "224786             시진핑(習近平) 중국 국가주석이 2017년도 신년사에서 \"우리는 평...\n",
       "224787             러시아에 임시망명 중인 전 미국 정보요원 에드워드 스노든이 다음 달...\n",
       "224788             경기도 포천에서 고양이에게 감염된 AI 바이러스는 결국 고병원성 H...\n",
       "Name: article, Length: 224789, dtype: object"
      ]
     },
     "execution_count": 42,
     "metadata": {},
     "output_type": "execute_result"
    }
   ],
   "source": [
    "df['article']=df['article'].apply(lambda x: remove_extras(x))\n",
    "df['article']"
   ]
  },
  {
   "cell_type": "code",
   "execution_count": 44,
   "metadata": {
    "collapsed": true
   },
   "outputs": [],
   "source": [
    "counts=df.groupby('section').size()\n",
    "sorted_counts=counts.sort_values(ascending=False)"
   ]
  },
  {
   "cell_type": "code",
   "execution_count": 45,
   "metadata": {},
   "outputs": [
    {
     "data": {
      "text/plain": [
       "section\n",
       "사회          84246\n",
       "정치          48281\n",
       "국제          46999\n",
       "경제          26505\n",
       "문화           4964\n",
       "라이프          2329\n",
       "IT·과학        1386\n",
       "뉴스광장          987\n",
       "아침뉴스타임        593\n",
       "뉴스 9          534\n",
       "뉴스 12         342\n",
       "뉴스라인          320\n",
       "뉴스 5          172\n",
       "뉴스광장 1부       144\n",
       "뉴스 7          136\n",
       "라인뉴스            6\n",
       "멀티미디어 뉴스        3\n",
       "K-STAR          3\n",
       "취재파일K           1\n",
       "명견만리            1\n",
       "사정원의 사건후        1\n",
       "시사진단            1\n",
       "옐로우카드2          1\n",
       "운동화             1\n",
       "4시 뉴스집중         1\n",
       "dtype: int64"
      ]
     },
     "execution_count": 45,
     "metadata": {},
     "output_type": "execute_result"
    }
   ],
   "source": [
    "sorted_counts"
   ]
  },
  {
   "cell_type": "code",
   "execution_count": 46,
   "metadata": {
    "collapsed": true
   },
   "outputs": [],
   "source": [
    "df.to_pickle('kbs_all.pkl')"
   ]
  },
  {
   "cell_type": "code",
   "execution_count": 16,
   "metadata": {},
   "outputs": [
    {
     "data": {
      "text/plain": [
       "Index         2360328\n",
       "article    1181572465\n",
       "author       28497751\n",
       "date         19767747\n",
       "section      29771250\n",
       "title        59625664\n",
       "sec_idx       2360328\n",
       "dtype: int64"
      ]
     },
     "execution_count": 16,
     "metadata": {},
     "output_type": "execute_result"
    }
   ],
   "source": [
    "df.memory_usage(deep=True)"
   ]
  },
  {
   "cell_type": "code",
   "execution_count": null,
   "metadata": {
    "collapsed": true
   },
   "outputs": [],
   "source": []
  }
 ],
 "metadata": {
  "kernelspec": {
   "display_name": "Python 3",
   "language": "python",
   "name": "python3"
  },
  "language_info": {
   "codemirror_mode": {
    "name": "ipython",
    "version": 3
   },
   "file_extension": ".py",
   "mimetype": "text/x-python",
   "name": "python",
   "nbconvert_exporter": "python",
   "pygments_lexer": "ipython3",
   "version": "3.5.2"
  }
 },
 "nbformat": 4,
 "nbformat_minor": 1
}
