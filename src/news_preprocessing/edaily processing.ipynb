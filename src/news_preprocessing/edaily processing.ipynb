{
 "cells": [
  {
   "cell_type": "code",
   "execution_count": 1,
   "metadata": {
    "collapsed": true
   },
   "outputs": [],
   "source": [
    "import glob\n",
    "\n",
    "files = glob.glob('./data/2017/*/edaily/*.json')"
   ]
  },
  {
   "cell_type": "code",
   "execution_count": 2,
   "metadata": {
    "collapsed": true
   },
   "outputs": [],
   "source": [
    "import json\n",
    "def read_json_file(path_to_file):\n",
    "    with open(path_to_file) as p:\n",
    "        rows=[json.loads(line) for line in p]\n",
    "    return rows"
   ]
  },
  {
   "cell_type": "code",
   "execution_count": 3,
   "metadata": {
    "collapsed": true
   },
   "outputs": [],
   "source": [
    "import pandas as pd\n",
    "\n",
    "data=[]\n",
    "for path in files:\n",
    "    data.extend(read_json_file(path))\n",
    "\n",
    "df = pd.DataFrame(data)"
   ]
  },
  {
   "cell_type": "code",
   "execution_count": 4,
   "metadata": {
    "collapsed": true
   },
   "outputs": [],
   "source": [
    "df.drop(['comments','image','naver_section','naver_url','org_url','time','vod'], axis = 1, inplace = True)"
   ]
  },
  {
   "cell_type": "code",
   "execution_count": 5,
   "metadata": {
    "collapsed": true
   },
   "outputs": [],
   "source": [
    "import pandas as pd\n",
    "\n",
    "with open('./data/edaily_2016.pkl', 'rb') as f1:\n",
    "    df2016 = pd.read_pickle(f1)"
   ]
  },
  {
   "cell_type": "code",
   "execution_count": 6,
   "metadata": {
    "collapsed": true
   },
   "outputs": [],
   "source": [
    "df2016.rename(columns={'content': 'article'}, inplace=True)"
   ]
  },
  {
   "cell_type": "code",
   "execution_count": 7,
   "metadata": {
    "collapsed": true
   },
   "outputs": [],
   "source": [
    "df2016.drop(['oid','aid','media','naver_count','org_count','org_url','total_count','ml_section'], axis = 1, inplace = True)"
   ]
  },
  {
   "cell_type": "code",
   "execution_count": 8,
   "metadata": {
    "collapsed": true
   },
   "outputs": [],
   "source": [
    "df=df[['date', 'title', 'article', 'section']]"
   ]
  },
  {
   "cell_type": "code",
   "execution_count": 9,
   "metadata": {
    "collapsed": true
   },
   "outputs": [],
   "source": [
    "df=df.append(df2016)\n",
    "df=df.reset_index(drop=True)\n"
   ]
  },
  {
   "cell_type": "code",
   "execution_count": 10,
   "metadata": {},
   "outputs": [
    {
     "data": {
      "text/plain": [
       "'      [이데일리N]  2017 스페셜올림픽 세계 동계대회가 오스트리아 슐라드밍에 위치한 플라나이 스타디움에서 개막했습니다.  ‘세계를 향한 열정’을 슬로건을 내건 이번 대회 개막식에선 세계적인 싱어송라이터 제이슨 므라즈가 장애를 초월한 화합의 무대를 펼쳤습니다.  107개국 2700여 명이 참가하는 이번 대회에 우리나라는 7개 종목 65명의 선수단을 파견해 오는 25일까지 열전을 펼칩니다.  나경원 스페셜올림픽코리아 명예회장은 “선수들이 오랜 시간 열심히 길러온 자신의 역량을 유감없이 발휘할 수 있는 도전의 장이 되기를 바란다”고 말했습니다.    ☞방송다시보기   ☞유튜브   ☞페이스북   ☞팟빵   ☞네이버TV캐스트  김태완 (wani07@edaily.co.kr)    ＜ⓒ종합 경제정보 미디어 이데일리 - 무단전재 & 재배포 금지＞  '"
      ]
     },
     "execution_count": 10,
     "metadata": {},
     "output_type": "execute_result"
    }
   ],
   "source": [
    "article=df['article'][1].replace('▶','\\n▶').replace('\\t', '').replace('\\n', ' ')#.split('\\n')\n",
    "article"
   ]
  },
  {
   "cell_type": "code",
   "execution_count": 11,
   "metadata": {},
   "outputs": [
    {
     "data": {
      "text/plain": [
       "'        2017 스페셜올림픽 세계 동계대회가 오스트리아 슐라드밍에 위치한 플라나이 스타디움에서 개막했습니다.  ‘세계를 향한 열정’을 슬로건을 내건 이번 대회 개막식에선 세계적인 싱어송라이터 제이슨 므라즈가 장애를 초월한 화합의 무대를 펼쳤습니다.  107개국 2700여 명이 참가하는 이번 대회에 우리나라는 7개 종목 65명의 선수단을 파견해 오는 25일까지 열전을 펼칩니다.  나경원 스페셜올림픽코리아 명예회장은 “선수들이 오랜 시간 열심히 길러온 자신의 역량을 유감없이 발휘할 수 있는 도전의 장이 되기를 바란다”고 말했습니다.    '"
      ]
     },
     "execution_count": 11,
     "metadata": {},
     "output_type": "execute_result"
    }
   ],
   "source": [
    "import re\n",
    "article = re.sub(r'\\/\\/[a-zA-Z가-힣 \\n]+|{}|_flash_removeCallback\\(\\)', '', article)\n",
    "article = re.sub(r'\\[[가-힣= ]+이데일리[a-z가-힣 ]+\\]|\\[이데일리[a-zA-Z가-힣 ]+\\]', '', article)\n",
    "article = re.sub(r'\\(사진=[a-zA-Z]+\\)', '', article)\n",
    "article = re.sub(r'사진=[a-zA-Z가-힣 ]+제공', '', article)\n",
    "article = re.sub(r'[가-힣=() ]+\\([a-z0-9.]+@edaily.co.kr\\)(.*)', '', article)\n",
    "article = article.replace('☞방송다시보기   ☞유튜브   ☞페이스북   ☞팟빵   ☞네이버TV', '')\n",
    "#article = re.sub(r'동아닷컴 (.*)', '', article)\n",
    "#article = re.sub(r'▶ 동아일보 단독(.*)', '', article)\n",
    "article"
   ]
  },
  {
   "cell_type": "code",
   "execution_count": 12,
   "metadata": {
    "collapsed": true
   },
   "outputs": [],
   "source": [
    "import re\n",
    "def remove_donga_extras(article):   \n",
    "    article = article.replace('▶','\\n▶').replace('\\t', '').replace('\\n', ' ')#.split('\\n')\n",
    "    article = re.sub(r'\\/\\/[a-zA-Z가-힣 \\n]+|{}|_flash_removeCallback\\(\\)', '', article)\n",
    "    article = re.sub(r'\\[[가-힣= ]+이데일리[a-z가-힣 ]+\\]|\\[이데일리[a-zA-Z가-힣 ]+\\]', '', article)\n",
    "    article = re.sub(r'\\(사진=[a-zA-Z가-힣]+\\)', '', article)\n",
    "    article = re.sub(r'사진=[a-zA-Z가-힣 ]+제공', '', article)\n",
    "\n",
    "    article = re.sub(r'[가-힣=() ]+\\([a-z0-9.]+@edaily.co.kr\\)(.*)', '', article)\n",
    "    article = article.replace('☞방송다시보기   ☞유튜브   ☞페이스북   ☞팟빵   ☞네이버TV', '')\n",
    "    article = article.replace('\\n', ' ')\n",
    "    return article"
   ]
  },
  {
   "cell_type": "code",
   "execution_count": 13,
   "metadata": {},
   "outputs": [
    {
     "name": "stdout",
     "output_type": "stream",
     "text": [
      "        2017 스페셜올림픽 세계 동계대회가 오스트리아 슐라드밍에 위치한 플라나이 스타디움에서 개막했습니다.  ‘세계를 향한 열정’을 슬로건을 내건 이번 대회 개막식에선 세계적인 싱어송라이터 제이슨 므라즈가 장애를 초월한 화합의 무대를 펼쳤습니다.  107개국 2700여 명이 참가하는 이번 대회에 우리나라는 7개 종목 65명의 선수단을 파견해 오는 25일까지 열전을 펼칩니다.  나경원 스페셜올림픽코리아 명예회장은 “선수들이 오랜 시간 열심히 길러온 자신의 역량을 유감없이 발휘할 수 있는 도전의 장이 되기를 바란다”고 말했습니다.    \n"
     ]
    }
   ],
   "source": [
    "print(remove_donga_extras(df['article'][1]))"
   ]
  },
  {
   "cell_type": "code",
   "execution_count": 14,
   "metadata": {},
   "outputs": [
    {
     "data": {
      "text/plain": [
       "0                ○교육부 ◇ 승진  △학교정책과장 최윤홍 △산학협력정책과장 염기성 ◇ ...\n",
       "1                 2017 스페셜올림픽 세계 동계대회가 오스트리아 슐라드밍에 위치한 플...\n",
       "2              /CNBC 캡쳐 중국 최대 정보기술(IT) 기업인 텐센트의 브랜드 가치가 ...\n",
       "3              - 사드 대응 수위 한단계 격상 - \"다자간 협의 문제로 풀겠다\"  20일...\n",
       "4                싱가포르를 방문중인 정세균 국회의장이 20일 할리마 야콥 싱가포르 국회...\n",
       "5              - 한민구 장관, 육군 제2작전사령부 키리졸브 훈련 점검 - 전쟁지속능력 ...\n",
       "6                싱가포르를 방문중인 정세균 국회의장이 20일 할리마 야콥 싱가포르 국회...\n",
       "7                싱가포르를 방문중인 정세균 국회의장이 20일 할리마 야콥 싱가포르 국회...\n",
       "8                국내 공급 길이 막힌 국산 전자(電子) 주민등록증이 해외 수출 길을 뚫...\n",
       "9               스마트워치의 인기가 한풀 꺾이고 있는 가운데 기존 시계에 스마트 기능을 ...\n",
       "10                                                         \n",
       "11                                                         \n",
       "12             - 공정위, 행복드림 서비스 론칭   서울 당산동에 사는 김모(35)씨는 ...\n",
       "13               스페로 글로벌(028040)은 운영자금 마련을 위해 최대주주인 마이더스...\n",
       "14             - 20일 원·달러 환율 1120.1원…10.7원 급락 - 역외세력의 달러...\n",
       "15             - 대출 실행 일정, 약속된 기일보다 지연된 탓   P2P금융업체 어니스트...\n",
       "16             - 3월31일 종료..9월 수상자 2명 발표   중국 텐센트의 공동 창업자...\n",
       "17             - 박삼구 금호그룹 회장에게 인수협상권한 부여해야 - 안되면 민관합작펀드 ...\n",
       "18               1등에 대한 라이벌들의 당연한 공격일까.  문재인 전 더불어민주당 대표...\n",
       "19               국민의당 대선주자인 박주선 국회부의장측은 20일 오거돈 문재인 후보 부...\n",
       "20               영진약품(003520)공업은 일본 Sawai Pharmaceutical...\n",
       "21               문재인 캠프가 문재인 예비후보에 대해 일부 정당과 누리꾼이 악의적으로 ...\n",
       "22             - 21일 정문 두 개 중 하나 완전 폐쇄…법원 쪽만 출입 - 직원들 조 ...\n",
       "23               내일(21일) 박근혜 전 대통령이 오전 9시 반쯤 검찰에 출두한다. 지...\n",
       "24             - \"의사결정 몰라\" 하나 같이 책임 회피 - 피에스넷·매점 특혜 \"배임 ...\n",
       "25             - 20일 할리마 야콥(Halimah Yacob) 싱가포르 국회의장 면담 ...\n",
       "26               KH바텍(060720)이 주가 안정을 통한 주주가체 제고를 위해 자사주...\n",
       "27             - 비축수량 풀어 유속 높여..생태계 영향 보며 올해 시범 운영 - 4대강...\n",
       "28               신격호(95) 롯데그룹 총괄회장과 ‘사실혼 관계’인 서미경(57) 씨가...\n",
       "29                                       자유한국당 최종 경선후보 확정..\n",
       "                                ...                        \n",
       "401743             '비선 실세' 최순실씨의 딸 정유라씨의 '대리시험' 논란이 있었던 ...\n",
       "401744             제일모직의 합병 과정에서 국민연금이 찬성표를 던지도록 압력을 가한 ...\n",
       "401745             제일모직의 합병 과정에서 국민연금이 찬성표를 던지도록 압력을 가한 ...\n",
       "401746             제일모직의 합병 과정에서 국민연금이 찬성표를 던지도록 압력을 가한 ...\n",
       "401747             제일모직의 합병 과정에서 국민연금이 찬성표를 던지도록 압력을 가한 ...\n",
       "401748              2017년 정유년 새해 해돋이 구경에 나선 차량이 몰리면서 영동고...\n",
       "401749            - 증거인멸 우려해 긴급체포…이대 비리 관련 첫 체포- 특검 “성적비...\n",
       "401750             [오은석의 부동산 재테크] 최근 몇년간 이어졌던 부동산 상승시장에서...\n",
       "401751              전국자원봉사연맹은 31일 부산 어린이대공원 공영주차장 일원(부산광...\n",
       "401752              2016년 마지막 날인 31일(현지시간) 이라크 바그다드 도심에서...\n",
       "401753              차이잉원(蔡英文) 대만 총통이 중국과 맞서지 않는 기존 입장에 변...\n",
       "401754             글로벌 경기 침체와 최순실 게이트등 악조건 속에서도 고군분투했던 대...\n",
       "401755             글로벌 경기 침체와 최순실 게이트등 악조건 속에서도 고군분투했던 대...\n",
       "401756             글로벌 경기 침체와 최순실 게이트등 악조건 속에서도 고군분투했던 대...\n",
       "401757             글로벌 경기 침체와 최순실 게이트등 악조건 속에서도 고군분투했던 대...\n",
       "401758             글로벌 경기 침체와 최순실 게이트등 악조건 속에서도 고군분투했던 대...\n",
       "401759             글로벌 경기 침체와 최순실 게이트등 악조건 속에서도 고군분투했던 대...\n",
       "401760             2016년 병신년(丙申年) 마지막 날인 31일 오후 4시 30분쯤 ...\n",
       "401761              △박보배씨 별세, 채희창(세계일보 편집국 수석부국장)·금주(신봉고...\n",
       "401762            - 연인원 1000만 대기록 달성 관심- 청와대·총리공관·헌재 앞까지...\n",
       "401763            2016년 병신년(丙申年) 마지막날인 31일 오후 서울 광화문광장에서...\n",
       "401764             2016년의 마지막날인 31일 오후 서울 도심에서는 박근혜 대통령의...\n",
       "401765              로또 735회차 추첨 중계방송이 갑자기 연기됐다.본래 나눔로또 추...\n",
       "401766              31일 제735회 나눔로또 추첨 결과 ‘5, 10, 13, 27,...\n",
       "401767            - 촛불, 최씨일당 국정농단과 박 대통령 헌정유린에 무너진 민주주의 ...\n",
       "401768            - 이념 사상 뛰어넘어 비정상의 정상화 요구 한 목소리- 풍자와 해학...\n",
       "401769            - 지하철 비상편성·내일 오전 2시까지 연장운행- 올빼미 버스 운행·...\n",
       "401770            - 조 장관, 국회 출석해 “블랙리스트 모른다” 부인- 특검, 조 장...\n",
       "401771              미국 정부의 사찰을 폭로하고 러시아로 망명한 전 미 정보요원 에드...\n",
       "401772              올해 취재 중 사망한 언론인이 93명으로 집계됐다고 국제기자연맹(...\n",
       "Name: article, Length: 401773, dtype: object"
      ]
     },
     "execution_count": 14,
     "metadata": {},
     "output_type": "execute_result"
    }
   ],
   "source": [
    "df['article']=df['article'].apply(lambda x: remove_donga_extras(x))\n",
    "df['article']"
   ]
  },
  {
   "cell_type": "code",
   "execution_count": 19,
   "metadata": {
    "collapsed": true
   },
   "outputs": [],
   "source": [
    "counts=df.groupby('section').size()\n",
    "sorted_counts=counts.sort_values(ascending=False)"
   ]
  },
  {
   "cell_type": "code",
   "execution_count": 20,
   "metadata": {},
   "outputs": [
    {
     "data": {
      "text/plain": [
       "section\n",
       "뉴스|증권       41489\n",
       "사회|뉴스       39316\n",
       "기업|뉴스       34880\n",
       "사회          31666\n",
       "증권          30485\n",
       "정치|뉴스       28693\n",
       "정치          23365\n",
       "기업          20974\n",
       "|라이프        20846\n",
       "경제·금융|뉴스    20772\n",
       "경제·금융       14993\n",
       "IT·과학|뉴스    13001\n",
       "국제|뉴스       11934\n",
       "라이프         10231\n",
       "기업.IT        8669\n",
       "부동산|뉴스       8074\n",
       "국제           8049\n",
       "정치.글로벌       7679\n",
       "IT·과학        7614\n",
       "부동산          4597\n",
       "경제.금융        4140\n",
       "문화.레저        2757\n",
       "재테크          2008\n",
       "|핫클릭         1921\n",
       "             1574\n",
       "핫클릭          1266\n",
       "연예            742\n",
       "스포츠            38\n",
       "dtype: int64"
      ]
     },
     "execution_count": 20,
     "metadata": {},
     "output_type": "execute_result"
    }
   ],
   "source": [
    "sorted_counts"
   ]
  },
  {
   "cell_type": "code",
   "execution_count": 15,
   "metadata": {
    "collapsed": true
   },
   "outputs": [],
   "source": [
    "df.to_pickle('edaily_all.pkl')"
   ]
  },
  {
   "cell_type": "code",
   "execution_count": 16,
   "metadata": {},
   "outputs": [
    {
     "data": {
      "text/plain": [
       "Index         2360328\n",
       "article    1181572465\n",
       "author       28497751\n",
       "date         19767747\n",
       "section      29771250\n",
       "title        59625664\n",
       "sec_idx       2360328\n",
       "dtype: int64"
      ]
     },
     "execution_count": 16,
     "metadata": {},
     "output_type": "execute_result"
    }
   ],
   "source": [
    "df.memory_usage(deep=True)"
   ]
  },
  {
   "cell_type": "code",
   "execution_count": null,
   "metadata": {
    "collapsed": true
   },
   "outputs": [],
   "source": []
  }
 ],
 "metadata": {
  "kernelspec": {
   "display_name": "Python 3",
   "language": "python",
   "name": "python3"
  },
  "language_info": {
   "codemirror_mode": {
    "name": "ipython",
    "version": 3
   },
   "file_extension": ".py",
   "mimetype": "text/x-python",
   "name": "python",
   "nbconvert_exporter": "python",
   "pygments_lexer": "ipython3",
   "version": "3.5.2"
  }
 },
 "nbformat": 4,
 "nbformat_minor": 1
}
