{
 "cells": [
  {
   "cell_type": "code",
   "execution_count": 1,
   "metadata": {
    "collapsed": true
   },
   "outputs": [],
   "source": [
    "import glob\n",
    "\n",
    "files = glob.glob('./data/2017/*/hani/*.json')"
   ]
  },
  {
   "cell_type": "code",
   "execution_count": 2,
   "metadata": {
    "collapsed": true
   },
   "outputs": [],
   "source": [
    "import json\n",
    "def read_json_file(path_to_file):\n",
    "    with open(path_to_file) as p:\n",
    "        rows=[json.loads(line) for line in p]\n",
    "    return rows"
   ]
  },
  {
   "cell_type": "code",
   "execution_count": 3,
   "metadata": {
    "collapsed": true
   },
   "outputs": [],
   "source": [
    "import pandas as pd\n",
    "\n",
    "data=[]\n",
    "for path in files:\n",
    "    data.extend(read_json_file(path))\n",
    "\n",
    "df = pd.DataFrame(data)"
   ]
  },
  {
   "cell_type": "code",
   "execution_count": 4,
   "metadata": {
    "collapsed": true
   },
   "outputs": [],
   "source": [
    "df.drop(['comments','image','naver_section','naver_url','org_url','time','vod'], axis = 1, inplace = True)"
   ]
  },
  {
   "cell_type": "code",
   "execution_count": 5,
   "metadata": {
    "collapsed": true
   },
   "outputs": [],
   "source": [
    "import pandas as pd\n",
    "\n",
    "with open('./data/hani_2016.pkl', 'rb') as f1:\n",
    "    df2016 = pd.read_pickle(f1)"
   ]
  },
  {
   "cell_type": "code",
   "execution_count": 6,
   "metadata": {
    "collapsed": true
   },
   "outputs": [],
   "source": [
    "df2016.rename(columns={'content': 'article'}, inplace=True)"
   ]
  },
  {
   "cell_type": "code",
   "execution_count": 7,
   "metadata": {
    "collapsed": true
   },
   "outputs": [],
   "source": [
    "df2016.drop(['oid','aid','media','naver_count','org_count','org_url','total_count','ml_section'], axis = 1, inplace = True)"
   ]
  },
  {
   "cell_type": "code",
   "execution_count": 8,
   "metadata": {
    "collapsed": true
   },
   "outputs": [],
   "source": [
    "df=df[['date', 'title', 'article', 'section']]"
   ]
  },
  {
   "cell_type": "code",
   "execution_count": 9,
   "metadata": {
    "collapsed": true
   },
   "outputs": [],
   "source": [
    "df=df.append(df2016)\n",
    "df=df.reset_index(drop=True)\n"
   ]
  },
  {
   "cell_type": "code",
   "execution_count": 10,
   "metadata": {},
   "outputs": [
    {
     "data": {
      "text/plain": [
       "'       [한겨레] 3월 들어 주요 시중은행 주담대 금리 오름세  은행들 가산금리 상승 통해 위험 관리 나설수도  미 금리인상 선반영따라 FOMC 당일 국채금리는 하락  3월 들어 들썩였던 국내 시장금리가 미국의 기준금리 인상 단행 뒤에 오히려 한 단계 내려섰다. 미국 금리인상 가능성이 국내 시장금리에 이미 반영돼 있었던데다 미 연방준비제도(연준)의 신호로 봤을 때 지난해 12월 예고를 뛰어넘어 금리 가속페달을 밟진 않을 것이란 안도감이 작용했다. 전문가들은 은행권 등의 대출금리에 단기적으로 급격한 변동은 없을 것으로 보았다. 하지만 미국 금리인상이 본궤도에 오른 만큼 금융회사들이 선제적 위험 관리에 나서면서 점차 금리부담이 커질 것으로 전망된다.      16일 블룸버그 등을 보면, 미 국채금리가 큰 폭 하락하며 숨고르기에 들어갔다. 이날 우리 국채 10년 만기 금리가 0.07%포인트 떨어지는 등 하락세를 나타냈다. 하지만 대출금리의 기준이 되는 중·단기 금리의 하락폭은 상대적으로 작았다. 국채 1년만기 금리와 3개월짜리 양도성예금증서(CD) 금리는 0.01%포인트 안팎 내리는 데 그쳤다. 또 미국 기준금리 인상이 연말까지 두 차례 더 이어질 것으로 예상돼 국내 시장금리도 일시적인 하락 뒤 다시 상승세를 보일 것이라는 게 채권 전문가들의 설명이다.     주요 시중은행 금리 자료를 보면, 2월 들어 상승세가 주춤했던 은행권 주택담보대출(5년 혼합형·주담대) 금리는 3월 들어 대부분 오름세를 나타냈다. 금융채 5년물 금리를 기준으로 삼는 이 주담대 금리는 신한은행은 지난해 11월 말 3.58~4.69% 수준에서 2월 말 3.32~4.43%로 떨어졌지만 3월 들어 오름세로 바뀌면서 15일 기준 3.43~4.54%를 나타냈다. 보름 만에 0.11%포인트 오른 것이다. 우리은행, 케이이비(KEB)하나은행도 최근 보름 새 0.12~0.13%포인트 상승했다.     은행권 주담대 금리 등은 미 연준 경계감이 해소된 16일엔 오히려 소폭 내림세를 보였다. 하지만 중장기적으론 단계적 상승세가 점쳐진다. 변동금리형 주담대 등의 금리 기준이 되며 월간 단위로 발표하는 코픽스(자금조달지수)는 최근 내림세였지만, 3월 들어 주단위로 발표되는 단기 코픽스는 상승세를 이어왔다.       장보형 하나금융경영연구소 경제연구실장은 “미국의 금리 인상 가능성이 시장에 선반영된 상태에서 이번 미국 금리 인상의 영향으로 은행권의 금리 변동폭이 크지는 않겠지만 향후 미국의 추가 금리 인상 가능성을 고려해 은행이 가산금리 인상 등을 통해 선제적으로 위험 관리에 나설 가능성이 있다”고 내다봤다.   임지선 한광덕 기자 sun21@hani.co.kr      ▶ 한겨레 절친이 되어 주세요! [신문구독] [주주신청]  ▶ [페이스북] [카카오톡] [정치BAR] [ⓒ한겨레신문 : 무단전재 및 재배포 금지]    '"
      ]
     },
     "execution_count": 10,
     "metadata": {},
     "output_type": "execute_result"
    }
   ],
   "source": [
    "article=df['article'][200].replace('▶','\\n▶').replace('\\t', '').replace('\\n', ' ')#.split('\\n')\n",
    "article"
   ]
  },
  {
   "cell_type": "code",
   "execution_count": 11,
   "metadata": {},
   "outputs": [
    {
     "data": {
      "text/plain": [
       "'       [한겨레] 3월 들어 주요 시중은행 주담대 금리 오름세  은행들 가산금리 상승 통해 위험 관리 나설수도  미 금리인상 선반영따라 FOMC 당일 국채금리는 하락  3월 들어 들썩였던 국내 시장금리가 미국의 기준금리 인상 단행 뒤에 오히려 한 단계 내려섰다. 미국 금리인상 가능성이 국내 시장금리에 이미 반영돼 있었던데다 미 연방준비제도(연준)의 신호로 봤을 때 지난해 12월 예고를 뛰어넘어 금리 가속페달을 밟진 않을 것이란 안도감이 작용했다. 전문가들은 은행권 등의 대출금리에 단기적으로 급격한 변동은 없을 것으로 보았다. 하지만 미국 금리인상이 본궤도에 오른 만큼 금융회사들이 선제적 위험 관리에 나서면서 점차 금리부담이 커질 것으로 전망된다.      16일 블룸버그 등을 보면, 미 국채금리가 큰 폭 하락하며 숨고르기에 들어갔다. 이날 우리 국채 10년 만기 금리가 0.07%포인트 떨어지는 등 하락세를 나타냈다. 하지만 대출금리의 기준이 되는 중·단기 금리의 하락폭은 상대적으로 작았다. 국채 1년만기 금리와 3개월짜리 양도성예금증서(CD) 금리는 0.01%포인트 안팎 내리는 데 그쳤다. 또 미국 기준금리 인상이 연말까지 두 차례 더 이어질 것으로 예상돼 국내 시장금리도 일시적인 하락 뒤 다시 상승세를 보일 것이라는 게 채권 전문가들의 설명이다.     주요 시중은행 금리 자료를 보면, 2월 들어 상승세가 주춤했던 은행권 주택담보대출(5년 혼합형·주담대) 금리는 3월 들어 대부분 오름세를 나타냈다. 금융채 5년물 금리를 기준으로 삼는 이 주담대 금리는 신한은행은 지난해 11월 말 3.58~4.69% 수준에서 2월 말 3.32~4.43%로 떨어졌지만 3월 들어 오름세로 바뀌면서 15일 기준 3.43~4.54%를 나타냈다. 보름 만에 0.11%포인트 오른 것이다. 우리은행, 케이이비(KEB)하나은행도 최근 보름 새 0.12~0.13%포인트 상승했다.     은행권 주담대 금리 등은 미 연준 경계감이 해소된 16일엔 오히려 소폭 내림세를 보였다. 하지만 중장기적으론 단계적 상승세가 점쳐진다. 변동금리형 주담대 등의 금리 기준이 되며 월간 단위로 발표하는 코픽스(자금조달지수)는 최근 내림세였지만, 3월 들어 주단위로 발표되는 단기 코픽스는 상승세를 이어왔다.       장보형 하나금융경영연구소 경제연구실장은 “미국의 금리 인상 가능성이 시장에 선반영된 상태에서 이번 미국 금리 인상의 영향으로 은행권의 금리 변동폭이 크지는 않겠지만 향후 미국의 추가 금리 인상 가능성을 고려해 은행이 가산금리 인상 등을 통해 선제적으로 위험 관리에 나설 가능성이 있다”고 내다봤다.      '"
      ]
     },
     "execution_count": 11,
     "metadata": {},
     "output_type": "execute_result"
    }
   ],
   "source": [
    "import re\n",
    "article = re.sub(r'\\/\\/[a-zA-Z가-힣 \\n]+|{}|_flash_removeCallback\\(\\)', '', article)\n",
    "article = re.sub(r'\\[[가-힣= ]+한겨레[a-z가-힣 ]+\\]|\\[한겨레[a-zA-Z가-힣 ]+\\]', '', article)\n",
    "article = re.sub(r'\\(사진=[a-zA-Z]+\\)', '', article)\n",
    "article = re.sub(r'사진=[a-zA-Z가-힣 ]+제공', '', article)\n",
    "article = re.sub(r'[가-힣=() ]+[a-z0-9.]+@hani.co.kr', '', article)\n",
    "article = re.sub(r'▶ 한겨레 절친이 되어 주세요(.*)', '', article)\n",
    "article"
   ]
  },
  {
   "cell_type": "code",
   "execution_count": 12,
   "metadata": {
    "collapsed": true
   },
   "outputs": [],
   "source": [
    "import re\n",
    "def remove_hani_extras(article):   \n",
    "    article = article.replace('▶','\\n▶').replace('\\t', '').replace('\\n', ' ')#.split('\\n')\n",
    "    article = re.sub(r'\\/\\/[a-zA-Z가-힣 \\n]+|{}|_flash_removeCallback\\(\\)', '', article)\n",
    "    article = article.replace('[한겨레]', '').replace('[토요판]', '')\n",
    "    article = re.sub(r'[가-힣=() ]+[a-z0-9.]+@hani.co.kr', '', article)\n",
    "    article = re.sub(r'▶ 한겨레 절친이 되어 주세요(.*)', '', article)\n",
    "\n",
    "    article = article.replace('\\n', ' ')\n",
    "    return article"
   ]
  },
  {
   "cell_type": "code",
   "execution_count": 13,
   "metadata": {},
   "outputs": [
    {
     "name": "stdout",
     "output_type": "stream",
     "text": [
      "        경복궁 경회루 4월1일~10월30일까지 특별관람  연못 안에 선 2층 누각, 연회·기우제 등 국가행사에 쓰여  경복궁 전경·인왕산 어우러진 멋진 경치 즐길 수 있어    봄날의 경복궁 경회루 전경.  국내에서 가장 크고 화려한 누각으로 첫손 꼽히는 서울 경복궁 경회루(국보 224호)가 다음달부터 6달간 일반인들에게 개방된다.     경복궁관리소는 경회루에 대한 특별관람 프로그램을 4월1일부터 10월30일까지 마련하기로 했다고 20일 발표했다. 무료로 입장해 전문해설사의 안내를 받으며 진행되는 특별관람은 평소 가까이 갈 수 없었던 경회루의 진가를 느껴볼 수 있는 기회다. 48개의 다릿발을 세우고 그 위에 거대한 누각을 조성한 장대한 건축적 외관과 더불어, 2층에 올라가 연못 주위로 펼쳐지는 사방의 풍치를 여유있게 감상할 수 있다. 경회루 동쪽으로 경복궁 전경이, 서쪽으로는 인왕산의 모습이 들어와 한폭 풍경화같은 경치를 조망하게 된다.     사전 예약제로 운영되며 첫 예약은 26일 오전 10시부터 받는다. 내국인은 경복궁 누리집(www.royalpalace.go.kr)에서 1명당 최대 10명까지 예약 가능하다. 외국인은 전화(02-3700-3904, 3905)로 관람을 원하는 날짜 6일 전부터 하루 전까지 예약을 신청하면 된다.     관람 횟수는 주중은 하루 3차례(10시, 14시, 16시), 주말은 하루 4차례(10시, 11시, 14시, 16시)다. 회당 최대 관람인원은 100명(내국인 80명, 외국인 20명)으로 제한된다., 사진 문화재청 제공      \n"
     ]
    }
   ],
   "source": [
    "print(remove_hani_extras(df['article'][1]))"
   ]
  },
  {
   "cell_type": "code",
   "execution_count": 14,
   "metadata": {},
   "outputs": [
    {
     "data": {
      "text/plain": [
       "0                ⊙ 김용철 경희학원 명예이사장은 지난 3일 경희대와 의료기관에 발전기...\n",
       "1                경복궁 경회루 4월1일~10월30일까지 특별관람  연못 안에 선 2층...\n",
       "2                20일 서울서 오월걸상위원회 출범  전국 100여개 조성…국회 첫 설...\n",
       "3                -국민의당 TV 합동토론-  박 “집권하려면 대연정 필수”  손 “개...\n",
       "4                이진우 부대변인 정례 브리핑에서 밝혀  “주엔진 1개에 보조엔진 4개...\n",
       "5                중 광둥성 중학교 ‘남녀 교류 규정’ 논란  ‘신체접촉 말 것’ ‘가...\n",
       "6                홍석현 전 회장 ‘정치도전’ 뜻 밝힌 뒤  JTBC 뉴스룸 ‘앵커브리...\n",
       "7                2017 대선 민심 FGD ①광주시민 8명 심층좌담  50대 ‘홀대론...\n",
       "8                문재인, 금남로서 ‘광주전남비전’ 약속   낙후된 광주 경제살리기 공...\n",
       "9                정우택 “잘못 있으면 심판 받겠다  말씀 해주시는 것이 용기”  불복...\n",
       "10               민주당 경선참여층 지지율 보니  문 ‘55.1→51.1’ 안 ‘21....\n",
       "11               2017 대선 민심 FGD①광주시민 8명 심층좌담   “호남 살릴 사...\n",
       "12               문캠프 오거돈 부산선대위원장  “부산 대통령 만들어낼 것” 발언 놓고...\n",
       "13                2014년 유엔 인권매뉴얼 책자 예산 지원도 한때 거부  “양심적 ...\n",
       "14               대의원 100% 지지로 사민당 대표  사회정의·평등 외치며 청년층 인...\n",
       "15                                       한겨레 그림판 보러가기     \n",
       "16               동네변호사가 간다     얼마 전 대학 후배가 자신이 사는 아파트의 ...\n",
       "17               문재인 포함 5자구도 때 4.1%   안희정 출마 땐 더 큰 폭 뛰어...\n",
       "18               [짬] 피아니스트 동물보호운동가 이형주 대표   이형주(38·사진)씨...\n",
       "19               ◆ 신진수(제11·13대 국회의원)씨 별세: 엄선진씨 남편, 광원(보...\n",
       "20                 이정렬     변호사 사무실 사무장, 전 부장판사     대통령이...\n",
       "21               4개 입법과제 담은 ‘충남의 제안 Ⅲ’ 발표    충남도가 0살 아동...\n",
       "22               애국지사 배종국 선생.  항일 애국지사 배종국 선생이 19일 오후 7...\n",
       "23               ◇ 세종대·세종사이버대는 지난 2월 SK청년비상 청년창업캠프를 진행하...\n",
       "24               소방관 자녀들에 소방발전기금 지원도제2회 한경희통일평화상 수상자인 고...\n",
       "25               삼성동~검찰청까지 차로 20분 거리  교통량 감안 최단시간 경로 택할...\n",
       "26               서울도서관 외벽 교체…송미희씨 문안 선정    서울 꿈새김판 당선작....\n",
       "27               ⊙ 교육부  ◇부이사관 △학교정책과장 최윤홍 △산학협력정책〃 염기성 ...\n",
       "28               건강보험심사평가원, 천식 적정성평가 결과  효과 큰 흡입 스테로이드 ...\n",
       "29               25일 호남 경선 앞두고 ‘민심 붙잡기’ 나서  “발포명령자 등 은폐...\n",
       "                               ...                        \n",
       "73467           이 주의 시인, 안상학그 사람은 돌아오고 나는 거기 없었네　　안상학 그...\n",
       "73468           특집2017년과 세계     ▶ 2017년. 누구는 민주화운동 30년으...\n",
       "73469           이상헌의 시同年一行(동년일행)  　　정희성괴로웠던 사나이 순수하다 못해...\n",
       "73470          야권 대선주자들 신년 사자성어 경쟁이재명 ‘사불범정’ 안철수 ‘마부위침’...\n",
       "73471           리뷰&프리뷰이재용 삼성전자 부회장 등 재벌 회장들이 12월6일 저녁 ‘...\n",
       "73472           한장의 다큐 2016년 병신년이 저물고 있다. 불 꺼진 청와대를 바라본...\n",
       "73473           친절한 기자들 라면값, 빵값 줄줄이 올라 지갑 열기 겁나는 요즘, 달걀...\n",
       "73474           정희진의 어떤 메모  & , 최윤필 지음, 마음산책, 2016     ...\n",
       "73475          당국 “AI 때문” 설명…업계 “사드 보복” 주장여행객 제한은 ‘전가의 ...\n",
       "73476            커버스토리촛불집회·청문회와 세월호 유가족12월9일 국회에서 박근혜 대...\n",
       "73477          서울서부지검, 외교부 서기관 성폭력 특례법 혐의로 기소외교부, 서기관 직...\n",
       "73478          박영수 특별검사팀의 ‘1호 구속영장’ 청구자인 문형표(60) 전 보건복지...\n",
       "73479          송수근 1차관, 기획조정실장 시절 ‘건전콘텐츠 TF’ 맡아“블랙리스트 오...\n",
       "73480          “국회 청문회 빼곤 검증 다 거쳤다이것이 정치인가 하는 생각들어”’구태 ...\n",
       "73481            다사다난했다는 말로는 부족한 한 해였다. 박근혜·최순실 게이트로 뜨거...\n",
       "73482           르포 SNS에서 전파되는 ‘탄핵 반대’ 문자 ▶ 요즘 어르신들 손놀림이...\n",
       "73483          ‘이인화’ 필명으로 활동…박정희 찬양 소설 써  ‘소설가 이인화’로 알려...\n",
       "73484          경찰, 소녀상 철거 공무집행 방해 등 이유로일본 영사관 앞 행진 금지통고...\n",
       "73485             세월호 유가족들은 지금까지 진행된 ‘최순실 국정농단’ 국조특위 청문...\n",
       "73486           조남준의 시사만화 ▶ 2016년의 마지막날입니다. 온 국민을 충격에 빠...\n",
       "73487          10차 촛불집회 각양각색 사전행사소원 적은 종이배·헌법재판소에 엽서…31...\n",
       "73488          31일 제주시청 앞 도로서 11차 제주도민 촛불집회추운 날씨 속 1500...\n",
       "73489          10차 촛불집회 열린 광화문 광장국립오페라합창단 노조원 2명 열창    ...\n",
       "73490          포유류에서 항원 자체 검출…국내 두번째 길고양이. 경기도 포천시에서 폐사...\n",
       "73491          주최 쪽, “저녁 8시 현재 80만명 운집”뮤지컬, 오페라 공연으로 촛불...\n",
       "73492          타종행사 폭죽 등 축제 분위기박근혜 퇴진 7차 대전시국대회에 참가한 시민...\n",
       "73493          ‘선비 상징’ 망건쓰고 국정농단 세력 질타완주 소년소녀합창단 공연도 열려...\n",
       "73494          31일 오후 6시 ‘박근혜 퇴진 9차 대구시국대회’1500여명 참석…“부...\n",
       "73495          10차 범국민행동까지 연 참가인원 1000만 돌파주최쪽 “저녁 9시 기준...\n",
       "73496          일본영사관 앞 ‘평화의 소녀상’ 제막식 참가“한일 일본군 ‘위안부’ 합의...\n",
       "Name: article, Length: 73497, dtype: object"
      ]
     },
     "execution_count": 14,
     "metadata": {},
     "output_type": "execute_result"
    }
   ],
   "source": [
    "df['article']=df['article'].apply(lambda x: remove_hani_extras(x))\n",
    "df['article']"
   ]
  },
  {
   "cell_type": "code",
   "execution_count": 38,
   "metadata": {
    "collapsed": true
   },
   "outputs": [],
   "source": [
    "counts=df.groupby('section').size()\n",
    "sorted_counts=counts.sort_values(ascending=False)"
   ]
  },
  {
   "cell_type": "code",
   "execution_count": 39,
   "metadata": {},
   "outputs": [
    {
     "data": {
      "text/plain": [
       "section\n",
       "사회       28903\n",
       "정치       11914\n",
       "경제       11452\n",
       "사설.칼럼     6815\n",
       "문화        5438\n",
       "국제        5422\n",
       "ESC        757\n",
       "만화         752\n",
       "과학         615\n",
       "esc        477\n",
       "애니멀피플      217\n",
       "            62\n",
       "전체          60\n",
       "스포츠         25\n",
       "dtype: int64"
      ]
     },
     "execution_count": 39,
     "metadata": {},
     "output_type": "execute_result"
    }
   ],
   "source": [
    "sorted_counts"
   ]
  },
  {
   "cell_type": "code",
   "execution_count": 15,
   "metadata": {},
   "outputs": [],
   "source": [
    "df.to_pickle('hani_all.pkl')"
   ]
  },
  {
   "cell_type": "code",
   "execution_count": 16,
   "metadata": {},
   "outputs": [
    {
     "data": {
      "text/plain": [
       "Index         2360328\n",
       "article    1181572465\n",
       "author       28497751\n",
       "date         19767747\n",
       "section      29771250\n",
       "title        59625664\n",
       "sec_idx       2360328\n",
       "dtype: int64"
      ]
     },
     "execution_count": 16,
     "metadata": {},
     "output_type": "execute_result"
    }
   ],
   "source": [
    "df.memory_usage(deep=True)"
   ]
  },
  {
   "cell_type": "code",
   "execution_count": null,
   "metadata": {
    "collapsed": true
   },
   "outputs": [],
   "source": []
  }
 ],
 "metadata": {
  "kernelspec": {
   "display_name": "Python 3",
   "language": "python",
   "name": "python3"
  },
  "language_info": {
   "codemirror_mode": {
    "name": "ipython",
    "version": 3
   },
   "file_extension": ".py",
   "mimetype": "text/x-python",
   "name": "python",
   "nbconvert_exporter": "python",
   "pygments_lexer": "ipython3",
   "version": "3.5.2"
  }
 },
 "nbformat": 4,
 "nbformat_minor": 1
}
