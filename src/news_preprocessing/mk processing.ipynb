{
 "cells": [
  {
   "cell_type": "code",
   "execution_count": 1,
   "metadata": {
    "collapsed": true
   },
   "outputs": [],
   "source": [
    "import glob\n",
    "\n",
    "files = glob.glob('./data/2017/*/mk/*.json')"
   ]
  },
  {
   "cell_type": "code",
   "execution_count": 2,
   "metadata": {
    "collapsed": true
   },
   "outputs": [],
   "source": [
    "import json\n",
    "def read_json_file(path_to_file):\n",
    "    with open(path_to_file) as p:\n",
    "        rows=[json.loads(line) for line in p]\n",
    "    return rows"
   ]
  },
  {
   "cell_type": "code",
   "execution_count": 3,
   "metadata": {
    "collapsed": true
   },
   "outputs": [],
   "source": [
    "import pandas as pd\n",
    "\n",
    "data=[]\n",
    "for path in files:\n",
    "    data.extend(read_json_file(path))\n",
    "\n",
    "df = pd.DataFrame(data)"
   ]
  },
  {
   "cell_type": "code",
   "execution_count": 4,
   "metadata": {
    "collapsed": true
   },
   "outputs": [],
   "source": [
    "df.drop(['comments','image','naver_section','naver_url','org_url','time','vod'], axis = 1, inplace = True)"
   ]
  },
  {
   "cell_type": "code",
   "execution_count": 5,
   "metadata": {
    "collapsed": true
   },
   "outputs": [],
   "source": [
    "import pandas as pd\n",
    "\n",
    "with open('./data/mk_2016.pkl', 'rb') as f1:\n",
    "    df2016 = pd.read_pickle(f1)"
   ]
  },
  {
   "cell_type": "code",
   "execution_count": 6,
   "metadata": {
    "collapsed": true
   },
   "outputs": [],
   "source": [
    "df2016.rename(columns={'content': 'article'}, inplace=True)"
   ]
  },
  {
   "cell_type": "code",
   "execution_count": 7,
   "metadata": {
    "collapsed": true
   },
   "outputs": [],
   "source": [
    "df2016.drop(['oid','aid','media','naver_count','org_count','org_url','total_count','ml_section'], axis = 1, inplace = True)"
   ]
  },
  {
   "cell_type": "code",
   "execution_count": 8,
   "metadata": {
    "collapsed": true
   },
   "outputs": [],
   "source": [
    "df=df[['date', 'title', 'article', 'section']]"
   ]
  },
  {
   "cell_type": "code",
   "execution_count": 9,
   "metadata": {
    "collapsed": true
   },
   "outputs": [],
   "source": [
    "df=df.append(df2016)\n",
    "df=df.reset_index(drop=True)\n"
   ]
  },
  {
   "cell_type": "code",
   "execution_count": 10,
   "metadata": {},
   "outputs": [
    {
     "data": {
      "text/plain": [
       "'     // flash 오류를 우회하기 위한 함수 추가 function _flash_removeCallback() {}   [디지털뉴스국][매일경제 공식 페이스북] [오늘의 인기뉴스] [매경 프리미엄][ⓒ 매일경제 & mk.co.kr, 무단전재 및 재배포 금지]  '"
      ]
     },
     "execution_count": 10,
     "metadata": {},
     "output_type": "execute_result"
    }
   ],
   "source": [
    "article=df['article'][252883].replace('▶','\\n▶').replace('\\t', '').replace('\\n', ' ')#.split('\\n')\n",
    "article"
   ]
  },
  {
   "cell_type": "code",
   "execution_count": 11,
   "metadata": {},
   "outputs": [
    {
     "data": {
      "text/plain": [
       "''"
      ]
     },
     "execution_count": 11,
     "metadata": {},
     "output_type": "execute_result"
    }
   ],
   "source": [
    "import re\n",
    "article = re.sub(r'\\/\\/[a-zA-Z가-힣 \\n]+|{}|_flash_removeCallback\\(\\)', '', article)\n",
    "#article = re.sub(r'\\[중앙[a-zA-Z가-힣 ]+\\]', '', article)\n",
    "article = re.sub(r'\\[사진[a-zA-Z가-힣= ]+\\]', '', article)\n",
    "\n",
    "article = re.sub(r'\\[디지털뉴스국[가-힣 ]+\\]|\\[디지털뉴스국\\]', '', article.strip())\n",
    "#article = re.sub(r'◀[가-힣 ]+▶', '', article)\n",
    "article = re.sub(r'\\[[가-힣 ]+\\=[가-힣 ]+(기자|특파원)(.*)', '', article)\n",
    "article = re.sub(r'\\[[가-힣 ]+(기자|특파원)\\]', '', article)\n",
    "#article = re.sub(r'[0-9가-힣=()· ]+\\([a-z0-9.]+@mbc.co.kr(.*)', '', article)\n",
    "\n",
    "article = re.sub(r'\\[매일경제 공식(.*)', '', article)\n",
    "#article = re.sub(r'\\[ⓒ 조인스랜드 (.*)\\]', '', article)\n",
    "\n",
    "article"
   ]
  },
  {
   "cell_type": "code",
   "execution_count": 12,
   "metadata": {
    "collapsed": true
   },
   "outputs": [],
   "source": [
    "import re\n",
    "def remove_extras(article):   \n",
    "    article = article.replace('▶','\\n▶').replace('\\t', '').replace('\\n', ' ')#.split('\\n')\n",
    "    article = re.sub(r'\\/\\/[a-zA-Z가-힣 \\n]+|{}|_flash_removeCallback\\(\\)', '', article)\n",
    "    article = re.sub(r'\\[사진[a-zA-Z가-힣= ]+\\]', '', article)\n",
    "\n",
    "    article = re.sub(r'\\[디지털뉴스국[가-힣 ]+\\]|\\[디지털뉴스국\\]', '', article.strip())\n",
    "    article = re.sub(r'\\[[가-힣 ]+\\=[가-힣 ]+(기자|특파원)(.*)', '', article)\n",
    "    article = re.sub(r'\\[[가-힣 ]+(기자|특파원)\\]', '', article)\n",
    "\n",
    "    article = re.sub(r'\\[매일경제 공식(.*)', '', article)\n",
    "\n",
    "\n",
    "    article = article.replace('\\n', ' ')\n",
    "    return article"
   ]
  },
  {
   "cell_type": "code",
   "execution_count": 13,
   "metadata": {},
   "outputs": [
    {
     "name": "stdout",
     "output_type": "stream",
     "text": [
      "지하 2층~지상 1층, 특급 부대시설 분양 컨시어지라운지, 연회장, 마켓형 레스토랑 등 차별화 된 부대시설 눈길  스카이베이 경포 조감도시행업체인 빌더스개발(회장 심태형)은 서울시 강남구 청담동 일대에 서울 분양홍보관을 마련하고 호텔 '스카이베이 경포'의 상업시설과 부대시설 분양에 나선다고 20일 밝혔다.   '스카이베이 경포'는 분양 당시 싱가포르의 마리나베이샌즈를 본딴 외관과 강릉 경포대를 바로 앞에 누리는 입지로 높은 관심을 받았다. 현재 호텔은 완판된 상태다.  이 상업시설은 지하 2층~지상 1층, 전용 46~1049㎡로 다양하게 구성된다. 층별 평균 분양가는 ▲지하 2층 사우나 전용 1049㎡ 86억7300만원 ▲지하 1층 전용 43~110㎡ 6억1900만원~16억6000만원, 컨벤션 974㎡ 218억1100만원 ▲지상 1층 7~13㎡ 3억6200만~5억7400만원, 조식당 49㎡, 10억7000만원 등이다.   각 층의 상업·부대시설은 점포(지하 2층, 지상 1~2층 일부) 또는 지분분양(지하 1층 컨벤션센터, 지상 1층 조식당) 방식으로 공급하며, 지분분양의 경우 분양자는 지분률만큼 운영 수익금을 받게 된다. 현재 빌더스개발은 컨벤션센터를 사후 면제점으로 변경하기 위해 강릉시와 협의 중인 것으로 알려졌다.  이용객 투숙 목적에 맞게 고급스러운 분위기를 갖춘 VIP룸과 프라이빗 라운지 등 다양한 객실을 비롯해 컨시어지 라운지, 최대 900석 규모 연회장, 마켓형 레스토랑 등 다양하고 특색 있는 부대시설이 마련된다. 특히 해외 유명 호텔에서나 볼 수 있는 최고급 부대시설 스카이풀이 조성된다. 호텔 이용객들은 스카이풀에서 와인과 칵테일 등 음료를 마시며 수영을 즐기고 경포의 푸른 하늘과 동해, 경포호 경관을 동시에 조망하는 낭만적이고 색다른 체험을 할 수 있다.  빌더스개발은 스카이베이 경포 내 부대시설에 호텔 투숙객과 인근 관광객을 끌어들이기 위한 차별화된 점포구성(MD)을 선보일 계획이다. 지하 2층에는 사우나·마사지 복합숍 등 힐링 관련 업종을, 지하 1층에는 와인 전문점, 원두커피전문점, 잡화점, 고급 음식점, 지역 특산물 판매점, 맥주 전문점, 웨딩홀 등의 업종 입점을 추진 중이다. 지하 1층은 유명 뷔페 프랜차이즈를 모집하고 있다. 20층에는 실외 스카이풀, 실내 수영장, 자쿠지, 피트니스, 이벤트홀이 들어서 관련 전문 운영사가 위탁운영할 예정이다.  스카이베이 경포가 들어서는 강릉시는 강원도에서는 처음으로 지난 1월 문화체육관광부가 발표한 '올해(2017년)의 관광도시'에 선정됐다. '올해의 관광도시'란 관광도시로서의 잠재가능성이 큰 도시를 지정해 지역 관광 활성화와 내수시장 진작, 자생적 발전기반 등을 육성하도록 정부에서 3년간 지원하는 국책사업이다.   이에 힘입어 강릉시는 올림픽을 비롯한 다양한 콘텐츠를 활용한 실행계획을 통해 '4계절 체류형 명품 글로벌 관광도시'로서 강원도를 대표하는 관광명소로 거듭나게 할 계획이다. 이에 따라 제2영동고속도로 개통, 동해고속도로 연장, 영동고속도로 확장과 양양공항 중국인 단체 관광객 120시간 무비자 체류와 개항공항 지정, 국제노선 확대로 강릉으로의 교통망이 확충될 전망이다.   여기에 현재 공사중인 청량리-강릉 간 KTX선 역시 올해 개통을 앞두고 있다. 특히 강원도를 운행하는 첫번째 고속열차로는 기존 KTX선에 투입된 열차보다 성능이 뛰어난 신형 KTX-산천이 투입됐다.   호텔 '스카이베이 경포'는 지하 3층~지상 20층 총 534개의 다양한 객실로 조성된다. 특히 객실 어느 곳에서든 시야가 확 트인 조망권을 확보했다. 경포의 아름다움을 극대화하고자 큰 창호를 설치해 호텔 전면부에는 시원스레 펼쳐진 경포 바다 조망이 가능하고 후면으로는 경포호수를 즐길 수 있다.   호텔 운영은 전 세계 50개국에서 1200여개 호텔과 9만개 이상의 객실을 보유한 유럽 최상위 호텔그룹 루브르호텔그룹이 직접 운영을 맡을 예정이다.    이와 함께 빌더스개발과 강릉시가 호텔 신축 투자협정을 체결함에 따라 강릉시는 평창올릭픽 개최와 관광객 증가에 따른 부족한 숙박시설 문제를 해결하고 빌더스개발은 호텔 및 상업·부대시설 투자자들에게 안정적인 수익률을 담보할 수 있게 됐다.   '스카이베이 경포'는 약 4만석 규모의 강릉 코스탈 클러스터의 스포츠 콤플렉스와 가까워 향후 수혜도 예상된다. 스포츠 콤플렉스에서는 피겨스케이팅과 아이스하키 등 2018년 평창 동계올림픽의 빙상종목이 치러질 예정이다.   스카이베이 경포는 2017년 완공예정이다. 강릉 분양홍보관은 강릉시 포남동 인근에 마련됐다. 시공은 삼성물산이 맡았다.      \n"
     ]
    }
   ],
   "source": [
    "print(remove_extras(df['article'][16]))"
   ]
  },
  {
   "cell_type": "code",
   "execution_count": 14,
   "metadata": {},
   "outputs": [
    {
     "data": {
      "text/plain": [
       "0         작년 4분기 투자상위 10社, 올 수익률 12%로 외국인 2배…하나금융 28%올라 ...\n",
       "1         제5기 '매경e신문' 대학생 홍보대사 발대식이 최근 서울 중구 매경미디어센터에서 열...\n",
       "2         SUV 비중높아 수혜 기대   미국 도널드 트럼프발 환경 규제 예산 삭감안이 국내 ...\n",
       "3         금융위, 4차산업혁명 시범사업  앞으로 자영업자·영세사업자들이 스마트폰을 카드단말기...\n",
       "4         국제앰네스티 한국지부가 '경찰의 새로운 집회시위 관리 방식 모색을 위한 국제 콘퍼런...\n",
       "5         검찰은 중소기업진흥공단 특혜 채용 압력 의혹을 받아온 최경환 자유한국당 의원을 불구...\n",
       "6         北 ICBM엔진 실험에 경고  ◆ 격동의 동북아, 한국 생존의 길 ② ◆  북한을 ...\n",
       "7         중국인과 중국 기업의 한국 역(逆)직구 물류비용을 줄이기 위한 해상 특송 서비스가 ...\n",
       "8         NH證 \"年 6~7% 수익 기대\"  지난해 투자자들에게 17%대 고수익을 안겨줬던 ...\n",
       "9         ◇케이프=정형석 씨로 대표이사 변경.  ◇KH바텍=38억원 규모 자기주식 취득 결정...\n",
       "10        신흥 5개국 통화에 적용   다음달부터 한국투자증권을 통해 해외 채권을 사는 투자자...\n",
       "11        ◆ 박 前대통령 21일 檢출두 ◆    경비 삼엄한 朴 삼성동 자택박근혜 전 대통령...\n",
       "12        3분 충전에 500㎞이상 주행…도요타·혼다 등 신차 전시에 현대 FE 콘셉트카로 `...\n",
       "13        국내 게임 최대규모 IPO…시가총액 13조원 넘을 듯 고교 중퇴 `흙수저` 방준혁,...\n",
       "14        고(故) 정진기 매일경제신문사 창업주의 유지를 계승·발전시키기 위해 설립된 정진기언...\n",
       "15        다음달부터 6월까지 공공기관에서 1700명의 대졸 신입정규직을 선발한다. 정부가 취...\n",
       "16        지하 2층~지상 1층, 특급 부대시설 분양 컨시어지라운지, 연회장, 마켓형 레스토랑...\n",
       "17        \"아이들 안전 걱정\" 인근 삼릉초 엄마들 분노  20일 박근혜 전 대통령의 삼성동 ...\n",
       "18        수도권 서부지역 최초 남북간선도로인 제2외곽순환 '인천김포고속도로'가 오는 23일 ...\n",
       "19        유영하·정장현 변호사 9시경 삼성동자택 방문 7시간 머물며 마라톤 회의  ◆ 박 前...\n",
       "20        서울 서초구 양재동 더케이호텔에서 20일 열린 '제1회 저축은행 우수 영업인 시상식...\n",
       "21        18일 공식 출범식을 연 삼천리모터스  삼천리모터스가 지난 18일 충청북도 청주시 ...\n",
       "22        美 명품 유모차 `오르빗` 국내 첫 쇼룸 오픈  오르빗 쇼룸 글로벌 프리미엄 유모차...\n",
       "23        20일 롯데그룹 경영 비리 관련 재판에 출석하고 있는 신격호 롯데그룹 총괄회장의 사...\n",
       "24        정부가 오는 22일 기상 상황이 좋을 경우 세월호 시험 인양에 들어가며 여건에 따라...\n",
       "25        덴마크에 구금돼 있는 정유라씨가 덴마크 검찰의 한국 송환 결정에 불복, 지난 17일...\n",
       "26        새 학기가 시작되는 3월에 어린이 교통사고가 급증하는 것으로 나타났다.   도로교통...\n",
       "27        자유한국당 대선후보 경선 본선에 김관용 경상북도지사, 김진태 의원, 이인제 전 최고...\n",
       "28        중소기업유통센터는 경기도청(북부청사), 개성공업지구지원재단, 홈플러스와 함께 오는 ...\n",
       "29                                                         \n",
       "                                ...                        \n",
       "252856    김희범 전 문화체육관광부 1차관  김희범 전 문화체육관광부 1차관이 이른바 '문화예...\n",
       "252857    최순실씨 딸 정유라씨의 이화여대 학사 특혜 의혹과 관련해 31일 새벽 긴급체포된 류...\n",
       "252858    정부가 미국과 신선 계란 수입을 위한 실무 협의에 돌입했다.농림축산식품부 관계자는 ...\n",
       "252859    원거리에서 적을 타격하는 대포는 포신 안에서 장약이 폭발하는 힘으로 40kg이 넘는...\n",
       "252860    새해 달력을 바꿀 때마다 가장 먼저 보게 되는 건  뭘까. 바로 '빨간 날'. 내년...\n",
       "252861    '비선 실세' 최순실(60·구속기소)씨의 집에 70대 남성이 다녀가면 방바닥에 핏자...\n",
       "252862    에스티로더의 '어드밴스드 나이트 리페어'. 일명 '갈색병'으로 더 불리며 40년 가...\n",
       "252863    미국 재무부가 일본 야쿠자 조직과 핵심 조직원에 대해 경제제재를 결정했다.교도통신과...\n",
       "252864    올해 마지막 날인 31일에도 박근혜 대통령의 즉각 퇴진과 헌법재판소 탄핵 인용을 촉...\n",
       "252865    31일 오전 전남 보성 조성역 철길 건널목에서 관광열차와 충돌한 뒤 튕겨 나간 승용...\n",
       "252866    병신년 마지막 날인 31일, 노년과 장년층을 중심으로 박근혜 대통령 탄핵과 촛불집회...\n",
       "252867    손학규 전 민주당 대표는 31일 \"헌법을 고쳐 제왕적 대통령제를 없애고 참된 국민주...\n",
       "252868    새해맞이 파티가 열리는 트럼프 대통령 당선인 소유 마라라고 리조트  도널드 트럼프 ...\n",
       "252869    올해의 마지막 날인 31일(현지시간) 오전 이라크 바그다드 도심에서 폭탄테러 2건이...\n",
       "252870    사상 최악의 조류인플루엔자(AI) 여파로 계란 한판에 1만5000원까지 치솟는 등 ...\n",
       "252871    박사모(박근혜를 사랑하는모임) 일부 회원들이 방송인 유재석을 '좌파 연예인'이라며 ...\n",
       "252872    박근혜 대통령 즉각 퇴진을 촉구하는 올해 마지막 주말 촛불집회가 31일 서울 도심에...\n",
       "252873    ▲조용범(고려대 경제학과 명예교수)씨 별세, 성가(한글서예가) 도찬(GRP 이사) ...\n",
       "252874                                                     \n",
       "252875    조류인플루엔자(AI) 확진 판정을 받은 양계농장에서 나온 계란이 폐기되지 않고 시중...\n",
       "252876    제10차 촛불집회에 오후 7시 기준 60만명 넘게 모였다. 이같은 추세라면 연 누적...\n",
       "252877    #친구들로부터 괜찮은 차량용 블랙박스를 추천받은 김모씨(35세 남성)는 저렴하게 구...\n",
       "252878    문재인 더불어민주당 전 대표는 31일 \"반칙과 특권으로 쌓아올린 기득권의 탑은 무너...\n",
       "252879    올해 마지막 촛불이 80만명을 넘어섰다. 이대로라면 31일 광화문광장에 100만명 ...\n",
       "252880                                                     \n",
       "252881    시진핑 중국 국가주석은 \"우리는 평화발전을 견지하면서도 영토 주권과 해양권익을 결연...\n",
       "252882    제735회 로또복권 1등 당첨번호는 '5, 10, 13, 27, 37, 41'이다....\n",
       "252883                                                     \n",
       "252884    청와대와 문화체육관광부의 '문화예술인 블랙리스트 의혹'을 수사 중인 특별검사팀이 국...\n",
       "252885    박근혜 대통령의 즉각 퇴진을 촉구하는 촛불집회 누적 연 인원이 1000만명을 넘어섰...\n",
       "Name: article, Length: 252886, dtype: object"
      ]
     },
     "execution_count": 14,
     "metadata": {},
     "output_type": "execute_result"
    }
   ],
   "source": [
    "df['article']=df['article'].apply(lambda x: remove_extras(x))\n",
    "df['article']"
   ]
  },
  {
   "cell_type": "code",
   "execution_count": 43,
   "metadata": {
    "collapsed": true
   },
   "outputs": [],
   "source": [
    "counts=df.groupby('section').size()\n",
    "sorted_counts=counts.sort_values(ascending=False)"
   ]
  },
  {
   "cell_type": "code",
   "execution_count": 44,
   "metadata": {},
   "outputs": [
    {
     "data": {
      "text/plain": [
       "section\n",
       "기업       52364\n",
       "사회       50041\n",
       "정치       32144\n",
       "경제       23541\n",
       "국제       16377\n",
       "부동산      16169\n",
       "증권       14702\n",
       "문화       10296\n",
       "IT·과학     9963\n",
       "전체기사      1607\n",
       "dtype: int64"
      ]
     },
     "execution_count": 44,
     "metadata": {},
     "output_type": "execute_result"
    }
   ],
   "source": [
    "sorted_counts"
   ]
  },
  {
   "cell_type": "code",
   "execution_count": 15,
   "metadata": {
    "collapsed": true
   },
   "outputs": [],
   "source": [
    "df.to_pickle('mk_all.pkl')"
   ]
  },
  {
   "cell_type": "code",
   "execution_count": 16,
   "metadata": {},
   "outputs": [
    {
     "data": {
      "text/plain": [
       "Index         2360328\n",
       "article    1181572465\n",
       "author       28497751\n",
       "date         19767747\n",
       "section      29771250\n",
       "title        59625664\n",
       "sec_idx       2360328\n",
       "dtype: int64"
      ]
     },
     "execution_count": 16,
     "metadata": {},
     "output_type": "execute_result"
    }
   ],
   "source": [
    "df.memory_usage(deep=True)"
   ]
  },
  {
   "cell_type": "code",
   "execution_count": null,
   "metadata": {
    "collapsed": true
   },
   "outputs": [],
   "source": []
  }
 ],
 "metadata": {
  "kernelspec": {
   "display_name": "Python 3",
   "language": "python",
   "name": "python3"
  },
  "language_info": {
   "codemirror_mode": {
    "name": "ipython",
    "version": 3
   },
   "file_extension": ".py",
   "mimetype": "text/x-python",
   "name": "python",
   "nbconvert_exporter": "python",
   "pygments_lexer": "ipython3",
   "version": "3.5.2"
  }
 },
 "nbformat": 4,
 "nbformat_minor": 1
}
