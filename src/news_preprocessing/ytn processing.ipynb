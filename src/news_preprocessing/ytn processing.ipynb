{
 "cells": [
  {
   "cell_type": "code",
   "execution_count": 1,
   "metadata": {
    "collapsed": true
   },
   "outputs": [],
   "source": [
    "import glob\n",
    "\n",
    "files = glob.glob('./data/2017/*/ytn/*.json')"
   ]
  },
  {
   "cell_type": "code",
   "execution_count": 2,
   "metadata": {
    "collapsed": true
   },
   "outputs": [],
   "source": [
    "import json\n",
    "def read_json_file(path_to_file):\n",
    "    with open(path_to_file) as p:\n",
    "        rows=[json.loads(line) for line in p]\n",
    "    return rows"
   ]
  },
  {
   "cell_type": "code",
   "execution_count": 3,
   "metadata": {
    "collapsed": true
   },
   "outputs": [],
   "source": [
    "import pandas as pd\n",
    "\n",
    "data=[]\n",
    "for path in files:\n",
    "    data.extend(read_json_file(path))\n",
    "\n",
    "df = pd.DataFrame(data)"
   ]
  },
  {
   "cell_type": "code",
   "execution_count": 4,
   "metadata": {
    "collapsed": true
   },
   "outputs": [],
   "source": [
    "df.drop(['comments','image','naver_section','naver_url','org_url','time','vod'], axis = 1, inplace = True)"
   ]
  },
  {
   "cell_type": "code",
   "execution_count": 5,
   "metadata": {
    "collapsed": true
   },
   "outputs": [],
   "source": [
    "import pandas as pd\n",
    "\n",
    "with open('./data/ytn_2016.pkl', 'rb') as f1:\n",
    "    df2016 = pd.read_pickle(f1)"
   ]
  },
  {
   "cell_type": "code",
   "execution_count": 6,
   "metadata": {
    "collapsed": true
   },
   "outputs": [],
   "source": [
    "df2016.rename(columns={'content': 'article'}, inplace=True)"
   ]
  },
  {
   "cell_type": "code",
   "execution_count": 7,
   "metadata": {
    "collapsed": true
   },
   "outputs": [],
   "source": [
    "df2016.drop(['oid','aid','media','naver_count','org_count','org_url','total_count','ml_section'], axis = 1, inplace = True)"
   ]
  },
  {
   "cell_type": "code",
   "execution_count": 8,
   "metadata": {
    "collapsed": true
   },
   "outputs": [],
   "source": [
    "df=df[['date', 'title', 'article', 'section']]"
   ]
  },
  {
   "cell_type": "code",
   "execution_count": 9,
   "metadata": {
    "collapsed": true
   },
   "outputs": [],
   "source": [
    "df=df.append(df2016)\n",
    "df=df.reset_index(drop=True)\n"
   ]
  },
  {
   "cell_type": "code",
   "execution_count": 12,
   "metadata": {},
   "outputs": [
    {
     "data": {
      "text/plain": [
       "['',\n",
       " '\\r',\n",
       " '\\r',\n",
       " '팝의 거장 스팅이 13년 만에 록 음악으로 돌아옵니다.',\n",
       " \" 스팅은 올해 말 12번째 솔로 앨범을 발매할 예정인데 그에 앞서 첫 번째 싱글 'I can't stop thinking about you'를 지난 3일 먼저 공개했습니다.\",\n",
       " ' 이 곡은 스팅이 지금까진 선보인 곡 중에 가장 에너지가 넘친다는 평이며 그 어느 때보다 기타 중심의 앨범이 될 거라던 말답게 기타 사운드가 주를 이룹니다.',\n",
       " ' 올해 말 발매될 스팅의 12번째 솔로 앨범은 스팅이 13년 만에 발표하는 록 앨범으로 강렬한 이미지의 곡부터 클래식 포크까지 다양한 곡들이 수록됐습니다.',\n",
       " '',\n",
       " '▶ [원포인트생활상식] 생활 속 아이디어 공모전',\n",
       " '▶ 뉴스 덕후들의 YTN페이스북  ',\n",
       " '▶ 내가 만드는 뉴스! YTN제보[저작권자(c) YTN(Yes! Top News) 무단전재 및 재배포 금지]',\n",
       " '',\n",
       " '']"
      ]
     },
     "execution_count": 12,
     "metadata": {},
     "output_type": "execute_result"
    }
   ],
   "source": [
    "article=df['article'][160000].replace('▶','\\n▶').replace('\\t', '').replace('.', '.\\n').split('\\n')\n",
    "article"
   ]
  },
  {
   "cell_type": "code",
   "execution_count": 12,
   "metadata": {},
   "outputs": [
    {
     "data": {
      "text/plain": [
       "\"팝의 거장 스팅이 13년 만에 록 음악으로 돌아옵니다. 스팅은 올해 말 12번째 솔로 앨범을 발매할 예정인데 그에 앞서 첫 번째 싱글 'I can't stop thinking about you'를 지난 3일 먼저 공개했습니다. 이 곡은 스팅이 지금까진 선보인 곡 중에 가장 에너지가 넘친다는 평이며 그 어느 때보다 기타 중심의 앨범이 될 거라던 말답게 기타 사운드가 주를 이룹니다. 올해 말 발매될 스팅의 12번째 솔로 앨범은 스팅이 13년 만에 발표하는 록 앨범으로 강렬한 이미지의 곡부터 클래식 포크까지 다양한 곡들이 수록됐습니다. \""
      ]
     },
     "execution_count": 12,
     "metadata": {},
     "output_type": "execute_result"
    }
   ],
   "source": [
    "import re\n",
    "article = re.sub(r'\\/\\/[a-zA-Z가-힣 \\n]+|{}|_flash_removeCallback\\(\\)', '', article)\n",
    "article = re.sub(r'\\(사진=[a-zA-Z가-힣]+\\)', '', article.strip())\n",
    "#article = re.sub(r'\\([가-힣 ]+(기상캐스터)\\)', '', article)\n",
    "article = re.sub(r'[0-9가-힣=()· ]+\\[[a-zA-Z0-9.]+@ytn.co.kr\\](.*)', '', article)\n",
    "article = re.sub(r'▶(.*)', '', article)\n",
    "\n",
    "\n",
    "article"
   ]
  },
  {
   "cell_type": "code",
   "execution_count": 13,
   "metadata": {
    "collapsed": true
   },
   "outputs": [],
   "source": [
    "import re\n",
    "def remove_extras(article):   \n",
    "    article = article.replace('▶','\\n▶').replace('\\t', '').replace('\\n', ' ')#.split('\\n')\n",
    "    article = re.sub(r'\\/\\/[a-zA-Z가-힣 \\n]+|{}|_flash_removeCallback\\(\\)', '', article)\n",
    "    article = re.sub(r'\\(사진=[a-zA-Z가-힣]+\\)', '', article.strip())\n",
    "    article = re.sub(r'\\[[가-힣 ]+캐스터\\]', '', article)\n",
    "    article = re.sub(r'\\[(앵커|기자)\\]', '', article)\n",
    "    article = re.sub(r'[0-9가-힣=()· ]+\\[[a-zA-Z0-9.]+@ytn.co.kr\\](.*)', '', article)\n",
    "    article = re.sub(r'▶(.*)', '', article)\n",
    "\n",
    "    article = article.replace('\\n', ' ')\n",
    "    return article"
   ]
  },
  {
   "cell_type": "code",
   "execution_count": 14,
   "metadata": {},
   "outputs": [
    {
     "name": "stdout",
     "output_type": "stream",
     "text": [
      "  국립해양조사원에서 제공하는 내일의 바다정보입니다.21일인 내일, 건조한 대기를 시원하게 적셔줄 비 예보가 있습니다. 남부지방과 제주도는 아침까지, 강원영동과 경북동해안은 오전까지 비가 내리겠고요.   중부와 경북 내륙에는 낮 동안 빗방울이 잠깐 떨어지겠습니다. 당분간은 평년보다 기온이 조금 높지만, 일교차가 크게 벌어지니까요. 옷차림에 유의하시기 바랍니다.  내일은 음력 2월 24일로 달의 왼쪽 절반이 빛나는 하현달이 뜨겠는데요. 달과 지구의 인력이 작아지면서, 조차가 작고 유속이 느린 소조기가 되겠습니다.  먼저 조석정보입니다. 서해안 인천의 고조는 10시 2분 640cm, 저조는 16시 18분 330cm로 조차는 310cm가 되겠습니다. 내일 서해먼바다와 동해먼바다는 바람이 강하게 불고 물결이 매우 높게 일겠습니다. 항해나 조업하는 선박들은 최신 기상정보를 계속해서 확인해주시기 바랍니다.  남해안 완도는 10시 47분 167cm로 하루 중 해수면이 가장 낮겠고요. 15시 52분 214cm까지 물이 차오르겠습니다. 20일인 오늘, 남해상에는 돌풍과 함께 천둥, 번개가 칠 가능성이 높습니다. 해양활동 시 각별히 주의하시기 바랍니다.  동해 울산의 최대조차 17cm,독도는 14cm로 간조와 만조 시 해수면 높이의 차이가 거의 없겠습니다.  제주권 추자도의 고조는 17시 23분 174cm,제주항은 16시 48분 156cm가 되겠습니다.  다음은 조류정보입니다. 서해권 군산항로입구는 14시 7분 남서방향 0.6노트까지 물살이 빨라지겠고요. 이후 유향이 동북동쪽으로 바뀌면서, 17시 42분 물살이 가장 느려지겠습니다.  남동해권 부산항입구는 12시 17분 0.1노트, 17시 9분 0.2노트로 각각 최강유속을 보이겠고요. 물살이 가장 약해지는 시각은 10시 3분과 14시 30분이 되겠습니다.  끝으로 제주권 제주항은 12시 5분 동북동쪽 0.4노트로 최강창조류가 흐르겠고요. 이후 유속이 서서히 느려지다가, 15시 23분 가장 느린 흐름을 보이겠습니다.    올해 벚꽃이 평년보다 2일에서 5일 정도 빠르게 필 것으로 예상되는데요. 20일인 오늘, 제주도 서귀포를 시작으로 벚꽃이 하나둘씩 개화하겠습니다. 예상 벚꽃 개화 일은 부산이 3월 28일, 전주가 4월 1일이 예상되고요. 대전 4월 2일, 서울은 4월 6일이 되어서야 벚꽃을 볼 수 있겠습니다. 봄나들이 계획하는데 참고하시면 좋겠습니다. 이상 내일의 바다정보였습니다.       국립해양조사원 조석예보 ARS 1588-9822(문의),  홈페이지(www.khoa.go.kr/Onbada)  제공=대한민국 NO.1 낚시채널 FTV(염유나)   \n"
     ]
    }
   ],
   "source": [
    "print(remove_extras(df['article'][28]))"
   ]
  },
  {
   "cell_type": "code",
   "execution_count": 15,
   "metadata": {},
   "outputs": [
    {
     "data": {
      "text/plain": [
       "0         세월호가 인양돼 목포 신항으로 옮겨질 것에 대비한 지원본부가 구성됐습니다.  목포시...\n",
       "1         주중 한국대사관이 오는 23일 중국 후난성에서 열리는 월드컵 최종 예선 한중 전을 ...\n",
       "2         북한의 국방과학기술을 주도하는 핵심 기관인 '제2자연과학원'이 옛 명칭인 국방과학원...\n",
       "3          롯데 총수 일가가 법원에 모두 함께 출석한 것은 그룹 창립 50년 사상 처음 있는...\n",
       "4          검찰이 박근혜 전 대통령을 소환 조사한 뒤 구속영장을 청구하기 위해선 '뇌물죄'를...\n",
       "5          박근혜 전 대통령이 내일 피의자 신분으로 검찰에 출석해 조사를 받습니다.  국정농...\n",
       "6          내일 박근혜 전 대통령의 검찰 대면조사에서는 검찰과 박근혜 전 대통령 측 변호인단...\n",
       "7         오늘(20일) 새벽 6시쯤 전남 나주시 공산면에 있는 양계장에서 불이 났습니다.  ...\n",
       "8          박근혜 전 대통령은 전직 대통령 신분으로는 사상 처음, 내일 서울중앙지검 청사에 ...\n",
       "9         ■ 조해진, 前 국회의원 / 손수호, 변호사 / 배재정, 前 국회의원 / 김홍국, ...\n",
       "10        박근혜 전 대통령이 내일(21일) 피의자 신분으로 검찰에 출석해 조사를 받습니다. ...\n",
       "11        광주지방검찰청 목포지청은 전남 무안군청 6급 공무원 A 씨를 뇌물수수 혐의로 구속영...\n",
       "12         고모부에 이어 이복형까지 제거하며 공포 통치를 이어가는 북한 김정은이 다른 한쪽에...\n",
       "13         최순실 게이트가 불거지고 검찰과 특검은 하나같이 박근혜 전 대통령의 대면 조사를 ...\n",
       "14        주형환 산업통상자원부 장관은 중국 업체 인수가 검토되고 있는 금호타이어 매각 승인 ...\n",
       "15        우리 정부가 중국의 사드 보복성 조치에 대해 세계무역기구, WTO에 국제법 위배 가...\n",
       "16         도널드 트럼프 미국 대통령이 또다시 북한의 김정은을 향해 매우 나쁘게 행동한다며 ...\n",
       "17        동국대학교 남학생들이 카카오톡 단체대화방에서 동기 여학생 등을 대상으로 성희롱 대화...\n",
       "18        그룹 '하이라이트'가 오랫동안 기다려준 팬들에게 감사한 마음을 전했다. 새 그룹명으...\n",
       "19         국내에서 수입하는 닭고기의 대부분을 차지하는 브라질에서 부패한 고기가 불법 유통된...\n",
       "20         내일 검찰에 소환되는 박근혜 전 대통령이 검찰 출석에 앞서 입장을 발표합니다.  ...\n",
       "21        자유한국당 대선 본경선 진출자 4명 확정  김관용, 김진태, 이인제, 홍준표 통과 ...\n",
       "22        경영 비리 혐의로 재판에 넘겨진 롯데그룹 총수 일가가 법정에서 혐의를 모두 부인했습...\n",
       "23         박근혜 전 대통령이 내일 피의자 신분으로 검찰에 출석해 조사를 받습니다.  국정농...\n",
       "24         40대 여성이 난폭운전을 하면서 순찰차 6대를 들이받고 경찰관 3명을 다치게 한 ...\n",
       "25         신격호 롯데 총괄회장과 동주·동빈 형제 등 롯데 사주 일가 5명이 오늘 한 재판정...\n",
       "26        오는 23일 우리나라 축구 대표팀과 중국 대표팀의 2018 러시아월드컵 최종예선 6...\n",
       "27        자유한국당은 대선 본 경선 후보로 김관용 경북지사와 김진태 의원, 이인제 전 최고위...\n",
       "28          국립해양조사원에서 제공하는 내일의 바다정보입니다.21일인 내일, 건조한 대기를 ...\n",
       "29        오늘 오후 2시쯤 경기 용인시 언남동 법화산에서 불이 나 30분 만에 꺼졌습니다. ...\n",
       "                                ...                        \n",
       "203434     최순실 국정농단 사건을 수사하는 박영수 특검이 이재용 삼성전자 부회장이 최 씨에 ...\n",
       "203435     최순실 국정농단 사건을 수사 중인 박영수 특별검사팀이 오늘 새벽 필명 이인화로 유...\n",
       "203436    최순실 일가 지원 과정에 이재용 부회장이 개입했다는 의혹에 대해 삼성 측은 사실이 ...\n",
       "203437     귀국이 임박한 반기문 유엔 사무총장이 자신을 둘러싸고 제기된 각종 의혹에 대해 부...\n",
       "203438    반기문 유엔 사무총장은 개헌이 필요하다고 생각하며 정치권에서 시작된 검증에 대해서도...\n",
       "203439     올 한해 법조계는 그야말로, 수난의 시대였습니다. 전관뿐만 아니라 현직 법조인의 ...\n",
       "203440    '최순실 게이트'를 수사하고 있는 박영수 특별검사팀이 조윤선 문체부 장관이 국회 청...\n",
       "203441    오늘 밤, 2017년 새해를 맞이할 때는 카운트다운을 마치고도 1초를 더 기다려야 ...\n",
       "203442    [김윤석 / 배우 : 저희 참 모진 겨울, 힘든 겨울, 어수선한 겨울들을 보냈는데요...\n",
       "203443     2016년도 이제 얼마 남지 않았습니다. 지금 서울 종로 보신각에는 새해 시작을 ...\n",
       "203444    ■ 김응건 / YTN 사회부 기자   2016년의 마지막 날, 이제 한 시간 남짓 ...\n",
       "203445     2016년 올해의 마지막 태양이 저물었습니다. 전국의 해넘이 명소에는 한 해를 뜻...\n",
       "203446     2016년의 마지막 밤이 깊어가고 있습니다. 아쉬움 속에 올해를 떠나보내는 인파로...\n",
       "203447    올해 마지막 날, 2017년 새해를 맞이할 때는 카운트다운을 마치고도 1초를 더 기...\n",
       "203448    북한이 2017년 새해 첫날인 1월 1일 평양에서 불꽃놀이 행사를 연다고 예고했습니...\n",
       "203449    조류 인플루엔자 확진 판정을 받은 양계농장에서 나온 달걀이 폐기되지 않고 시중에 유...\n",
       "203450     경기도 포천에서 폐사한 고양이는 고병원성 조류인플루엔자, AI에 감염된 것으로 최...\n",
       "203451    조류 인플루엔자 여파로 달걀 부족과 달걀값 폭등세가 이어지자 미국 정부가 한국에 달...\n",
       "203452     오늘부터 '2017학년도 대입 정시모집' 원서 접수가 시작됐습니다. 수시 모집 때...\n",
       "203453    올 한해 세계 곳곳에서 취재와 보도 활동을 하다가 숨진 언론인이 93명으로 집계됐다...\n",
       "203454    2016년의 끝이 보입니다. 오늘 온화한 날씨 속에 활동하기 무난했는데요. 새해 첫...\n",
       "203455    시진핑 중국 국가주석이 2017년도 신년사에서 중국은 평화 발전을 견지하면서도 영토...\n",
       "203456     2016년도 이제 얼마 남지 않았습니다. 지금 서울 종로 보신각에는 새해 시작을 ...\n",
       "203457     2016년의 마지막 날인 오늘도 박근혜 대통령의 즉각 퇴진을 촉구하는 10번째 촛...\n",
       "203458     2016년이 한 시간도 채 남지 않았습니다. 서울의 대표적인 명소인 남산에는 한 ...\n",
       "203459    시진핑 중국 국가주석이 2017년도 신년사에서 중국은 평화 발전을 견지하면서도 영토...\n",
       "203460    앙겔라 메르켈 독일 총리가 새해 메시지를 통해 독일의 최대 위협은 이슬람 급진무장세...\n",
       "203461     다른 나라의 세밑 표정은 어떤지 알아봅니다. 먼저 중국으로 가보겠습니다. 중국은 ...\n",
       "203462     일본으로 가보겠습니다. 아베 정권은 내년 헌법 개정과 아베 총리의 장기 집권을 위...\n",
       "203463    전 세계 주요 도시 가운데 가장 먼저 2017년 새해를 맞은 호주에서는 대대적인 불...\n",
       "Name: article, Length: 203464, dtype: object"
      ]
     },
     "execution_count": 15,
     "metadata": {},
     "output_type": "execute_result"
    }
   ],
   "source": [
    "df['article']=df['article'].apply(lambda x: remove_extras(x))\n",
    "df['article']"
   ]
  },
  {
   "cell_type": "code",
   "execution_count": 34,
   "metadata": {
    "collapsed": true
   },
   "outputs": [],
   "source": [
    "counts=df.groupby('section').size()\n",
    "sorted_counts=counts.sort_values(ascending=False)"
   ]
  },
  {
   "cell_type": "code",
   "execution_count": 35,
   "metadata": {},
   "outputs": [
    {
     "data": {
      "text/plain": [
       "section\n",
       "사회               52913\n",
       "정치               43730\n",
       "국제               34049\n",
       "전국               21751\n",
       "경제               21161\n",
       "문화               10560\n",
       "YTN 기상센터          8816\n",
       "운세                3306\n",
       "스포츠               1299\n",
       "과학                 794\n",
       "현장생중계              757\n",
       "SNS세상              513\n",
       "패션&뷰티              503\n",
       "영어뉴스               461\n",
       "정보광장               453\n",
       "글로벌코리안             402\n",
       "낚시                 318\n",
       "건강                 294\n",
       "여행                 267\n",
       "원 포인트 생활상식         152\n",
       "재미있는 낱말풀이          149\n",
       "                   136\n",
       "더 큰 코리아            134\n",
       "건축&디자인              99\n",
       "인물                  89\n",
       "스포츠24               82\n",
       "재미있는 역사 이야기         79\n",
       "health+Life         76\n",
       "리더스인터뷰              38\n",
       "K-MOVE 리포트          31\n",
       "YTN Korean 24        9\n",
       "디지털 코리안 타운           1\n",
       "칼럼                   1\n",
       "몽땅TV                 1\n",
       "dtype: int64"
      ]
     },
     "execution_count": 35,
     "metadata": {},
     "output_type": "execute_result"
    }
   ],
   "source": [
    "sorted_counts"
   ]
  },
  {
   "cell_type": "code",
   "execution_count": 16,
   "metadata": {
    "collapsed": true
   },
   "outputs": [],
   "source": [
    "df.to_pickle('ytn_all.pkl')"
   ]
  },
  {
   "cell_type": "code",
   "execution_count": 49,
   "metadata": {},
   "outputs": [
    {
     "data": {
      "text/plain": [
       "Index             80\n",
       "date         2338297\n",
       "title        8729611\n",
       "article    473631487\n",
       "section      4232493\n",
       "dtype: int64"
      ]
     },
     "execution_count": 49,
     "metadata": {},
     "output_type": "execute_result"
    }
   ],
   "source": [
    "df.memory_usage(deep=True)"
   ]
  },
  {
   "cell_type": "code",
   "execution_count": null,
   "metadata": {
    "collapsed": true
   },
   "outputs": [],
   "source": []
  }
 ],
 "metadata": {
  "kernelspec": {
   "display_name": "Python 3",
   "language": "python",
   "name": "python3"
  },
  "language_info": {
   "codemirror_mode": {
    "name": "ipython",
    "version": 3
   },
   "file_extension": ".py",
   "mimetype": "text/x-python",
   "name": "python",
   "nbconvert_exporter": "python",
   "pygments_lexer": "ipython3",
   "version": "3.5.2"
  }
 },
 "nbformat": 4,
 "nbformat_minor": 1
}
