{
 "cells": [
  {
   "cell_type": "code",
   "execution_count": 2,
   "metadata": {
    "collapsed": true
   },
   "outputs": [],
   "source": [
    "import glob\n",
    "\n",
    "files = glob.glob('./data/2017/*/mbc/*.json')"
   ]
  },
  {
   "cell_type": "code",
   "execution_count": 3,
   "metadata": {
    "collapsed": true
   },
   "outputs": [],
   "source": [
    "import json\n",
    "def read_json_file(path_to_file):\n",
    "    with open(path_to_file) as p:\n",
    "        rows=[json.loads(line) for line in p]\n",
    "    return rows"
   ]
  },
  {
   "cell_type": "code",
   "execution_count": 4,
   "metadata": {
    "collapsed": true
   },
   "outputs": [],
   "source": [
    "import pandas as pd\n",
    "\n",
    "data=[]\n",
    "for path in files:\n",
    "    data.extend(read_json_file(path))\n",
    "\n",
    "df = pd.DataFrame(data)"
   ]
  },
  {
   "cell_type": "code",
   "execution_count": 5,
   "metadata": {
    "collapsed": true
   },
   "outputs": [],
   "source": [
    "df.drop(['comments','image','naver_section','naver_url','org_url','time','vod'], axis = 1, inplace = True)"
   ]
  },
  {
   "cell_type": "code",
   "execution_count": 6,
   "metadata": {
    "collapsed": true
   },
   "outputs": [],
   "source": [
    "import pandas as pd\n",
    "\n",
    "with open('./data/mbc_2016.pkl', 'rb') as f1:\n",
    "    df2016 = pd.read_pickle(f1)"
   ]
  },
  {
   "cell_type": "code",
   "execution_count": 7,
   "metadata": {
    "collapsed": true
   },
   "outputs": [],
   "source": [
    "df2016.rename(columns={'content': 'article'}, inplace=True)"
   ]
  },
  {
   "cell_type": "code",
   "execution_count": 8,
   "metadata": {
    "collapsed": true
   },
   "outputs": [],
   "source": [
    "df2016.drop(['oid','aid','media','naver_count','org_count','org_url','total_count','ml_section'], axis = 1, inplace = True)"
   ]
  },
  {
   "cell_type": "code",
   "execution_count": 9,
   "metadata": {
    "collapsed": true
   },
   "outputs": [],
   "source": [
    "df=df[['date', 'title', 'article', 'section']]"
   ]
  },
  {
   "cell_type": "code",
   "execution_count": 10,
   "metadata": {
    "collapsed": true
   },
   "outputs": [],
   "source": [
    "df=df.append(df2016)\n",
    "df=df.reset_index(drop=True)\n"
   ]
  },
  {
   "cell_type": "code",
   "execution_count": 25,
   "metadata": {},
   "outputs": [
    {
     "data": {
      "text/plain": [
       "'         [뉴스데스크]◀ 앵커  ▶   북한이 틸러슨 미 국무장관의 중국 방문에 맞춰 대륙간탄도미사일, ICBM에 사용할 수 있는 신형 로켓엔진 시험을 실시했습니다.  ◀ 앵커  ▶   시험을 직접 참관한 김정은은 조만간 전 세계가 이번 시험의 결과를 보게 될 것이라며 사실상 ICBM 발사를 예고했습니다.   첫 소식 김준형 기자의 보도입니다.  ◀ 리포트  ▶   북한의 서해 동창리 미사일 발사장에서 김정은이 지켜보는 가운데 로켓엔진이 불을 뿜었습니다.   북한은 김정은과 탄도미사일 개발 책임을 맡고 있는 리병철 당 중앙위 제1부부장이 활짝 웃는 모습을 공개했습니다.  그러면서 신형 고출력 로켓 엔진 실험에서 터빈펌프 등 각종 기술적 지표가 달성됐다고 밝혔습니다.  김정은은 이번 실험을 혁명, 역사적인 사건이라고 치켜세우며 사실상 ICBM발사를 예고했습니다.   [조선중앙TV] \"오늘 이룩한 거대한 승리가 어떤 사변적 의의를 가지는가를 온 세계가 곧 보게될 것...\"  특히 어제 미 국무장관의 중국 베이징 방문에 맞춰 신형 ICBM 엔진 완성을 공개함으로써 미국의 압박에 강대강으로 맞서겠다는 뜻을 강조했습니다.   [양무진/북한대학원대학교 교수] 조만간 미·중 간의 정상회담, 더 나아가서 4월 25일 인민군 창건 85주년, 이런 모든 것을 감안해서 핵능력 고도화 차원에서 장거리 로켓 발사를 언제든 할 수 있다는...\"  이런 가운데 북한은 선전매체인 우리민족끼리를 통해 미국의 핵추진 항공모함 칼빈슨호와 B-1B 전략폭격기를 타격하는 가상 영상을 공개하며 한미 훈련을 겨냥한 위협 수위를 높였습니다.   MBC뉴스 김준형입니다.  김준형기자 (bluewave7@mbc.co.kr )  [저작권자(c) MBC (www.imnews.com) 무단복제-재배포 금지]   Copyright(c) Since 1996, MBC&iMBC All rights reserved.  '"
      ]
     },
     "execution_count": 25,
     "metadata": {},
     "output_type": "execute_result"
    }
   ],
   "source": [
    "article=df['article'][3000].replace('▶','\\n▶').replace('\\t', '').replace('\\n', ' ')#.split('\\n')\n",
    "article"
   ]
  },
  {
   "cell_type": "code",
   "execution_count": 27,
   "metadata": {},
   "outputs": [
    {
     "data": {
      "text/plain": [
       "'   북한이 틸러슨 미 국무장관의 중국 방문에 맞춰 대륙간탄도미사일, ICBM에 사용할 수 있는 신형 로켓엔진 시험을 실시했습니다.     시험을 직접 참관한 김정은은 조만간 전 세계가 이번 시험의 결과를 보게 될 것이라며 사실상 ICBM 발사를 예고했습니다.의 보도입니다.     북한의 서해 동창리 미사일 발사장에서 김정은이 지켜보는 가운데 로켓엔진이 불을 뿜었습니다.   북한은 김정은과 탄도미사일 개발 책임을 맡고 있는 리병철 당 중앙위 제1부부장이 활짝 웃는 모습을 공개했습니다.  그러면서 신형 고출력 로켓 엔진 실험에서 터빈펌프 등 각종 기술적 지표가 달성됐다고 밝혔습니다.  김정은은 이번 실험을 혁명, 역사적인 사건이라고 치켜세우며 사실상 ICBM발사를 예고했습니다.   [조선중앙TV] \"오늘 이룩한 거대한 승리가 어떤 사변적 의의를 가지는가를 온 세계가 곧 보게될 것...\"  특히 어제 미 국무장관의 중국 베이징 방문에 맞춰 신형 ICBM 엔진 완성을 공개함으로써 미국의 압박에 강대강으로 맞서겠다는 뜻을 강조했습니다.   [양무진/북한대학원대학교 교수] 조만간 미·중 간의 정상회담, 더 나아가서 4월 25일 인민군 창건 85주년, 이런 모든 것을 감안해서 핵능력 고도화 차원에서 장거리 로켓 발사를 언제든 할 수 있다는...\"  이런 가운데 북한은 선전매체인 우리민족끼리를 통해 미국의 핵추진 항공모함 칼빈슨호와 B-1B 전략폭격기를 타격하는 가상 영상을 공개하며 한미 훈련을 겨냥한 위협 수위를 높였습니다.'"
      ]
     },
     "execution_count": 27,
     "metadata": {},
     "output_type": "execute_result"
    }
   ],
   "source": [
    "import re\n",
    "article = re.sub(r'\\/\\/[a-zA-Z가-힣 \\n]+|{}|_flash_removeCallback\\(\\)', '', article)\n",
    "#article = re.sub(r'\\[중앙[a-zA-Z가-힣 ]+\\]', '', article)\n",
    "#article = re.sub(r'\\[사진 [a-zA-Z가-힣]+\\]', '', article)\n",
    "\n",
    "article = re.sub(r'^\\[[가-힣]+\\]', '', article.strip())\n",
    "article = re.sub(r'◀[가-힣 ]+▶', '', article)\n",
    "article = re.sub(r'[가-힣 ]+기자', '', article)\n",
    "article = re.sub(r'[가-힣 ]+MBC뉴스[가-힣 ]+.', '', article)\n",
    "article = re.sub(r'[0-9가-힣=()· ]+\\([a-z0-9.]+@mbc.co.kr(.*)', '', article)\n",
    "\n",
    "article = re.sub(r'\\[저작권자(.*)', '', article)\n",
    "#article = re.sub(r'\\[ⓒ 조인스랜드 (.*)\\]', '', article)\n",
    "\n",
    "article"
   ]
  },
  {
   "cell_type": "code",
   "execution_count": 28,
   "metadata": {
    "collapsed": true
   },
   "outputs": [],
   "source": [
    "import re\n",
    "def remove_extras(article):   \n",
    "    article = article.replace('▶','\\n▶').replace('\\t', '').replace('\\n', ' ')#.split('\\n')\n",
    "    article = re.sub(r'\\/\\/[a-zA-Z가-힣 \\n]+|{}|_flash_removeCallback\\(\\)', '', article)\n",
    "    article = re.sub(r'^\\[[가-힣 ]+\\]', '', article.strip())\n",
    "    article = re.sub(r'◀[가-힣 ]+▶', '', article)\n",
    "    article = re.sub(r'[가-힣 ]+기자', '', article)\n",
    "    article = re.sub(r'[가-힣 ]+MBC뉴스[가-힣 ]+.', '', article)\n",
    "    article = re.sub(r'[0-9가-힣=()· ]+\\([a-z0-9.]+@mbc.co.kr(.*)', '', article)\n",
    "    \n",
    "    article = re.sub(r'\\[저작권자(.*)', '', article)\n",
    "\n",
    "\n",
    "    article = article.replace('\\n', ' ')\n",
    "    return article"
   ]
  },
  {
   "cell_type": "code",
   "execution_count": 29,
   "metadata": {},
   "outputs": [
    {
     "name": "stdout",
     "output_type": "stream",
     "text": [
      "  더불어민주당에서는 문재인 전 대표의 전두환 표창 발언 등을 두고 대선주자 간 공방이 격해지고 있습니다.  자유한국당은 오늘 4명의 본 경선 진출자를 확정하는 2차 컷오프 결과를 공개합니다.가 보도합니다.     더불어민주당 문재인 전 대표는 광주를 방문해 일자리 창출과 산업단지 유치 등의 지역 맞춤형 공약을 내걸고 이른바 호남 홀대론을 해소하겠다고 밝혔습니다.  안희정 충남지사는 10년을 일하면 1년을 유급 안식년으로 도입하겠다는 전 국민 안식제를 거듭 강조했고, 광주 일정을 마친 이재명 성남시장도 서울로 돌아와 기독계 인사 등을 만나 지지를 당부했습니다.  순회 경선 투표 일정을 코앞에 두고 민주당 대선주자들의 장외 신경전도 더욱 치열해졌습니다.  안 지사와 이 시장 측은, 문 전 대표가 어제 밝힌 전두환 전 대통령의 표창 발언을 지적하며 \"문 전 대표의 역사관이 우려스럽다\"며 날을 세웠습니다.  이에 문 전 대표는 광주 시민에게 5.18은 너무나 깊은 상처여서 아직도 고통이 느껴지는 예민한 문제라는 것을 실감했다며, 그러나 자신의 발언을 악의적인 공격거리로 삼는 것은 심하다고 반발했습니다.  ==============================  자유한국당은 오늘 오후 본 경선 진출자 4명을 압축해 발표합니다.  한국당은 김진태·안상수·원유철 의원과 이인제 전 최고위원, 홍준표, 김관용 지사 등 1차 컷오프를 통과한 6명의 주자들을 대상으로 여론조사를 실시해 4명의 후보를 선정합니다.   \n"
     ]
    }
   ],
   "source": [
    "print(remove_extras(df['article'][16]))"
   ]
  },
  {
   "cell_type": "code",
   "execution_count": 30,
   "metadata": {},
   "outputs": [
    {
     "data": {
      "text/plain": [
       "0        어느덧 낮과 밤의 길이가 같아진다는 절기 춘분인데요.  봄의 절기답게 낮 동안에는 ...\n",
       "1        종일 미세먼지로 답답했는데 남부지방은 봄비가 내리면서 미세먼지가 일시 옅어지고 있습...\n",
       "2           제주 성산포에서 배로 10~20분 남짓한 거리, 한 해 2백만 명 넘는 관광객...\n",
       "3          불이 난 아파트에서 주민들을 대피시키고 숨진 60대 경비원의 안타까운 사연이 알...\n",
       "4          세계 최대 육가공품 수출국인 브라질에서 썩은 고기를 유통시킨 회사들이 무더기로 ...\n",
       "5          정치권 소식입니다.  다음 주 광주 경선에 대비해 현지를 찾은 문재인 전 더불어...\n",
       "6          자유한국당 대선 경선에 나설 후보는 4명으로 압축됐습니다.  최종 후보는 지역순...\n",
       "7          지난달 생산자 물가가 또 올라, 7개월 연속 상승을 기록했습니다.  생산자 물가...\n",
       "8          혹시 콩고기라고 들어보셨습니까?  이 콩 단백질을 이용해 고기 맛이 나도록 만든...\n",
       "9        연중 최고가를 경신하던 코스피는 외국인과 기관의 동반 매도 공세에 하락폭을 점차 확...\n",
       "10         지난주 금요일부터 전국 대부분 지역에 깔렸던 미세먼지가 오늘(20일) 절정을 이...\n",
       "11       계절을 한 달가량 앞설 정도로 포근한데요.  미세먼지 때문에 마음 편히 바깥활동 하...\n",
       "12         박근혜 전 대통령의 검찰출두가 하루 앞으로 다가왔습니다.  변호인단 수백 개의 ...\n",
       "13         박근혜 전 대통령의 검찰 소환을 하루 앞둔 오늘, 삼성동 자택은 긴박하게 움직이...\n",
       "14       이르면 모레 세월호 인양이 시도됩니다.들을 만나 \"오는 22일 오전 6시에 기상예보...\n",
       "15         국민의당과 바른정당 대선 주자들은 각각 당내 경선 TV토론회에서 정치 현안을 놓...\n",
       "16         더불어민주당에서는 문재인 전 대표의 전두환 표창 발언 등을 두고 대선주자 간 공...\n",
       "17         박근혜 전 대통령의 검찰 출석이 이제 하루 앞으로 다가왔습니다.  박 전 대통령...\n",
       "18       우리 정부가 사드 배치 결정 이후 중국이 취한 일련의 경제적 조치와 관련해 세계무역...\n",
       "19         검찰이 박근혜 전 대통령의 뇌물수수 혐의 입증을 위한 대기업 수사에 속도를 높이...\n",
       "20         봄기운이 완연한 미국 서부.  반면 동북부는 전례 없는 3월 한파로 계절이 역주...\n",
       "21          춘분인 오늘도 예년보다 포근하지만, 전국 곳곳에서 미세먼지가 기승을 부리고 있...\n",
       "22         도널드 트럼프 미국 대통령은 북한 김정은이 매우 나쁘게 행동한다고 비판했습니다....\n",
       "23         검찰이 박근혜 전 대통령의 뇌물수수 혐의 입증을 위한 대기업 수사에 속도를 높이...\n",
       "24          시진핑 중국 국가 주석과 틸러슨 미 국무장관이 다음 달 미·중 정상회담을 조율...\n",
       "25         김정남 암살에 관여한 공범이 몇 명 더 있고 이 가운데 주요 인물도 있다고 말레...\n",
       "26         한·중·일을 방문한 미국 틸러슨 장관이 \"전략적 인내는 끝났다\"고 대북 경고한 ...\n",
       "27          박 전 대통령의 삼성동 자택에는 다시 긴장감이 고조되고 있습니다.  변호사들이...\n",
       "28         미국에서는 다시 대북 선제타격론이 불거졌습니다.  공화당 소속 하원의 정보위원장...\n",
       "29         박근혜 전 대통령의 검찰 출두가 하루 앞으로 다가왔습니다.  변호인단은 수백 개...\n",
       "                               ...                        \n",
       "64393    김희범 전 문화체육관광부 1차관이 참고인 신분으로 소환돼 현재, 특검의 조사를 받고...\n",
       "64394    경기도 포천에서 폐사한 고양이 두 마리가 AI 바이러스에 감염된 것으로 확인됐습니다...\n",
       "64395    올해 마지막 날인 오늘, 서울 광화문 광장에서 '박근혜 대통령 즉각 퇴진'을 요구하...\n",
       "64396    특검이 이화여대 류철균 교수를 업무방해 혐의로 긴급 체포해 조사하고 있습니다. 최순...\n",
       "64397    올해 마지막 날인 오늘 추위가 차츰 누그러지고 있습니다.현재 서울의 기온이 4도, ...\n",
       "64398    배우자가 있어야 노후대비도 잘한다는 설문조사 결과가 나왔습니다.보건복지부가 지난 8...\n",
       "64399    증시에서 '개미투자자'로 불리는 개인투자자의 주식거래가 3년 만에 감소세로 돌아섰습...\n",
       "64400    고병원성 조류 인플루엔자, AI의 여파로 한국에서 달걀 부족과 달걀값 폭등세가 이어...\n",
       "64401    문형표 전 복지부 장관이 삼성합병을 위해 국민연금에 압력을 행사한 혐의로 구속됐습니...\n",
       "64402                                                     \n",
       "64403    특검팀이 정유라 씨가 이화여대 재학 시절 특혜를 받은 의혹과 관련해 류철균 이화여대...\n",
       "64404    삼성 합병 의혹과 관련해 특검이 이르면 다음 주 이재용 삼성전자 부회장을 소환할 전...\n",
       "64405    새해 복 많이 받으시라는 인사를 나눈 게 엊그제 같은데, 이제 몇 시간 뒤면 201...\n",
       "64406    정치권도 격동의 연속이었습니다. 국민의당 창당이 여의도 새해를 달궜고, 이어 공천 ...\n",
       "64407    그 어느 때보다 이슈가 넘치고 변화에 숨 가빴던 2016년입니다. 올해의 사건과 인...\n",
       "64408    조금이라도 빨리 해돋이를 보려고 벌써부터 부지런히 움직이시는 분들도 많다고 합니다....\n",
       "64409    올해 마지막 해는 저물었고, 이제 몇 시간 뒤면 2017년 첫해가 밝아올 텐데요.다...\n",
       "64410    보신 것처럼 올해는 온 국민을 충격에 빠뜨린 각종 사건, 사고로 얼룩진 한해였습니다...\n",
       "64411    이처럼 올해가 어느 해보다도 더 다사다난했기 때문일까요?정치인의 한 마디, 영화 속...\n",
       "64412    이번엔 국제분야를 되돌아보겠습니다.2016년 지구촌을 뒤흔든 양대 키워드는 '트럼프...\n",
       "64413    서울 대한문 광장과 청계천 광장에서는 탄핵 반대 집회가 열렸습니다.태극기를 들고 집...\n",
       "64414    영화 속 주인공이 되어보고 싶단 생각, 한 번쯤은 해보셨을 겁니다.이제는 가상현실,...\n",
       "64415    사상 처음으로 포유류인 고양이가 고병원성 AI 확진 판정을 받았습니다. 사람으로 옮...\n",
       "64416    오늘 열 번째 촛불집회 참가자들은 종이배를 접고 헌법재판소에 엽서를 쓰면서 새해엔 ...\n",
       "64417    새해를 앞둔 지금 서울 광화문 광장에선 '대통령 즉각 퇴진'을 외치는 열 번째 촛불...\n",
       "64418    달라지는 것들 또 있습니다.대기 오염의 주범으로 꼽히는 낡은 경유차. 내일부터는 서...\n",
       "64419    2017년 새해, 바로 내일부터 우리 생활과 밀접한 분야에서 달라지는 것들이 참 많...\n",
       "64420    도심 고층빌딩의 회색 벽면은 삭막하다는 인상을 주죠.이런 회색빛 벽면을 화려한 페인...\n",
       "64421    어느덧 2016년 마지막 밤입니다.새해가 시작되는 내일 아침에는 서해안과 내륙 일부...\n",
       "64422    정부는 올해 경제성장률 목표를 애초엔 3.1%로 잡았습니다.하지만 2.8%로 목표치...\n",
       "Name: article, Length: 64423, dtype: object"
      ]
     },
     "execution_count": 30,
     "metadata": {},
     "output_type": "execute_result"
    }
   ],
   "source": [
    "df['article']=df['article'].apply(lambda x: remove_extras(x))\n",
    "df['article']"
   ]
  },
  {
   "cell_type": "code",
   "execution_count": 31,
   "metadata": {
    "collapsed": true
   },
   "outputs": [],
   "source": [
    "counts=df.groupby('section').size()\n",
    "sorted_counts=counts.sort_values(ascending=False)"
   ]
  },
  {
   "cell_type": "code",
   "execution_count": 32,
   "metadata": {},
   "outputs": [
    {
     "data": {
      "text/plain": [
       "section\n",
       "사회         22250\n",
       "세계         15256\n",
       "경제         12085\n",
       "정치         10840\n",
       "종합          3044\n",
       "스포츠          615\n",
       "문화연예         227\n",
       "기타            76\n",
       "건강과학          20\n",
       "날씨             6\n",
       "통일외교           2\n",
       "엠빅블로그          1\n",
       "스포츠다이어리        1\n",
       "dtype: int64"
      ]
     },
     "execution_count": 32,
     "metadata": {},
     "output_type": "execute_result"
    }
   ],
   "source": [
    "sorted_counts"
   ]
  },
  {
   "cell_type": "code",
   "execution_count": 33,
   "metadata": {
    "collapsed": true
   },
   "outputs": [],
   "source": [
    "df.to_pickle('mbc_all.pkl')"
   ]
  },
  {
   "cell_type": "code",
   "execution_count": 16,
   "metadata": {},
   "outputs": [
    {
     "data": {
      "text/plain": [
       "Index         2360328\n",
       "article    1181572465\n",
       "author       28497751\n",
       "date         19767747\n",
       "section      29771250\n",
       "title        59625664\n",
       "sec_idx       2360328\n",
       "dtype: int64"
      ]
     },
     "execution_count": 16,
     "metadata": {},
     "output_type": "execute_result"
    }
   ],
   "source": [
    "df.memory_usage(deep=True)"
   ]
  },
  {
   "cell_type": "code",
   "execution_count": null,
   "metadata": {
    "collapsed": true
   },
   "outputs": [],
   "source": []
  }
 ],
 "metadata": {
  "kernelspec": {
   "display_name": "Python 3",
   "language": "python",
   "name": "python3"
  },
  "language_info": {
   "codemirror_mode": {
    "name": "ipython",
    "version": 3
   },
   "file_extension": ".py",
   "mimetype": "text/x-python",
   "name": "python",
   "nbconvert_exporter": "python",
   "pygments_lexer": "ipython3",
   "version": "3.5.2"
  }
 },
 "nbformat": 4,
 "nbformat_minor": 1
}
