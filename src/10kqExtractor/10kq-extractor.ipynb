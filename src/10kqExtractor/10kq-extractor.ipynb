{
 "cells": [
  {
   "cell_type": "code",
   "execution_count": 49,
   "id": "f6326580-f94f-4bf6-9dfa-cf66cc2b7bcd",
   "metadata": {},
   "outputs": [],
   "source": [
    "from bs4 import BeautifulSoup\n",
    "import requests"
   ]
  },
  {
   "cell_type": "code",
   "execution_count": 50,
   "id": "e4c57d2c-036d-447a-898e-a50eeee6e640",
   "metadata": {},
   "outputs": [],
   "source": [
    "url = \"https://www.sec.gov/Archives/edgar/data/1318605/000095017022000796/tsla-20211231.htm\""
   ]
  },
  {
   "cell_type": "code",
   "execution_count": 51,
   "id": "43b26fb7-905d-4b6c-bbf1-2a20338e234d",
   "metadata": {},
   "outputs": [],
   "source": [
    "headers = {\n",
    "    'User-Agent': 'osslab manager@osslab.com',\n",
    "    'Accept-Encoding': 'gzip, deflate',\n",
    "    'Host': 'www.sec.gov'  # This is another valid field\n",
    "}    "
   ]
  },
  {
   "cell_type": "code",
   "execution_count": 52,
   "id": "16218f93-41d4-462f-a5ff-914090728be5",
   "metadata": {},
   "outputs": [],
   "source": [
    "response = requests.get(url, headers=headers)"
   ]
  },
  {
   "cell_type": "code",
   "execution_count": 53,
   "id": "96421b0a-9ebb-42a7-8c86-d5fbd7ed08c3",
   "metadata": {},
   "outputs": [],
   "source": [
    "from extractor import extract_content, fast_split_on_tag, split_on_tag"
   ]
  },
  {
   "cell_type": "code",
   "execution_count": 54,
   "id": "ee5537d0-ee96-41e7-8782-54b202e8bc53",
   "metadata": {},
   "outputs": [],
   "source": [
    "if response.ok:\n",
    "    soup = BeautifulSoup(response.text, 'html.parser')\n",
    "    tags = soup.find_all('a', href=True, attrs={'href': '#'})"
   ]
  },
  {
   "cell_type": "code",
   "execution_count": 55,
   "id": "c984a208-023b-4d91-9948-8ffbfb3da80d",
   "metadata": {},
   "outputs": [],
   "source": [
    "convert_table_of_contents(soup)"
   ]
  },
  {
   "cell_type": "code",
   "execution_count": 78,
   "id": "155da3b2-d883-40a0-9e1d-c8f67cd2b623",
   "metadata": {},
   "outputs": [],
   "source": [
    "import copy\n",
    "import re\n",
    "\n",
    "def test_split_on_tag(soup, block_tag, split_tag, attr=None):\n",
    "    \n",
    "    for block in soup.find_all(block_tag):\n",
    "        splits = block.find_all(split_tag)\n",
    "        print(len(splits))\n",
    "        if len(splits) > 0:\n",
    "            for i, split in enumerate(splits):\n",
    "                next_split_index = i + 1 if i+1 < len(splits) else None\n",
    "                next_split = splits[next_split_index] if next_split_index is not None else None\n",
    "\n",
    "                split_parent = split.parent\n",
    "                \n",
    "                if split_tag == \"h2\":\n",
    "                    print(\"split_parent: \", split_parent.name)    \n",
    "                new_tag = copy.copy(split_parent)\n",
    "                new_tag.clear()\n",
    "\n",
    "                index = split_parent.index(split)\n",
    "                next_index = split_parent.index(next_split) if next_split is not None else None\n",
    "                print(index, next_index)\n",
    "                for element in split_parent.contents[index + 1 : next_index]:                         \n",
    "                    element = element.extract()\n",
    "                    new_tag.append(element)\n",
    "                    print(\"new_tag\", new_tag)\n",
    "\n",
    "                split = split.extract()\n",
    "                print(\"extracted split\", split)\n",
    "                split_parent.insert_before(new_tag)\n",
    "                print(\"split_parent\", split_parent)\n",
    "                if split_parent == block:\n",
    "                    if attr is not None:\n",
    "                        new_tag[attr] = re.sub(\"\\\\s+\", \" \", split.get_text()).strip()\n",
    "                    #break\n",
    "\n",
    "                else: split_parent.insert_after(split)\n",
    "\n"
   ]
  },
  {
   "cell_type": "code",
   "execution_count": 100,
   "id": "9fb43be0-e700-493f-a07e-8787c1683fcc",
   "metadata": {},
   "outputs": [],
   "source": [
    "def split_on_tag(soup, block_tag, split_tag, attr=None):\n",
    "    \"\"\"Split HTML tree blocks based on split tag.\"\"\"\n",
    "    for block in soup.find_all(block_tag):\n",
    "        splits = (s for s in block.children if s.name == split_tag)\n",
    "        next_split = None\n",
    "        for split in splits:\n",
    "            # Try to get the next split element, but don't consume the generator yet\n",
    "            #try:\n",
    "            #    next_split = next(splits)\n",
    "            #except StopIteration:\n",
    "            #    break\n",
    "\n",
    "            split_parent = split.parent\n",
    "            new_tag = copy.copy(split_parent)\n",
    "            new_tag.clear()\n",
    "\n",
    "            index = split_parent.index(split)\n",
    "            #next_index = split_parent.index(next_split) if next_split is not None else None\n",
    "\n",
    "            for element in split_parent.contents[index + 1:]:\n",
    "                print(element)\n",
    "                if element.name == split_tag:\n",
    "                    break  \n",
    "                else:\n",
    "                    element = element.extract()\n",
    "                    new_tag.append(element)\n",
    "                    print(\"new_tag\", new_tag)\n",
    "\n",
    "            split = split.extract()\n",
    "            print(\"extracted split\", split)            \n",
    "            split_parent.insert_after(new_tag)\n",
    "            print(\"split_parent\", split_parent)\n",
    "            if split_parent == block and attr is not None:\n",
    "                new_tag[attr] = re.sub(\"\\\\s+\", \" \", split.get_text()).strip()\n",
    "\n",
    "            if split_parent != block:\n",
    "                split_parent.insert_after(split)"
   ]
  },
  {
   "cell_type": "code",
   "execution_count": 102,
   "id": "c214f094-9591-43bb-9c50-e49eb5772874",
   "metadata": {},
   "outputs": [
    {
     "name": "stdout",
     "output_type": "stream",
     "text": [
      "<html><body><h2>item1</h2><p>test1</p><p>test1</p><p>test1</p><h2>item3</h2><p>test3</p><p>test3</p><p>test3</p><p>test3</p><h2>item4</h2><p>test4</p><p>test4</p><p>test4</p><p>test4</p><p>test4</p><h2>item5</h2><p>test5</p><p>test5</p><p>test5</p><p>test5</p><p>test5</p></body></html>\n",
      "final <html><body><h2>item1</h2><p>test1</p><p>test1</p><p>test1</p><h2>item3</h2><p>test3</p><p>test3</p><p>test3</p><p>test3</p><h2>item4</h2><p>test4</p><p>test4</p><p>test4</p><p>test4</p><p>test4</p><h2>item5</h2><p>test5</p><p>test5</p><p>test5</p><p>test5</p><p>test5</p></body></html>\n"
     ]
    }
   ],
   "source": [
    "html = \"<h2>item1</h2><p>test1</p><p>test1</p><p>test1</p><h2>item3</h2><p>test3</p><p>test3</p><p>test3</p><p>test3</p><h2>item4</h2><p>test4</p><p>test4</p><p>test4</p><p>test4</p><p>test4</p><h2>item5</h2><p>test5</p><p>test5</p><p>test5</p><p>test5</p><p>test5</p>\"\n",
    "soup = BeautifulSoup(html, \"lxml\")\n",
    "print(soup)\n",
    "split_on_tag(soup, \"html\", \"h2\", \"section-h2\")\n",
    "print(\"final\", soup)"
   ]
  },
  {
   "cell_type": "code",
   "execution_count": null,
   "id": "13ac16d4-b0e1-472b-9d55-37f8df2b6d24",
   "metadata": {},
   "outputs": [],
   "source": []
  }
 ],
 "metadata": {
  "kernelspec": {
   "display_name": "Python 3 (ipykernel)",
   "language": "python",
   "name": "python3"
  },
  "language_info": {
   "codemirror_mode": {
    "name": "ipython",
    "version": 3
   },
   "file_extension": ".py",
   "mimetype": "text/x-python",
   "name": "python",
   "nbconvert_exporter": "python",
   "pygments_lexer": "ipython3",
   "version": "3.10.6"
  }
 },
 "nbformat": 4,
 "nbformat_minor": 5
}
